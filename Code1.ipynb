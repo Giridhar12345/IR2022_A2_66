{
  "cells": [
    {
      "cell_type": "code",
      "execution_count": 104,
      "metadata": {
        "colab": {
          "base_uri": "https://localhost:8080/"
        },
        "id": "okg5yKykXt8y",
        "outputId": "ac8b63e9-2163-43e5-cd71-64acdd1c63c5"
      },
      "outputs": [
        {
          "output_type": "stream",
          "name": "stdout",
          "text": [
            "File Name                                             Modified             Size\n",
            "Humor,Hist,Media,Food/                         2022-02-08 11:06:20            0\n",
            "Humor,Hist,Media,Food/apsnet.txt               2006-01-01 13:21:56         3620\n",
            "Humor,Hist,Media,Food/basehead.txt             2005-06-10 09:45:26        38319\n",
            "Humor,Hist,Media,Food/c0dez.txt                2001-03-01 03:23:46        63056\n",
            "Humor,Hist,Media,Food/chickenheadbbs.txt       2004-07-18 17:37:12        22139\n",
            "Humor,Hist,Media,Food/cybrtrsh.txt             2000-11-21 05:58:34        37385\n",
            "Humor,Hist,Media,Food/dalive                   2000-07-01 23:57:48         5273\n",
            "Humor,Hist,Media,Food/deadlysins.txt           2003-01-17 15:03:32        10747\n",
            "Humor,Hist,Media,Food/draxamus.txt             2005-06-28 07:51:20         4235\n",
            "Humor,Hist,Media,Food/exidy.txt                2002-11-01 02:37:50         6273\n",
            "Humor,Hist,Media,Food/exylic.txt               2005-09-20 10:50:04         4650\n",
            "Humor,Hist,Media,Food/golnar.txt               2000-04-05 00:16:52        15990\n",
            "Humor,Hist,Media,Food/hack7.txt                2001-07-03 04:43:58        52648\n",
            "Humor,Hist,Media,Food/hackingcracking.txt      2007-06-26 09:08:12        87956\n",
            "Humor,Hist,Media,Food/hackmorality.txt         2001-10-16 11:57:18        83627\n",
            "Humor,Hist,Media,Food/happyhack.txt            2001-07-03 04:54:34        10796\n",
            "Humor,Hist,Media,Food/hermsys.txt              2001-11-07 05:57:24         2348\n",
            "Humor,Hist,Media,Food/heroic.txt               2006-01-17 03:57:18         2027\n",
            "Humor,Hist,Media,Food/iremember                2000-07-02 00:02:40         3093\n",
            "Humor,Hist,Media,Food/jayjay.txt               2002-04-26 09:12:06         7505\n",
            "Humor,Hist,Media,Food/jimhood.txt              2002-02-23 12:32:10         9846\n",
            "Humor,Hist,Media,Food/jon.txt                  2001-10-07 16:27:16         4822\n",
            "Humor,Hist,Media,Food/kilroy                   2000-07-02 04:06:50         2929\n",
            "Humor,Hist,Media,Food/lansing.txt              2006-01-01 15:34:34         5992\n",
            "Humor,Hist,Media,Food/lifeonledge.txt          2004-12-29 07:29:32        19195\n",
            "Humor,Hist,Media,Food/lipkovits.txt            2005-05-02 15:15:36        13525\n",
            "Humor,Hist,Media,Food/mindvox                  2000-01-10 08:01:28        66115\n",
            "Humor,Hist,Media,Food/minn.txt                 2001-01-08 08:41:12        21622\n",
            "Humor,Hist,Media,Food/modemwld.txt             2001-01-08 08:34:46        11323\n",
            "Humor,Hist,Media,Food/mog-history              2000-06-28 11:44:58        25260\n",
            "Humor,Hist,Media,Food/namaste.txt              2004-10-30 09:31:38         3707\n",
            "Humor,Hist,Media,Food/nameisreo.txt            2000-07-11 02:43:34        22043\n",
            "Humor,Hist,Media,Food/necropls.txt             2001-09-05 16:26:36         8134\n",
            "Humor,Hist,Media,Food/netmask.txt              1999-11-12 20:04:24         4777\n",
            "Humor,Hist,Media,Food/onan.txt                 2006-12-12 06:14:06         8337\n",
            "Humor,Hist,Media,Food/pat.txt                  2001-06-20 00:44:28         6049\n",
            "Humor,Hist,Media,Food/phxbbs-m.txt             2004-08-04 20:13:56        36260\n",
            "Humor,Hist,Media,Food/planetzero.txt           2003-10-09 05:47:02         6412\n",
            "Humor,Hist,Media,Food/proudlyserve.txt         2002-02-28 01:14:36        20578\n",
            "Humor,Hist,Media,Food/radexposed.txt           2001-05-17 12:03:08        12368\n",
            "Humor,Hist,Media,Food/reeves.txt               2004-01-12 07:17:24        17141\n",
            "Humor,Hist,Media,Food/sawyer.txt               2002-10-25 09:40:08         8981\n",
            "Humor,Hist,Media,Food/silverclaws.txt          2004-08-25 11:11:08         3872\n",
            "Humor,Hist,Media,Food/stressman.txt            2005-08-12 09:59:20        13862\n",
            "Humor,Hist,Media,Food/thievco.txt              2000-01-09 22:26:00        20677\n",
            "Humor,Hist,Media,Food/three.txt                2001-09-06 10:41:50         6749\n",
            "Humor,Hist,Media,Food/ukunderg.txt             2004-08-06 17:32:52        23530\n",
            "Humor,Hist,Media,Food/whatbbs                  2001-11-06 02:17:28         4816\n",
            "Humor,Hist,Media,Food/yuban.txt                2003-01-20 03:33:42         5465\n",
            "Humor,Hist,Media,Food/trekfume.txt             2002-05-30 10:47:04         3648\n",
            "Humor,Hist,Media,Food/trekwes.hum              1999-08-01 22:45:54         6636\n",
            "Humor,Hist,Media,Food/trukdeth.txt             1999-08-01 22:45:56         5807\n",
            "Humor,Hist,Media,Food/truthlsd.hum             1999-08-01 22:45:54        17379\n",
            "Humor,Hist,Media,Food/truths.hum               1999-08-01 22:45:54         3072\n",
            "Humor,Hist,Media,Food/t-shirt.hum              1999-08-01 22:45:50         4859\n",
            "Humor,Hist,Media,Food/turbo.hum                1999-08-01 22:45:54         3154\n",
            "Humor,Hist,Media,Food/turing.shr               2002-06-19 09:43:50         4543\n",
            "Humor,Hist,Media,Food/twinkie.txt              1999-08-01 22:45:54         2745\n",
            "Humor,Hist,Media,Food/unochili.txt             2001-09-18 11:44:02         1745\n",
            "Humor,Hist,Media,Food/t_zone.jok               1999-08-01 22:45:46         9046\n",
            "Humor,Hist,Media,Food/univ.odd                 1999-08-01 22:45:58        10808\n",
            "Humor,Hist,Media,Food/urban.txt                1999-08-01 22:45:58        35283\n",
            "Humor,Hist,Media,Food/vaguemag.90s             1999-08-01 22:45:58         6806\n",
            "Humor,Hist,Media,Food/valujet.txt              2002-06-23 12:14:22        16176\n",
            "Humor,Hist,Media,Food/variety1.asc             1999-08-01 23:17:06        20711\n",
            "Humor,Hist,Media,Food/variety2.asc             1999-08-01 23:17:06        19371\n",
            "Humor,Hist,Media,Food/variety3.asc             1999-08-01 23:17:06        38121\n",
            "Humor,Hist,Media,Food/vegkill.txt              1999-08-01 23:17:08         3072\n",
            "Humor,Hist,Media,Food/voltron.hum              1999-08-01 22:45:54         2285\n",
            "Humor,Hist,Media,Food/vonthomp                 1999-08-01 23:17:10         1145\n",
            "Humor,Hist,Media,Food/wagon.hum                1999-08-01 22:45:54         6470\n",
            "Humor,Hist,Media,Food/waitress.txt             1999-08-01 22:45:58         4654\n",
            "Humor,Hist,Media,Food/washroom.txt             1999-08-01 22:45:58         3165\n",
            "Humor,Hist,Media,Food/wedding.hum              1999-08-01 22:45:54         1821\n",
            "Humor,Hist,Media,Food/weight.txt               1999-08-01 22:46:00         1519\n",
            "Humor,Hist,Media,Food/welfare                  1999-08-01 22:47:22         1948\n",
            "Humor,Hist,Media,Food/welfare.txt              1999-08-01 22:46:00         2023\n",
            "Humor,Hist,Media,Food/wetdream.hum             1999-08-01 22:45:54         3220\n",
            "Humor,Hist,Media,Food/who.txt                  1999-08-01 22:45:56         1297\n",
            "Humor,Hist,Media,Food/whoon1st.hum             1999-08-01 22:45:54         7680\n",
            "Humor,Hist,Media,Food/whoops.hum               1999-08-01 22:45:54         2448\n",
            "Humor,Hist,Media,Food/why-me.hum               1999-08-01 22:45:54         5700\n",
            "Humor,Hist,Media,Food/wimptest.txt             1999-08-01 22:46:00         9106\n",
            "Humor,Hist,Media,Food/wisconsi.txt             1999-09-29 21:20:40         6034\n",
            "Humor,Hist,Media,Food/wisdom                   1999-08-01 22:47:24         7009\n",
            "Humor,Hist,Media,Food/women.jok                1999-08-14 11:18:00         3197\n",
            "Humor,Hist,Media,Food/wood                     1999-08-01 23:16:58         3715\n",
            "Humor,Hist,Media,Food/woodbine.txt             1999-08-01 22:46:18         3510\n",
            "Humor,Hist,Media,Food/woodbugs.txt             1999-08-01 22:46:00         9008\n",
            "Humor,Hist,Media,Food/woodsmok.txt             1999-08-01 23:17:00         5522\n",
            "Humor,Hist,Media,Food/woolly_m.amm             1999-08-01 22:46:02         5448\n",
            "Humor,Hist,Media,Food/word.hum                 1999-08-01 22:45:56         2169\n",
            "Humor,Hist,Media,Food/wrdnws1.txt              1999-08-24 11:55:18         4841\n",
            "Humor,Hist,Media,Food/wrdnws2.txt              1999-08-24 11:55:34         4606\n",
            "Humor,Hist,Media,Food/wrdnws3.txt              1999-08-24 11:55:48         5037\n",
            "Humor,Hist,Media,Food/wrdnws4.txt              1999-08-24 11:56:00         4990\n",
            "Humor,Hist,Media,Food/wrdnws5.txt              1999-08-24 11:56:14         5064\n",
            "Humor,Hist,Media,Food/wrdnws6.txt              1999-08-24 11:56:28         5008\n",
            "Humor,Hist,Media,Food/wrdnws7.txt              1999-08-24 11:56:42         4819\n",
            "Humor,Hist,Media,Food/wrdnws8.txt              1999-08-24 11:56:54         4388\n",
            "Humor,Hist,Media,Food/wrdnws9.txt              1999-08-24 11:57:08         4872\n",
            "Humor,Hist,Media,Food/xibovac.txt              1999-08-01 22:46:02        78769\n",
            "Humor,Hist,Media,Food/xtermin8.hum             1999-08-01 22:45:56         5469\n",
            "Humor,Hist,Media,Food/y.txt                    1999-08-01 22:45:50         2553\n",
            "Humor,Hist,Media,Food/yjohncse.hum             1999-08-01 22:45:56         3945\n",
            "Humor,Hist,Media,Food/yogisays.txt             1999-08-01 22:46:00         2474\n",
            "Humor,Hist,Media,Food/yuppies.hum              1999-08-01 22:45:56         5656\n",
            "Humor,Hist,Media,Food/zen.txt                  1999-08-01 22:44:32         8448\n",
            "Humor,Hist,Media,Food/zgtoilet.txt             1999-08-01 22:46:02         5847\n",
            "Humor,Hist,Media,Food/zodiac.hum               1999-08-01 22:45:56         3122\n",
            "Humor,Hist,Media,Food/snipe.txt                1999-08-01 22:46:16         1920\n",
            "Humor,Hist,Media,Food/soccer.txt               1999-10-13 13:12:54         1450\n",
            "Humor,Hist,Media,Food/socecon.hum              1999-08-01 22:45:48        13541\n",
            "Humor,Hist,Media,Food/social.hum               1999-08-01 22:45:48         6441\n",
            "Humor,Hist,Media,Food/socks.drx                1999-08-01 22:46:20         3540\n",
            "Humor,Hist,Media,Food/solviets.hum             1999-08-01 22:45:48         2609\n",
            "Humor,Hist,Media,Food/some_hu.mor              1999-08-01 22:46:22         6505\n",
            "Humor,Hist,Media,Food/speling.msk              1999-08-01 22:47:24         4113\n",
            "Humor,Hist,Media,Food/spelin_r.ifo             1999-08-01 22:46:22         1464\n",
            "Humor,Hist,Media,Food/spider.hum               1999-08-01 22:45:48         1935\n",
            "Humor,Hist,Media,Food/spoonlis.txt             2000-10-10 00:44:16        15459\n",
            "Humor,Hist,Media,Food/spydust.hum              1999-08-01 22:45:48         4693\n",
            "Humor,Hist,Media,Food/squids.gph               1999-08-01 22:47:22         6603\n",
            "Humor,Hist,Media,Food/staff.txt                2000-06-05 07:30:14         2838\n",
            "Humor,Hist,Media,Food/standard.hum             1999-08-01 22:45:50         5894\n",
            "Humor,Hist,Media,Food/startrek.txt             1999-08-01 22:47:18         2104\n",
            "Humor,Hist,Media,Food/stereo.txt               1999-08-01 22:46:16         4988\n",
            "Humor,Hist,Media,Food/steroid.txt              1999-08-01 22:46:16         3080\n",
            "Humor,Hist,Media,Food/stone.hum                1999-08-01 22:45:50        24988\n",
            "Humor,Hist,Media,Food/strine.txt               1999-08-01 22:46:00        46263\n",
            "Humor,Hist,Media,Food/strsdiet.txt             1999-08-01 22:47:18         1513\n",
            "Humor,Hist,Media,Food/st_silic.txt             1999-08-01 22:45:58         5918\n",
            "Humor,Hist,Media,Food/studentb.txt             1999-08-01 22:47:18         4066\n",
            "Humor,Hist,Media,Food/subrdead.hum             1999-10-29 06:21:50        39636\n",
            "Humor,Hist,Media,Food/suicide2.txt             1999-08-01 22:44:34         9199\n",
            "Humor,Hist,Media,Food/sungenu.hum              1999-08-01 22:45:50         7919\n",
            "Humor,Hist,Media,Food/supermar.rul             1999-08-01 22:47:26         3129\n",
            "Humor,Hist,Media,Food/swearfrn.hum             2001-02-04 14:18:26         7100\n",
            "Humor,Hist,Media,Food/sysadmin.txt             1999-08-01 22:46:16        14090\n",
            "Humor,Hist,Media,Food/sysman.txt               1999-08-01 22:46:18         7128\n",
            "Humor,Hist,Media,Food/t-10.hum                 1999-08-01 22:45:50         2249\n",
            "Humor,Hist,Media,Food/takenote.jok             1999-08-01 22:45:48         2047\n",
            "Humor,Hist,Media,Food/talebeat.hum             1999-08-01 22:45:50        11975\n",
            "Humor,Hist,Media,Food/talkbizr.txt             1999-08-01 23:16:58        17815\n",
            "Humor,Hist,Media,Food/taping.hum               1999-08-01 22:45:50         5117\n",
            "Humor,Hist,Media,Food/tarot.txt                2001-02-04 14:18:54         6362\n",
            "Humor,Hist,Media,Food/teens.txt                1999-08-01 22:45:48         2875\n",
            "Humor,Hist,Media,Food/telecom.q                1999-08-01 22:47:18        16195\n",
            "Humor,Hist,Media,Food/televisi.hum             1999-08-01 22:45:50         5832\n",
            "Humor,Hist,Media,Food/televisi.txt             1999-08-01 22:46:16         6878\n",
            "Humor,Hist,Media,Food/temphell.jok             1999-08-01 22:47:22         1318\n",
            "Humor,Hist,Media,Food/terbear.txt              1999-08-01 22:45:48         6021\n",
            "Humor,Hist,Media,Food/termpoem.txt             1999-08-01 22:45:50         1725\n",
            "Humor,Hist,Media,Food/terms.hum                1999-08-01 22:45:02         7487\n",
            "Humor,Hist,Media,Food/test.hum                 1999-08-01 22:45:52         4982\n",
            "Humor,Hist,Media,Food/test.jok                 1999-08-01 22:45:02        10488\n",
            "Humor,Hist,Media,Food/test2.jok                1999-08-01 22:45:04         4927\n",
            "Humor,Hist,Media,Food/testchri.txt             1999-08-01 22:45:04         4230\n",
            "Humor,Hist,Media,Food/texican.dic              1999-08-01 22:45:50        18070\n",
            "Humor,Hist,Media,Food/texican.lex              1999-08-01 22:47:22        18069\n",
            "Humor,Hist,Media,Food/textgrap.hum             1999-08-01 22:45:52         2730\n",
            "Humor,Hist,Media,Food/tfepisod.hum             1999-08-01 22:45:52         5970\n",
            "Humor,Hist,Media,Food/tfpoems.hum              1999-08-01 22:45:52         1629\n",
            "Humor,Hist,Media,Food/thecube.hum              1999-08-01 22:45:52         5842\n",
            "Humor,Hist,Media,Food/the_math.hel             1999-08-01 22:45:52         5773\n",
            "Humor,Hist,Media,Food/thermite.ana             1999-08-01 22:45:54        11392\n",
            "Humor,Hist,Media,Food/tickmoon.hum             1999-08-01 22:45:52         8376\n",
            "Humor,Hist,Media,Food/timetr.hum               1999-08-01 22:45:52         6538\n",
            "Humor,Hist,Media,Food/tnd.1                    1999-08-01 22:47:22        27483\n",
            "Humor,Hist,Media,Food/top10.elf                1999-08-01 22:47:22          670\n",
            "Humor,Hist,Media,Food/top10.txt                1999-08-01 22:45:50        30008\n",
            "Humor,Hist,Media,Food/top10st1.txt             1999-09-30 11:48:44        28316\n",
            "Humor,Hist,Media,Food/top10st2.txt             1999-09-30 11:48:58        47880\n",
            "Humor,Hist,Media,Food/topten.hum               1999-10-29 06:22:20         5636\n",
            "Humor,Hist,Media,Food/transp.txt               1999-09-30 11:52:26         2908\n",
            "Humor,Hist,Media,Food/shorties.jok             1999-08-01 22:47:22        21952\n",
            "Humor,Hist,Media,Food/shrink.news              1999-08-01 22:47:20         1956\n",
            "Humor,Hist,Media,Food/shuttleb.hum             1999-08-01 22:45:48         2432\n",
            "Humor,Hist,Media,Food/signatur.jok             1999-08-01 22:46:20         9735\n",
            "Humor,Hist,Media,Food/sigs.txt                 1999-08-01 22:44:30        15038\n",
            "Humor,Hist,Media,Food/sinksub.txt              2000-10-10 01:21:24         3041\n",
            "Humor,Hist,Media,Food/skincat                  2001-07-25 13:08:56         8751\n",
            "Humor,Hist,Media,Food/skippy.hum               1999-08-01 22:45:48         5490\n",
            "Humor,Hist,Media,Food/skippy.txt               1999-10-06 20:15:26         6324\n",
            "Humor,Hist,Media,Food/slogans.txt              1999-10-13 12:44:42         2048\n",
            "Humor,Hist,Media,Food/smackjok.hum             1999-08-01 22:45:48        13056\n",
            "Humor,Hist,Media,Food/smartass.txt             1999-08-01 22:46:14         4956\n",
            "Humor,Hist,Media,Food/smiley.txt               1999-08-01 22:46:20         7530\n",
            "Humor,Hist,Media,Food/smokers.txt              1999-08-01 22:46:16         1832\n",
            "Humor,Hist,Media,Food/smurf_co.txt             1999-10-13 13:05:02        14751\n",
            "Humor,Hist,Media,Food/smurfkil.hum             1999-08-01 22:45:48        15072\n",
            "Humor,Hist,Media,Food/smurfs.cc                1999-08-01 22:46:20         3231\n",
            "Humor,Hist,Media,Food/puzzle.spo               1999-08-01 22:47:18         3754\n",
            "Humor,Hist,Media,Food/python_s.ong             1999-08-01 22:46:12         1221\n",
            "Humor,Hist,Media,Food/q.pun                    1999-08-01 23:17:10         7239\n",
            "Humor,Hist,Media,Food/quack26.txt              1999-08-01 23:17:10       102752\n",
            "Humor,Hist,Media,Food/quantum.jok              1999-08-01 22:47:20         4281\n",
            "Humor,Hist,Media,Food/quest.hum                1999-08-01 22:45:42        49489\n",
            "Humor,Hist,Media,Food/quick.jok                1999-08-01 22:47:20         8065\n",
            "Humor,Hist,Media,Food/quotes.bug               1999-08-01 22:47:22         2384\n",
            "Humor,Hist,Media,Food/quotes.jok               1999-08-01 22:47:22        16782\n",
            "Humor,Hist,Media,Food/quotes.txt               1999-08-01 22:47:22         4326\n",
            "Humor,Hist,Media,Food/rabbit.txt               1999-08-01 22:44:46         1793\n",
            "Humor,Hist,Media,Food/racist.net               1999-08-01 22:47:22        11117\n",
            "Humor,Hist,Media,Food/radiolaf.hum             1999-08-01 22:45:42         4754\n",
            "Humor,Hist,Media,Food/rapmastr.hum             1999-08-01 22:45:42         3332\n",
            "Humor,Hist,Media,Food/ratings.hum              1999-08-01 22:45:42         2317\n",
            "Humor,Hist,Media,Food/ratspit.hum              1999-08-01 22:45:42         2130\n",
            "Humor,Hist,Media,Food/raven.hum                1999-08-01 22:45:42         4064\n",
            "Humor,Hist,Media,Food/readme.bat               1999-08-01 22:44:46         6281\n",
            "Humor,Hist,Media,Food/reagan.hum               1999-08-01 22:45:42          962\n",
            "Humor,Hist,Media,Food/realest.txt              1999-08-01 22:46:18         3888\n",
            "Humor,Hist,Media,Food/reasons.txt              1999-08-01 22:45:34         3723\n",
            "Humor,Hist,Media,Food/rec.por                  1999-08-01 22:46:08         3576\n",
            "Humor,Hist,Media,Food/record_.gap              1999-08-01 22:44:50         4423\n",
            "Humor,Hist,Media,Food/reddwarf.sng             2000-06-04 18:36:08         1706\n",
            "Humor,Hist,Media,Food/reddye.hum               1999-08-01 22:45:44         3415\n",
            "Humor,Hist,Media,Food/red-neck.jks             2000-06-04 18:35:18         2352\n",
            "Humor,Hist,Media,Food/rednecks.txt             1999-08-01 22:46:18         3182\n",
            "Humor,Hist,Media,Food/relative.ada             1999-08-01 22:44:52         9059\n",
            "Humor,Hist,Media,Food/religion.txt             2002-05-30 10:47:04         9958\n",
            "Humor,Hist,Media,Food/renorthr.txt             2000-06-04 18:38:20         1374\n",
            "Humor,Hist,Media,Food/rent-a_cat               1999-08-01 22:47:20         4240\n",
            "Humor,Hist,Media,Food/rentals.hum              1999-08-01 22:45:44         3583\n",
            "Humor,Hist,Media,Food/report.hum               1999-08-01 22:45:44         1487\n",
            "Humor,Hist,Media,Food/residncy.jok             1999-08-01 22:44:52         4967\n",
            "Humor,Hist,Media,Food/resolutn.txt             2001-02-04 14:13:52         6175\n",
            "Humor,Hist,Media,Food/resrch_p.hra             1999-08-01 22:44:52         1398\n",
            "Humor,Hist,Media,Food/resrch_phrase            1999-08-01 22:47:20         1347\n",
            "Humor,Hist,Media,Food/revolt.dj                1999-08-01 22:44:52         2358\n",
            "Humor,Hist,Media,Food/rinaldos.law             1999-08-01 22:47:22         4852\n",
            "Humor,Hist,Media,Food/rinaldos.txt             1999-08-01 22:44:56         4077\n",
            "Humor,Hist,Media,Food/ripoffpc.hum             1999-08-01 22:45:44        13617\n",
            "Humor,Hist,Media,Food/roach.asc                1999-08-01 22:44:58         1006\n",
            "Humor,Hist,Media,Food/roadpizz.txt             1999-08-01 22:44:48         6593\n",
            "Humor,Hist,Media,Food/robot.tes                2000-06-04 18:43:44         3754\n",
            "Humor,Hist,Media,Food/rocking.hum              1999-08-01 22:45:44         7113\n",
            "Humor,Hist,Media,Food/rockmus.hum              1999-08-01 22:45:44        10320\n",
            "Humor,Hist,Media,Food/poopie.txt               2000-12-29 10:13:14         2604\n",
            "Humor,Hist,Media,Food/popconc.hum              1999-08-01 22:45:40         3025\n",
            "Humor,Hist,Media,Food/popmach                  1999-08-01 22:47:20         1010\n",
            "Humor,Hist,Media,Food/post.nuc                 2001-02-04 14:10:48         1480\n",
            "Humor,Hist,Media,Food/potty.txt                1999-08-01 22:46:10         5760\n",
            "Humor,Hist,Media,Food/pournell.spo             1999-08-01 22:46:10         4092\n",
            "Humor,Hist,Media,Food/prac1.jok                1999-08-01 22:46:14        52030\n",
            "Humor,Hist,Media,Food/prac2.jok                2000-10-10 19:12:10        46836\n",
            "Humor,Hist,Media,Food/prac3.jok                1999-08-01 22:46:16        50642\n",
            "Humor,Hist,Media,Food/prac4.jok                1999-08-01 22:46:20        27895\n",
            "Humor,Hist,Media,Food/pracjoke.txt             2000-10-10 19:12:34        18017\n",
            "Humor,Hist,Media,Food/practica.txt             2001-05-05 14:41:30       181387\n",
            "Humor,Hist,Media,Food/prawblim.hum             1999-08-01 22:45:40         3709\n",
            "Humor,Hist,Media,Food/prayer.hum               1999-08-01 22:45:40         1269\n",
            "Humor,Hist,Media,Food/primes.jok               1999-08-01 22:46:20         2493\n",
            "Humor,Hist,Media,Food/princess.brd             1999-08-01 22:47:18         8240\n",
            "Humor,Hist,Media,Food/problem.txt              1999-08-01 22:46:10         3532\n",
            "Humor,Hist,Media,Food/pro-fact.hum             1999-08-01 22:45:42        28670\n",
            "Humor,Hist,Media,Food/progrs.gph               1999-08-01 22:47:22        11264\n",
            "Humor,Hist,Media,Food/proof.met                1999-08-01 22:46:10         3453\n",
            "Humor,Hist,Media,Food/prooftec.txt             1999-08-01 22:46:12         1327\n",
            "Humor,Hist,Media,Food/proposal.jok             1999-08-01 22:46:12         3167\n",
            "Humor,Hist,Media,Food/psalm.reagan             1999-08-01 22:47:20         1042\n",
            "Humor,Hist,Media,Food/psalm23.txt              1999-08-01 22:46:12         1305\n",
            "Humor,Hist,Media,Food/psalm_nixon              1999-08-01 22:47:20          967\n",
            "Humor,Hist,Media,Food/psalm_re.aga             1999-08-01 22:46:12         1070\n",
            "Humor,Hist,Media,Food/psilaine.hum             1999-08-01 22:45:42        12522\n",
            "Humor,Hist,Media,Food/psycho.txt               1999-08-01 22:46:18         9682\n",
            "Humor,Hist,Media,Food/pukeprom.jok             1999-08-01 22:46:12         5737\n",
            "Humor,Hist,Media,Food/pun.txt                  1999-08-01 22:45:32        10183\n",
            "Humor,Hist,Media,Food/pure.mat                 1999-08-01 22:46:12         1848\n",
            "Humor,Hist,Media,Food/netnews.10               1999-08-01 22:46:02         1329\n",
            "Humor,Hist,Media,Food/newconst.hum             1999-08-01 22:45:36         4066\n",
            "Humor,Hist,Media,Food/newmex.hum               1999-08-01 22:45:36         2673\n",
            "Humor,Hist,Media,Food/news.hum                 1999-08-01 22:45:36         3365\n",
            "Humor,Hist,Media,Food/nigel.1                  1999-08-01 22:44:32         4725\n",
            "Humor,Hist,Media,Food/nigel.2                  1999-08-01 22:46:04         9431\n",
            "Humor,Hist,Media,Food/nigel.3                  1999-08-01 22:46:04         9668\n",
            "Humor,Hist,Media,Food/nigel.4                  1999-08-01 22:46:06         8845\n",
            "Humor,Hist,Media,Food/nigel.5                  1999-08-01 22:46:06         6722\n",
            "Humor,Hist,Media,Food/nigel.6                  1999-08-01 22:46:06         9980\n",
            "Humor,Hist,Media,Food/nigel.7                  1999-08-01 22:46:08         8226\n",
            "Humor,Hist,Media,Food/nigel.10                 1999-08-01 22:46:04        16096\n",
            "Humor,Hist,Media,Food/nigel10.txt              1999-08-01 22:44:36        16129\n",
            "Humor,Hist,Media,Food/nihgel_8.9               1999-08-01 22:44:42        16339\n",
            "Humor,Hist,Media,Food/normal.boy               2001-04-27 12:34:20         1152\n",
            "Humor,Hist,Media,Food/normalboy.txt            2001-03-30 11:12:18         1168\n",
            "Humor,Hist,Media,Food/nosuch_nasfic            1999-08-01 22:47:20         8377\n",
            "Humor,Hist,Media,Food/novel.hum                1999-08-01 22:45:36        17506\n",
            "Humor,Hist,Media,Food/nuke.hum                 1999-08-01 22:45:36        24434\n",
            "Humor,Hist,Media,Food/nukeplay.hum             1999-08-01 22:45:36         4096\n",
            "Humor,Hist,Media,Food/nukewar.txt              2000-09-03 08:03:04        43191\n",
            "Humor,Hist,Media,Food/nukwaste                 1999-08-01 22:46:20         5788\n",
            "Humor,Hist,Media,Food/number                   2000-09-03 08:05:18         3619\n",
            "Humor,Hist,Media,Food/number.killer            1999-08-01 22:47:20         7795\n",
            "Humor,Hist,Media,Food/number_k.ill             1999-08-01 22:44:44         7918\n",
            "Humor,Hist,Media,Food/nurds.hum                1999-08-01 22:45:36         2728\n",
            "Humor,Hist,Media,Food/nysucks.hum              1999-08-01 22:45:36         2184\n",
            "Humor,Hist,Media,Food/oam.nfo                  2001-01-09 00:24:00         1221\n",
            "Humor,Hist,Media,Food/oam-001.txt              2001-01-09 00:23:46         3538\n",
            "Humor,Hist,Media,Food/oasis                    1999-08-01 23:16:48         9163\n",
            "Humor,Hist,Media,Food/odd_to.obs               1999-08-01 22:46:20         3501\n",
            "Humor,Hist,Media,Food/office.txt               1999-08-01 22:45:30         2308\n",
            "Humor,Hist,Media,Food/ohandre.hum              1999-08-01 22:45:38         1514\n",
            "Humor,Hist,Media,Food/old.txt                  2001-02-04 14:09:52         4044\n",
            "Humor,Hist,Media,Food/oldeng.hum               1999-08-01 22:45:38         5091\n",
            "Humor,Hist,Media,Food/oldtime.sng              1999-08-01 23:16:48         7903\n",
            "Humor,Hist,Media,Food/one.par                  1999-08-01 22:46:20         3534\n",
            "Humor,Hist,Media,Food/onetoone.hum             1999-08-01 22:45:38        48581\n",
            "Humor,Hist,Media,Food/onetotwo.hum             1999-08-01 22:45:38        42026\n",
            "Humor,Hist,Media,Food/ookpik.hum               1999-08-01 22:45:38          981\n",
            "Humor,Hist,Media,Food/opinion.hum              1999-08-01 22:45:38         2320\n",
            "Humor,Hist,Media,Food/oracle.jok               1999-08-01 22:46:20         5268\n",
            "Humor,Hist,Media,Food/o-ttalk.hum              1999-08-01 22:45:38         5265\n",
            "Humor,Hist,Media,Food/ourfathr.txt             1999-08-01 22:46:06         1320\n",
            "Humor,Hist,Media,Food/outawork.erl             1999-08-01 22:47:24         7359\n",
            "Humor,Hist,Media,Food/oxymoron.jok             1999-08-01 22:46:20        10011\n",
            "Humor,Hist,Media,Food/oxymoron.txt             1999-08-01 23:16:50         1024\n",
            "Humor,Hist,Media,Food/ozarks.hum               1999-08-01 22:45:38         3467\n",
            "Humor,Hist,Media,Food/paddingurpapers.txt      2002-05-29 22:21:50         7561\n",
            "Humor,Hist,Media,Food/parabl.hum               1999-08-01 22:45:40         2503\n",
            "Humor,Hist,Media,Food/passage.hum              1999-08-01 22:45:40        26233\n",
            "Humor,Hist,Media,Food/peanuts.txt              1999-08-01 22:46:12         2442\n",
            "Humor,Hist,Media,Food/peatchp.hum              1999-08-01 22:45:40        32671\n",
            "Humor,Hist,Media,Food/pecker.txt               1999-08-01 22:46:14         2524\n",
            "Humor,Hist,Media,Food/pepsideg.txt             1999-08-01 22:46:10         5451\n",
            "Humor,Hist,Media,Food/phony.hum                1999-08-01 22:45:40         3062\n",
            "Humor,Hist,Media,Food/phorse.hum               1999-08-01 22:45:40         7229\n",
            "Humor,Hist,Media,Food/pickup.txt               1999-08-01 22:46:14        13006\n",
            "Humor,Hist,Media,Food/pipespec.txt             1999-08-01 22:46:14         2166\n",
            "Humor,Hist,Media,Food/pizzawho.hum             1999-08-01 22:45:40        14757\n",
            "Humor,Hist,Media,Food/planeget.hum             1999-08-01 22:45:40         6088\n",
            "Humor,Hist,Media,Food/p-law.hum                1999-08-01 22:45:38         1702\n",
            "Humor,Hist,Media,Food/pol-corr.txt             2000-12-29 10:08:10         2641\n",
            "Humor,Hist,Media,Food/polemom.txt              1999-08-01 22:46:10         2758\n",
            "Humor,Hist,Media,Food/poli.tics                1999-08-01 22:47:20         1006\n",
            "Humor,Hist,Media,Food/poli_t.ics               1999-08-01 22:46:10         1037\n",
            "Humor,Hist,Media,Food/polly_.new               1999-08-01 22:46:10         3446\n",
            "Humor,Hist,Media,Food/deep.txt                 1999-08-01 22:45:38         8419\n",
            "Humor,Hist,Media,Food/deterior.hum             1999-08-01 22:44:48         1787\n",
            "Humor,Hist,Media,Food/diesmurf.txt             2001-04-27 08:15:08         2805\n",
            "Humor,Hist,Media,Food/dieter.txt               1999-08-01 22:45:40         2933\n",
            "Humor,Hist,Media,Food/dingding.hum             1999-08-01 22:44:48         3543\n",
            "Humor,Hist,Media,Food/dirtword.txt             1999-08-01 22:45:00         4832\n",
            "Humor,Hist,Media,Food/disaster.hum             1999-08-01 22:44:48         2327\n",
            "Humor,Hist,Media,Food/disclmr.txt              2007-03-31 07:49:36         3312\n",
            "Humor,Hist,Media,Food/disclym.txt              2000-01-30 09:34:18         3312\n",
            "Humor,Hist,Media,Food/d-ned.hum                1999-08-01 22:44:46         3525\n",
            "Humor,Hist,Media,Food/docdict.txt              2000-02-26 08:12:58         8064\n",
            "Humor,Hist,Media,Food/doc-says.txt             2001-02-04 13:59:22         3072\n",
            "Humor,Hist,Media,Food/docspeak.txt             1999-08-01 22:45:44         3055\n",
            "Humor,Hist,Media,Food/doggun.sto               1999-08-01 22:44:48         7273\n",
            "Humor,Hist,Media,Food/donut.txt                1999-08-01 22:45:42         8939\n",
            "Humor,Hist,Media,Food/dover.poem               1999-08-01 22:46:10          881\n",
            "Humor,Hist,Media,Food/drinker.txt              1999-08-01 22:46:06         2657\n",
            "Humor,Hist,Media,Food/drinking.tro             1999-08-01 22:44:50         2435\n",
            "Humor,Hist,Media,Food/drinkrul.jok             1999-08-01 22:45:44         3144\n",
            "Humor,Hist,Media,Food/dromes.txt               2001-02-04 13:59:56         8281\n",
            "Humor,Hist,Media,Food/druggame.hum             1999-08-01 22:44:48         1990\n",
            "Humor,Hist,Media,Food/drunk.txt                1999-08-01 22:45:46         7064\n",
            "Humor,Hist,Media,Food/dthought.txt             1999-08-05 06:28:28         8507\n",
            "Humor,Hist,Media,Food/dubltalk.jok             1999-08-01 22:45:46         3771\n",
            "Humor,Hist,Media,Food/eandb.drx                1999-08-01 22:46:04         3224\n",
            "Humor,Hist,Media,Food/eatme.txt                2001-02-04 14:00:38         2059\n",
            "Humor,Hist,Media,Food/electric.txt             1999-08-01 22:46:04         2195\n",
            "Humor,Hist,Media,Food/element.jok              1999-08-01 22:46:04         1976\n",
            "Humor,Hist,Media,Food/elephant.fun             1999-08-01 22:46:04         5771\n",
            "Humor,Hist,Media,Food/elevator.fun             2001-04-27 09:19:12         3456\n",
            "Humor,Hist,Media,Food/engineer.hum             1999-08-01 22:44:48         2097\n",
            "Humor,Hist,Media,Food/english                  1999-08-01 23:17:06         9962\n",
            "Humor,Hist,Media,Food/engrhyme.txt             1999-08-01 23:17:06         1889\n",
            "Humor,Hist,Media,Food/enlightenment.txt        2002-05-30 10:47:04         2471\n",
            "Humor,Hist,Media,Food/enquire.hum              1999-08-01 22:44:48         7029\n",
            "Humor,Hist,Media,Food/epitaph                  1999-08-01 23:17:06         6822\n",
            "Humor,Hist,Media,Food/eskimo.nel               1999-08-01 22:46:14         8728\n",
            "Humor,Hist,Media,Food/exam.50                  1999-08-01 22:46:06         7620\n",
            "Humor,Hist,Media,Food/excuse.txt               1999-08-01 23:17:08         5120\n",
            "Humor,Hist,Media,Food/excuse30.txt             1999-08-01 23:17:08         7424\n",
            "Humor,Hist,Media,Food/excuses.txt              1999-08-01 22:46:06         3200\n",
            "Humor,Hist,Media,Food/failure.txt              1999-08-01 22:44:46         1844\n",
            "Humor,Hist,Media,Food/farsi.phrase             1999-08-01 22:46:20         1725\n",
            "Humor,Hist,Media,Food/farsi.txt                2000-08-26 09:02:44         1657\n",
            "Humor,Hist,Media,Food/fartinfo.txt             1999-08-01 22:46:06         8673\n",
            "Humor,Hist,Media,Food/fartting.txt             1999-08-01 22:46:06         3621\n",
            "Humor,Hist,Media,Food/fascist.txt              1999-08-01 22:46:06         8521\n",
            "Humor,Hist,Media,Food/fbipizza.txt             2002-07-11 07:50:36         2673\n",
            "Humor,Hist,Media,Food/fed.txt                  2000-10-31 04:04:16         3256\n",
            "Humor,Hist,Media,Food/feggaqui.txt             2000-12-17 19:49:44         2943\n",
            "Humor,Hist,Media,Food/fegg!int.txt             2000-12-17 19:49:30         2604\n",
            "Humor,Hist,Media,Food/feggmagi.txt             2000-12-17 19:49:56         3776\n",
            "Humor,Hist,Media,Food/female.jok               1999-08-01 22:44:54         2556\n",
            "Humor,Hist,Media,Food/figure_1.txt             2001-01-13 08:44:54         5400\n",
            "Humor,Hist,Media,Food/fireplacein.txt          2002-05-30 10:47:04         6737\n",
            "Humor,Hist,Media,Food/firstaid.inf             1999-08-01 22:47:24         4633\n",
            "Humor,Hist,Media,Food/firstaid.txt             1999-08-01 22:44:50         3589\n",
            "Humor,Hist,Media,Food/flattax.hum              1999-08-01 22:44:52         2940\n",
            "Humor,Hist,Media,Food/flowchrt                 2000-01-30 21:42:28         1611\n",
            "Humor,Hist,Media,Food/flowchrt.txt             1999-08-01 22:46:14         1421\n",
            "Humor,Hist,Media,Food/flux_fix.txt             2000-01-30 21:44:42        23989\n",
            "Humor,Hist,Media,Food/footfun.hum              1999-08-01 22:44:52          873\n",
            "Humor,Hist,Media,Food/free-cof.fee             2001-02-04 14:01:18         4522\n",
            "Humor,Hist,Media,Food/freshman.hum             1999-08-01 22:44:52         4019\n",
            "Humor,Hist,Media,Food/freudonseuss.txt         2001-03-30 11:04:24         3640\n",
            "Humor,Hist,Media,Food/from.hum                 1999-08-01 22:44:52         2461\n",
            "Humor,Hist,Media,Food/f_tang.txt               1999-08-01 22:45:34         5654\n",
            "Humor,Hist,Media,Food/fuck!.txt                1999-08-01 22:46:08         2944\n",
            "Humor,Hist,Media,Food/fuckyou2.txt             1999-08-01 22:45:42        11662\n",
            "Humor,Hist,Media,Food/fusion.sup               1999-08-01 22:46:08         6545\n",
            "Humor,Hist,Media,Food/fwksfun.hum              1999-08-01 22:44:54         6335\n",
            "Humor,Hist,Media,Food/gaiahuma                 1999-08-01 23:16:50         1759\n",
            "Humor,Hist,Media,Food/ganamembers.txt          2002-05-30 10:47:04         1369\n",
            "Humor,Hist,Media,Food/gas.txt                  1999-08-01 22:46:08        12567\n",
            "Humor,Hist,Media,Food/gd_guide.txt             1999-08-01 22:46:08         9508\n",
            "Humor,Hist,Media,Food/german.aut               1999-08-01 22:46:08         3154\n",
            "Humor,Hist,Media,Food/girlspeak.txt            2002-05-30 10:47:04         4643\n",
            "Humor,Hist,Media,Food/goforth.hum              1999-08-01 22:44:54         5681\n",
            "Humor,Hist,Media,Food/gohome.hum               1999-08-01 22:44:56         4456\n",
            "Humor,Hist,Media,Food/gown.txt                 1999-08-01 23:17:12         8291\n",
            "Humor,Hist,Media,Food/grail.txt                2007-03-31 07:49:36        59904\n",
            "Humor,Hist,Media,Food/grammar.jok              1999-08-01 22:46:08         3493\n",
            "Humor,Hist,Media,Food/grommet.hum              1999-08-01 22:44:56         3128\n",
            "Humor,Hist,Media,Food/grospoem.txt             1999-08-01 22:46:08        12333\n",
            "Humor,Hist,Media,Food/growth.txt               1999-08-01 23:17:12         2304\n",
            "Humor,Hist,Media,Food/hack                     1999-08-01 22:46:04         3226\n",
            "Humor,Hist,Media,Food/hacktest.txt             2007-03-31 07:49:36        20467\n",
            "Humor,Hist,Media,Food/harmful.hum              1999-08-01 22:44:56         3642\n",
            "Humor,Hist,Media,Food/headlnrs                 2001-01-05 08:03:42         4361\n",
            "Humor,Hist,Media,Food/hecomes.jok              1999-08-01 22:45:52         3213\n",
            "Humor,Hist,Media,Food/height.txt               1999-08-01 22:46:14          925\n",
            "Humor,Hist,Media,Food/hell.jok                 1999-08-01 22:44:56         3862\n",
            "Humor,Hist,Media,Food/hell.txt                 2001-01-05 08:05:30         1307\n",
            "Humor,Hist,Media,Food/herb!.hum                1999-08-01 22:44:56         6784\n",
            "Humor,Hist,Media,Food/hi.tec                   1999-08-01 22:44:58         9750\n",
            "Humor,Hist,Media,Food/hierarch.txt             1999-09-02 11:09:02         1414\n",
            "Humor,Hist,Media,Food/hilbilly.wri             1999-08-01 22:46:14         2432\n",
            "Humor,Hist,Media,Food/history2.oop             2000-12-28 11:45:22         8181\n",
            "Humor,Hist,Media,Food/hitler.59                1999-08-01 22:46:14         5201\n",
            "Humor,Hist,Media,Food/hitler.txt               2002-02-10 03:53:48         4199\n",
            "Humor,Hist,Media,Food/hitlerap.txt             1999-08-01 22:46:14         2076\n",
            "Humor,Hist,Media,Food/hoonsrc.txt              1999-09-21 20:15:46         3188\n",
            "Humor,Hist,Media,Food/hoosier.txt              1999-08-01 22:46:16         2442\n",
            "Humor,Hist,Media,Food/horoscop.jok             1999-08-01 22:45:00         3206\n",
            "Humor,Hist,Media,Food/horoscop.txt             1999-08-01 22:46:16         2584\n",
            "Humor,Hist,Media,Food/horoscope.txt            2002-05-30 10:47:04         2993\n",
            "Humor,Hist,Media,Food/hotel.txt                1999-08-03 11:16:04         5464\n",
            "Humor,Hist,Media,Food/hotnnot.hum              1999-08-01 22:45:56         9159\n",
            "Humor,Hist,Media,Food/how.bugs.breakd          2001-04-27 11:30:42         4864\n",
            "Humor,Hist,Media,Food/how2bgod.txt             1999-10-29 11:38:52         6079\n",
            "Humor,Hist,Media,Food/howlong.hum              1999-08-01 22:44:58         6950\n",
            "Humor,Hist,Media,Food/how_to_i.pro             1999-08-01 22:46:16         2720\n",
            "Humor,Hist,Media,Food/hstlrtxt.txt             2000-11-25 12:26:56         2747\n",
            "Humor,Hist,Media,Food/htswfren.txt             1999-08-01 22:46:16         7100\n",
            "Humor,Hist,Media,Food/hum2                     2001-01-05 08:12:18         5350\n",
            "Humor,Hist,Media,Food/humatra.txt              1999-08-01 22:46:16         9209\n",
            "Humor,Hist,Media,Food/humatran.jok             1999-08-01 22:46:16         9812\n",
            "Humor,Hist,Media,Food/humor9.txt               2001-01-05 08:13:48       260470\n",
            "Humor,Hist,Media,Food/humpty.dumpty            1999-08-01 22:47:18         1388\n",
            "Humor,Hist,Media,Food/icm.hum                  1999-08-01 22:44:58         2547\n",
            "Humor,Hist,Media,Food/idaho.txt                1999-08-01 22:46:16        14716\n",
            "Humor,Hist,Media,Food/idr2.txt                 1999-08-01 22:46:06         2941\n",
            "Humor,Hist,Media,Food/imbecile.txt             2001-09-25 08:53:22         1876\n",
            "Humor,Hist,Media,Food/imprrisk.hum             1999-08-01 22:44:58        13056\n",
            "Humor,Hist,Media,Food/incarhel.hum             1999-08-01 22:45:00         2116\n",
            "Humor,Hist,Media,Food/kaboom.hum               1999-08-01 22:44:24         3685\n",
            "Humor,Hist,Media,Food/initials.rid             2001-02-04 14:03:46         3100\n",
            "Humor,Hist,Media,Food/inlaws1.txt              1999-08-01 22:46:16        13302\n",
            "Humor,Hist,Media,Food/inquirer.txt             2000-08-08 23:37:28         4608\n",
            "Humor,Hist,Media,Food/insanity.hum             1999-08-01 22:45:00         9305\n",
            "Humor,Hist,Media,Food/insult.lst               2001-09-20 09:05:08       106864\n",
            "Humor,Hist,Media,Food/insults1.txt             2001-09-20 09:05:24        59966\n",
            "Humor,Hist,Media,Food/insuranc.sty             1999-08-01 22:46:16         5753\n",
            "Humor,Hist,Media,Food/insure.hum               1999-08-01 22:45:00         2850\n",
            "Humor,Hist,Media,Food/interv.hum               1999-08-01 22:45:00         4224\n",
            "Humor,Hist,Media,Food/investi.hum              1999-08-01 22:45:00         5202\n",
            "Humor,Hist,Media,Food/iqtest                   1999-08-01 22:45:48         2767\n",
            "Humor,Hist,Media,Food/ivan.hum                 1999-08-01 22:45:02         6281\n",
            "Humor,Hist,Media,Food/jac&tuu.hum              1999-08-01 22:45:02        13924\n",
            "Humor,Hist,Media,Food/jargon.phd               1999-08-01 22:46:18         3807\n",
            "Humor,Hist,Media,Food/jason.fun                1999-10-29 05:54:12        74093\n",
            "Humor,Hist,Media,Food/jc-elvis.inf             1999-08-01 22:46:18         4657\n",
            "Humor,Hist,Media,Food/jeffie.heh               1999-08-01 22:45:56         1563\n",
            "Humor,Hist,Media,Food/johann                   1999-10-05 12:13:28          475\n",
            "Humor,Hist,Media,Food/jokeju07.txt             1999-08-01 22:46:18         1878\n",
            "Humor,Hist,Media,Food/jokes                    1999-08-01 22:45:48        38867\n",
            "Humor,Hist,Media,Food/jokes.txt                1999-08-01 22:46:06        20954\n",
            "Humor,Hist,Media,Food/jokes1.txt               2002-07-08 10:37:58        24334\n",
            "Humor,Hist,Media,Food/just2                    1999-10-05 12:18:16         2108\n",
            "Humor,Hist,Media,Food/justify                  1999-08-01 22:47:24         1502\n",
            "Humor,Hist,Media,Food/kid2                     1999-08-01 23:16:52          816\n",
            "Humor,Hist,Media,Food/kid_diet.txt             1999-08-01 22:45:04         4213\n",
            "Humor,Hist,Media,Food/killer.hum               1999-08-01 22:45:02         1279\n",
            "Humor,Hist,Media,Food/killself.hum             1999-08-01 22:45:04         8133\n",
            "Humor,Hist,Media,Food/kilsmur.hum              1999-08-01 22:45:04         3189\n",
            "Humor,Hist,Media,Food/kloo.txt                 1999-08-01 22:46:18        11207\n",
            "Humor,Hist,Media,Food/koans.txt                1999-08-01 22:45:52         8441\n",
            "Humor,Hist,Media,Food/labels.txt               2002-05-30 10:47:04         1178\n",
            "Humor,Hist,Media,Food/lampoon.jok              1999-08-01 22:46:18         1809\n",
            "Humor,Hist,Media,Food/languag.jok              1999-08-01 22:45:50          699\n",
            "Humor,Hist,Media,Food/la_times.hun             1999-08-01 22:47:24         4556\n",
            "Humor,Hist,Media,Food/law.sch                  1999-08-01 22:46:16         4172\n",
            "Humor,Hist,Media,Food/lawhunt.txt              1999-08-01 22:46:08         3408\n",
            "Humor,Hist,Media,Food/laws.txt                 1999-08-01 22:46:18         9516\n",
            "Humor,Hist,Media,Food/lawskool.txt             1999-08-01 22:46:08         5989\n",
            "Humor,Hist,Media,Food/lawsuniv.hum             1999-08-01 22:45:04         3233\n",
            "Humor,Hist,Media,Food/lawyer.jok               1999-08-01 22:45:52        26307\n",
            "Humor,Hist,Media,Food/lawyers.txt              2002-07-08 10:38:06         2237\n",
            "Humor,Hist,Media,Food/lazarus.txt              1999-09-21 20:15:46         3656\n",
            "Humor,Hist,Media,Food/leech.txt                1999-08-01 22:46:12         4573\n",
            "Humor,Hist,Media,Food/let.go                   1999-08-01 22:45:52         5862\n",
            "Humor,Hist,Media,Food/letgosh.txt              1999-08-01 22:46:18         5374\n",
            "Humor,Hist,Media,Food/letter.txt               1999-08-01 22:46:18        22677\n",
            "Humor,Hist,Media,Food/letter_f.sch             1999-08-01 22:46:18         2605\n",
            "Humor,Hist,Media,Food/libraway.txt             1999-09-29 21:13:34         3083\n",
            "Humor,Hist,Media,Food/liceprof.sty             1999-08-01 22:45:56         1852\n",
            "Humor,Hist,Media,Food/lifeimag.hum             1999-08-01 22:45:30         9781\n",
            "Humor,Hist,Media,Food/lifeinfo.hum             1999-08-01 22:45:30         9216\n",
            "Humor,Hist,Media,Food/lif&love.hum             1999-08-01 22:45:30         7568\n",
            "Humor,Hist,Media,Food/limerick.jok             1999-08-01 22:45:56         8184\n",
            "Humor,Hist,Media,Food/lines.jok                1999-08-01 22:45:58        12923\n",
            "Humor,Hist,Media,Food/lion.jok                 1999-08-01 22:46:00        10151\n",
            "Humor,Hist,Media,Food/lion.txt                 2000-01-16 21:21:30         9650\n",
            "Humor,Hist,Media,Food/lions.cat                1999-08-01 22:46:20        12382\n",
            "Humor,Hist,Media,Food/livnware.hum             1999-08-01 22:45:30         2911\n",
            "Humor,Hist,Media,Food/llamas.txt               2002-05-30 10:47:04         6253\n",
            "Humor,Hist,Media,Food/llong.hum                1999-08-01 22:45:30        41331\n",
            "Humor,Hist,Media,Food/lobquad.hum              1999-08-01 22:45:30         1427\n",
            "Humor,Hist,Media,Food/looser.hum               1999-08-01 22:45:30        17660\n",
            "Humor,Hist,Media,Food/losers84.hum             1999-08-01 22:45:30        25313\n",
            "Humor,Hist,Media,Food/losers86.hum             1999-08-01 22:45:30        13109\n",
            "Humor,Hist,Media,Food/lotsa.jok                1999-08-01 22:46:00        25057\n",
            "Humor,Hist,Media,Food/lozers                   1999-08-01 22:46:02         8877\n",
            "Humor,Hist,Media,Food/lozerzon.hum             1999-08-01 22:45:30        12970\n",
            "Humor,Hist,Media,Food/lp-assoc.txt             2000-01-16 22:08:32         6452\n",
            "Humor,Hist,Media,Food/lucky.cha                1999-08-01 22:46:20         3492\n",
            "Humor,Hist,Media,Food/ludeinfo.hum             1999-08-01 22:45:30         9298\n",
            "Humor,Hist,Media,Food/ludeinfo.txt             1999-08-01 22:45:28        10344\n",
            "Humor,Hist,Media,Food/luvstory.txt             1999-08-01 22:46:20        69492\n",
            "Humor,Hist,Media,Food/luzerzo2.hum             1999-08-01 22:45:32        11778\n",
            "Humor,Hist,Media,Food/m0dzmen.hum              1999-08-01 22:45:32        13819\n",
            "Humor,Hist,Media,Food/macsfarm.old             1999-08-01 22:44:42        13137\n",
            "Humor,Hist,Media,Food/madhattr.jok             1999-08-01 22:44:44         3019\n",
            "Humor,Hist,Media,Food/maecenas.hum             1999-08-01 22:45:32        10905\n",
            "Humor,Hist,Media,Food/mailfrag.hum             1999-08-01 22:45:32         4167\n",
            "Humor,Hist,Media,Food/makebeer.hum             1999-08-01 22:45:32         4653\n",
            "Humor,Hist,Media,Food/making_y.wel             1999-08-01 22:44:44         2466\n",
            "Humor,Hist,Media,Food/malechem.txt             1999-08-01 22:44:44         2513\n",
            "Humor,Hist,Media,Food/manager.txt              1999-08-01 22:44:34         3249\n",
            "Humor,Hist,Media,Food/manilla.hum              1999-08-01 22:45:32         1923\n",
            "Humor,Hist,Media,Food/manners.txt              1999-08-01 22:44:44        97539\n",
            "Humor,Hist,Media,Food/manspace.hum             1999-08-01 22:45:32        47669\n",
            "Humor,Hist,Media,Food/marines.hum              1999-08-01 22:45:32         1473\n",
            "Humor,Hist,Media,Food/marriage.hum             1999-08-01 22:46:00         3280\n",
            "Humor,Hist,Media,Food/math.1                   1999-08-01 22:46:00        11042\n",
            "Humor,Hist,Media,Food/math.2                   1999-08-01 22:46:00        12346\n",
            "Humor,Hist,Media,Food/math.far                 1999-08-01 22:46:00         3177\n",
            "Humor,Hist,Media,Food/mcd.txt                  2002-07-11 07:50:44         5111\n",
            "Humor,Hist,Media,Food/meinkamp.hum             1999-08-01 22:45:32        10430\n",
            "Humor,Hist,Media,Food/mel.txt                  2007-03-31 07:49:36        10329\n",
            "Humor,Hist,Media,Food/memo.hum                 1999-08-01 22:45:34         2014\n",
            "Humor,Hist,Media,Food/men&wome.txt             1999-08-01 22:44:54         9335\n",
            "Humor,Hist,Media,Food/merry.txt                1999-08-01 22:44:42        17012\n",
            "Humor,Hist,Media,Food/miamadvi.hum             1999-08-01 22:45:34         3394\n",
            "Humor,Hist,Media,Food/miami.hum                1999-08-01 22:45:34         8107\n",
            "Humor,Hist,Media,Food/miamimth.txt             2000-01-31 02:37:24         1710\n",
            "Humor,Hist,Media,Food/middle.age               1999-08-01 22:44:52         5560\n",
            "Humor,Hist,Media,Food/misc.1                   1999-08-01 22:46:00        23919\n",
            "Humor,Hist,Media,Food/misery.hum               1999-08-01 22:45:34         2232\n",
            "Humor,Hist,Media,Food/missheav.hum             1999-08-01 22:45:34         3961\n",
            "Humor,Hist,Media,Food/modstup                  2000-01-31 02:16:18         4283\n",
            "Humor,Hist,Media,Food/montpyth.hum             1999-08-01 22:45:34        33577\n",
            "Humor,Hist,Media,Food/moonshin                 1999-08-01 22:46:10         4899\n",
            "Humor,Hist,Media,Food/moose.txt                1999-08-01 22:44:52        26725\n",
            "Humor,Hist,Media,Food/moslem.txt               2000-01-31 02:22:00         1488\n",
            "Humor,Hist,Media,Food/mothers.txt              1999-08-01 22:44:56         2321\n",
            "Humor,Hist,Media,Food/motrbike.jok             1999-08-01 22:45:04         2944\n",
            "Humor,Hist,Media,Food/mowers.txt               1999-08-01 22:44:56         2828\n",
            "Humor,Hist,Media,Food/mr.rogers                1999-08-01 22:47:18         3996\n",
            "Humor,Hist,Media,Food/mrscienc.hum             1999-08-01 22:45:34         9982\n",
            "Humor,Hist,Media,Food/mtm.hum                  1999-08-01 22:45:32         8929\n",
            "Humor,Hist,Media,Food/murph.jok                1999-08-01 22:44:58         9568\n",
            "Humor,Hist,Media,Food/murphy.txt               1999-08-01 22:45:00         5795\n",
            "Humor,Hist,Media,Food/murphy_l.txt             1999-08-01 22:44:48        21489\n",
            "Humor,Hist,Media,Food/murphys.txt              1999-08-01 22:45:28        20915\n",
            "Humor,Hist,Media,Food/mutate.hum               1999-08-01 22:45:34         3298\n",
            "Humor,Hist,Media,Food/myheart.hum              1999-08-01 22:45:36        18975\n",
            "Humor,Hist,Media,Food/naivewiz.hum             1999-08-01 22:45:36         2258\n",
            "Humor,Hist,Media,Food/nasaglenn.txt            2002-07-11 07:50:48          571\n",
            "Humor,Hist,Media,Food/aclamt.txt               1999-08-03 11:16:02         3237\n",
            "Humor,Hist,Media,Food/acronym.lis              1999-08-01 22:44:34         8382\n",
            "Humor,Hist,Media,Food/acronym.txt              2001-01-09 11:26:56         1214\n",
            "Humor,Hist,Media,Food/acronyms.txt             1999-08-01 22:44:48        88234\n",
            "Humor,Hist,Media,Food/adcopy.hum               1999-08-01 22:44:32         2444\n",
            "Humor,Hist,Media,Food/addrmeri.txt             1999-08-01 22:44:46         1950\n",
            "Humor,Hist,Media,Food/admin.txt                1999-08-01 22:44:34         2433\n",
            "Humor,Hist,Media,Food/age.txt                  1999-08-01 22:44:48         2381\n",
            "Humor,Hist,Media,Food/aggie.txt                2002-05-30 10:47:04         1616\n",
            "Humor,Hist,Media,Food/aids.txt                 2003-12-11 15:12:32        27477\n",
            "Humor,Hist,Media,Food/airlines                 2001-07-25 11:40:18         3109\n",
            "Humor,Hist,Media,Food/alabama.txt              1999-08-01 22:44:36         1865\n",
            "Humor,Hist,Media,Food/alcatax.txt              1999-08-01 22:44:34         3328\n",
            "Humor,Hist,Media,Food/alflog.txt               1999-08-01 22:44:36         4893\n",
            "Humor,Hist,Media,Food/ambrose.bie              1999-08-01 23:16:48         5752\n",
            "Humor,Hist,Media,Food/amchap2.txt              2002-02-10 03:44:28         1468\n",
            "Humor,Hist,Media,Food/anim_lif.txt             1999-08-01 23:16:52        22602\n",
            "Humor,Hist,Media,Food/annoy.fascist            2001-04-27 06:03:28         8367\n",
            "Humor,Hist,Media,Food/answers                  1999-08-01 22:44:36         1631\n",
            "Humor,Hist,Media,Food/anthropo.stu             1999-08-01 22:44:46         5698\n",
            "Humor,Hist,Media,Food/arab.dic                 1999-08-01 22:44:44         2352\n",
            "Humor,Hist,Media,Food/argotdic.txt             1999-08-01 22:44:38        15172\n",
            "Humor,Hist,Media,Food/art-fart.hum             1999-08-01 22:44:48         8192\n",
            "Humor,Hist,Media,Food/atombomb.hum             1999-08-01 22:44:36         5997\n",
            "Humor,Hist,Media,Food/att.txt                  2002-05-06 01:22:46         4633\n",
            "Humor,Hist,Media,Food/aussie.lng               1999-08-01 22:47:24         9014\n",
            "Humor,Hist,Media,Food/b-2.jok                  1999-08-01 22:44:32         1932\n",
            "Humor,Hist,Media,Food/bad                      1999-08-01 23:16:54        22169\n",
            "Humor,Hist,Media,Food/bad.jok                  1999-08-01 22:44:50         1312\n",
            "Humor,Hist,Media,Food/bad-d                    1999-08-01 22:44:48         7168\n",
            "Humor,Hist,Media,Food/badday.hum               1999-08-01 22:44:36         4491\n",
            "Humor,Hist,Media,Food/bagelope.txt             1999-08-01 23:17:04         1971\n",
            "Humor,Hist,Media,Food/bank.rob                 1999-08-01 22:44:36         4359\n",
            "Humor,Hist,Media,Food/barney.cn1               1999-09-29 19:12:22         4817\n",
            "Humor,Hist,Media,Food/barney.txt               1999-09-29 19:12:40        68697\n",
            "Humor,Hist,Media,Food/bb                       1999-09-29 19:14:40         4131\n",
            "Humor,Hist,Media,Food/bbq.txt                  1999-08-01 22:44:56         3456\n",
            "Humor,Hist,Media,Food/beapimp.hum              1999-08-01 22:44:38         3395\n",
            "Humor,Hist,Media,Food/beave.hum                1999-08-01 22:44:38         3856\n",
            "Humor,Hist,Media,Food/beer.hum                 1999-08-01 22:44:38         2672\n",
            "Humor,Hist,Media,Food/beerdiag.txt             1999-08-01 22:44:50         3095\n",
            "Humor,Hist,Media,Food/bible.txt                1999-08-01 22:45:00          598\n",
            "Humor,Hist,Media,Food/bigpic1.hum              1999-08-01 22:44:38         2766\n",
            "Humor,Hist,Media,Food/billcat.hum              1999-08-01 22:45:56         4770\n",
            "Humor,Hist,Media,Food/bimg.prn                 1999-09-29 19:22:12        15758\n",
            "Humor,Hist,Media,Food/bitchcar.hum             1999-08-01 22:44:38         4337\n",
            "Humor,Hist,Media,Food/blackapp.hum             1999-08-01 22:44:38         2390\n",
            "Humor,Hist,Media,Food/blackhol.hum             1999-08-01 22:44:40         5203\n",
            "Humor,Hist,Media,Food/blaster.hum              1999-08-01 22:44:40         1253\n",
            "Humor,Hist,Media,Food/bless.bc                 1999-08-01 22:45:00         1594\n",
            "Humor,Hist,Media,Food/blooprs1.asc             1999-08-01 22:45:04        13776\n",
            "Humor,Hist,Media,Food/bmdn01.txt               1999-09-29 19:29:14        13824\n",
            "Humor,Hist,Media,Food/boatmemo.jok             1999-08-01 22:44:36         5117\n",
            "Humor,Hist,Media,Food/boe.hum                  1999-08-01 22:44:40        10598\n",
            "Humor,Hist,Media,Food/boneles2.txt             1999-08-05 06:27:52        15330\n",
            "Humor,Hist,Media,Food/bored.txt                1999-10-06 10:39:22        16723\n",
            "Humor,Hist,Media,Food/browneco.hum             1999-08-01 22:44:40         7420\n",
            "Humor,Hist,Media,Food/btcisfre.hum             1999-08-01 22:44:40         2518\n",
            "Humor,Hist,Media,Food/bugbreak.hum             1999-08-01 22:44:40         3729\n",
            "Humor,Hist,Media,Food/bugs.txt                 2001-07-02 08:40:22         5094\n",
            "Humor,Hist,Media,Food/butwrong.hum             1999-08-01 22:44:40         9106\n",
            "Humor,Hist,Media,Food/buzzword.hum             1999-08-01 22:44:40         1185\n",
            "Humor,Hist,Media,Food/bw-phwan.hat             1999-08-01 22:47:24         3325\n",
            "Humor,Hist,Media,Food/bw-summe.hat             1999-08-01 22:47:24         1674\n",
            "Humor,Hist,Media,Food/cabbage.txt              1999-08-01 22:44:40         5686\n",
            "Humor,Hist,Media,Food/calculus.txt             2002-05-06 01:22:50         2748\n",
            "Humor,Hist,Media,Food/calif.hum                1999-08-01 22:44:42          731\n",
            "Humor,Hist,Media,Food/calvin.txt               1999-08-01 22:45:34         7280\n",
            "Humor,Hist,Media,Food/cancer.rat               1999-08-01 22:44:36         4030\n",
            "Humor,Hist,Media,Food/cars.txt                 1999-08-01 22:45:36         3302\n",
            "Humor,Hist,Media,Food/cartoon.law              1999-08-01 22:45:36         3992\n",
            "Humor,Hist,Media,Food/cartoon.laws             1999-08-01 22:45:54         4601\n",
            "Humor,Hist,Media,Food/cartoon_laws.txt         2002-05-30 10:47:04         4523\n",
            "Humor,Hist,Media,Food/cartwb.son               1999-08-01 22:45:36         4087\n",
            "Humor,Hist,Media,Food/catballs.hum             1999-08-01 22:44:42         2058\n",
            "Humor,Hist,Media,Food/catin.hat                1999-08-01 22:44:38         4412\n",
            "Humor,Hist,Media,Food/catranch.hum             1999-08-01 22:44:42         2685\n",
            "Humor,Hist,Media,Food/catstory.txt             1999-08-01 22:45:30         2137\n",
            "Humor,Hist,Media,Food/cbmatic.hum              1999-08-01 22:44:42         5517\n",
            "Humor,Hist,Media,Food/cform2.txt               2000-07-02 21:39:58         5743\n",
            "Humor,Hist,Media,Food/change.hum               1999-08-01 22:44:42         2290\n",
            "Humor,Hist,Media,Food/cheapin.la               1999-08-01 22:44:40         4223\n",
            "Humor,Hist,Media,Food/chickens.jok             1999-08-01 22:44:40         3892\n",
            "Humor,Hist,Media,Food/childhoo.jok             1999-08-01 22:46:02        17034\n",
            "Humor,Hist,Media,Food/childrenbooks.txt        2002-05-30 10:47:04         1507\n",
            "Humor,Hist,Media,Food/chinesec.hum             1999-08-01 22:44:42         2465\n",
            "Humor,Hist,Media,Food/chunnel.txt              1999-08-01 22:45:38         3023\n",
            "Humor,Hist,Media,Food/church.sto               1999-08-01 22:46:02         4424\n",
            "Humor,Hist,Media,Food/climbing.let             1999-08-01 22:46:02        27721\n",
            "Humor,Hist,Media,Food/co-car.jok               1999-08-01 22:46:02         1876\n",
            "Humor,Hist,Media,Food/cockney.alp              1999-08-01 22:44:42         1498\n",
            "Humor,Hist,Media,Food/coffee.txt               1999-10-29 05:19:16         9763\n",
            "Humor,Hist,Media,Food/coffeebeerwomen.txt      2002-05-30 10:47:04         3547\n",
            "Humor,Hist,Media,Food/cogdis.txt               1999-08-01 23:17:12         9667\n",
            "Humor,Hist,Media,Food/cold.fus                 1999-08-01 22:44:40         5812\n",
            "Humor,Hist,Media,Food/coldfake.hum             1999-08-01 22:44:44         4006\n",
            "Humor,Hist,Media,Food/collected_quotes.txt     2002-05-30 10:47:04        50622\n",
            "Humor,Hist,Media,Food/college.hum              1999-08-01 22:46:12         3682\n",
            "Humor,Hist,Media,Food/college.sla              1999-08-01 22:44:44        19350\n",
            "Humor,Hist,Media,Food/college.txt              2001-01-13 08:39:10         6483\n",
            "Humor,Hist,Media,Food/commutin.jok             1999-08-01 22:46:02        12782\n",
            "Humor,Hist,Media,Food/computer.txt             2002-07-08 10:37:52         7195\n",
            "Humor,Hist,Media,Food/comrevi1.hum             1999-08-01 22:44:44        20963\n",
            "Humor,Hist,Media,Food/conan.txt                1999-08-01 22:44:58        13915\n",
            "Humor,Hist,Media,Food/confucius_say.txt        2002-05-30 10:47:04         2886\n",
            "Humor,Hist,Media,Food/consp.txt                2000-01-31 06:17:56        49422\n",
            "Humor,Hist,Media,Food/contract.moo             2001-01-07 10:38:26        11908\n",
            "Humor,Hist,Media,Food/cookie.1                 2001-01-07 10:39:52        33745\n",
            "Humor,Hist,Media,Food/critic.txt               2002-02-23 12:43:24        29920\n",
            "Humor,Hist,Media,Food/coollngo2.txt            2002-02-22 23:50:34         3502\n",
            "Humor,Hist,Media,Food/cooplaws                 2001-01-07 10:51:18         2647\n",
            "Humor,Hist,Media,Food/cops.txt                 2002-07-11 07:50:32          971\n",
            "Humor,Hist,Media,Food/corporat.txt             1999-08-01 22:45:46         1440\n",
            "Humor,Hist,Media,Food/court.quips              1999-08-01 22:46:04         2035\n",
            "Humor,Hist,Media,Food/cowexplo.hum             1999-08-01 22:44:46         7613\n",
            "Humor,Hist,Media,Food/coyote.txt               1999-08-01 22:44:58        11939\n",
            "Humor,Hist,Media,Food/cuchy.hum                1999-08-01 22:44:46         8524\n",
            "Humor,Hist,Media,Food/cucumber.jok             1999-08-01 22:44:44         5739\n",
            "Humor,Hist,Media,Food/cucumber.txt             1999-08-01 22:45:48         2177\n",
            "Humor,Hist,Media,Food/curiousgeorgie.txt       2001-03-30 10:59:24         4081\n",
            "Humor,Hist,Media,Food/curse.txt                1999-08-01 22:46:12         4294\n",
            "Humor,Hist,Media,Food/dark.suc                 1999-08-01 22:44:46         6521\n",
            "Humor,Hist,Media,Food/dead2.txt                2001-05-06 04:02:06        32397\n",
            "Humor,Hist,Media,Food/dead3.txt                2001-05-06 04:02:20        59417\n",
            "Humor,Hist,Media,Food/dead5.txt                2001-05-06 04:02:58        78620\n",
            "Humor,Hist,Media,Food/dead-r                   1999-08-01 22:45:42         3079\n",
            "Humor,Hist,Media,Food/deathhem.txt             2000-01-16 18:51:48         2771\n",
            "Humor,Hist,Media,Food/adameve.hum              1999-08-01 22:44:22         2807\n",
            "Humor,Hist,Media,Food/bingbong.hum             1999-08-01 22:44:22         3487\n",
            "Humor,Hist,Media,Food/brainect.hum             1999-08-01 22:44:24         3169\n",
            "Humor,Hist,Media,Food/charity.hum              1999-08-01 22:44:22         3199\n",
            "Humor,Hist,Media,Food/cheapfar.hum             1999-08-01 22:44:22         2528\n",
            "Humor,Hist,Media,Food/drugshum.hum             1999-08-01 22:44:22         3255\n",
            "Humor,Hist,Media,Food/ghostfun.hum             1999-08-01 22:44:22         3114\n",
            "Humor,Hist,Media,Food/hammock.hum              1999-08-01 22:44:24         3183\n",
            "Humor,Hist,Media,Food/packard.txt              2000-01-31 01:12:00        14436\n",
            "Humor,Hist,Media,Food/memory.hum               1999-08-01 22:44:24         3694\n",
            "Humor,Hist,Media,Food/mlverb.hum               1999-08-01 22:44:22       251361\n",
            "Humor,Hist,Media,Food/modest.hum               1999-08-01 22:44:22         2418\n",
            "Humor,Hist,Media,Food/poets.hum                1999-08-01 22:44:22         3116\n",
            "Humor,Hist,Media,Food/reconcil.hum             1999-08-01 22:44:22         3738\n",
            "Humor,Hist,Media,Food/saveface.hum             1999-08-01 22:44:22         3264\n",
            "Humor,Hist,Media,Food/shameonu.hum             1999-08-01 22:44:24         2005\n",
            "Humor,Hist,Media,Food/solders.hum              1999-08-01 22:44:24         2807\n",
            "Humor,Hist,Media,Food/spacever.hum             1999-08-01 22:44:24         3291\n",
            "Humor,Hist,Media,Food/symbol.hum               1999-08-01 22:44:24         3227\n",
            "Humor,Hist,Media,Food/watchlip.hum             1999-08-01 22:44:24         3482\n",
            "Humor,Hist,Media,Food/weights.hum              1999-08-01 22:44:24         3264\n",
            "Humor,Hist,Media,Food/whatthe.hum              1999-08-01 22:44:24         3256\n",
            "Humor,Hist,Media,Food/1st_aid.txt              2002-02-23 12:43:24         2395\n",
            "Humor,Hist,Media,Food/acetab1.txt              2002-02-23 12:43:24         3164\n",
            "Humor,Hist,Media,Food/acne1.txt                2002-02-23 12:43:24        13481\n",
            "Humor,Hist,Media,Food/alcohol.hum              1999-11-27 23:39:42         2540\n",
            "Humor,Hist,Media,Food/all_grai                 2002-02-10 03:39:24        50370\n",
            "Humor,Hist,Media,Food/aniherb.txt              2002-02-23 12:43:24         5882\n",
            "Humor,Hist,Media,Food/antibiot.txt             2002-02-23 12:43:24        16196\n",
            "Humor,Hist,Media,Food/antimead.bev             2001-11-08 15:36:02         1364\n",
            "Humor,Hist,Media,Food/aphrodis.txt             2002-02-23 12:43:24         6798\n",
            "Humor,Hist,Media,Food/appbred.brd              2001-11-08 15:36:02         1034\n",
            "Humor,Hist,Media,Food/appetiz.rcp              1999-08-01 23:21:44        60823\n",
            "Humor,Hist,Media,Food/applepie.des             2001-11-08 15:36:02          799\n",
            "Humor,Hist,Media,Food/apsaucke.des             2001-11-08 15:36:02         1138\n",
            "Humor,Hist,Media,Food/arcadian.txt             2001-11-08 15:36:02         1498\n",
            "Humor,Hist,Media,Food/atherosc.txt             2002-02-23 12:43:24         5627\n",
            "Humor,Hist,Media,Food/awespinh.sal             2001-11-08 15:36:02         1444\n",
            "Humor,Hist,Media,Food/ayurved.txt              2002-02-23 12:43:24         4582\n",
            "Humor,Hist,Media,Food/b12.txt                  1999-08-01 23:21:42        25545\n",
            "Humor,Hist,Media,Food/back1.txt                2002-02-23 12:43:24         5441\n",
            "Humor,Hist,Media,Food/bakebred.txt             1999-08-01 23:21:42         7359\n",
            "Humor,Hist,Media,Food/baklava.des              2001-11-08 15:36:04         1756\n",
            "Humor,Hist,Media,Food/banana01.brd             2001-11-08 15:36:04          574\n",
            "Humor,Hist,Media,Food/banana02.brd             2001-11-08 15:36:04          998\n",
            "Humor,Hist,Media,Food/banana03.brd             2001-11-08 15:36:04         1485\n",
            "Humor,Hist,Media,Food/banana04.brd             2001-11-08 15:36:04          759\n",
            "Humor,Hist,Media,Food/banana05.brd             2001-11-08 15:36:04          433\n",
            "Humor,Hist,Media,Food/batrbred.txt             2001-11-08 15:36:04          924\n",
            "Humor,Hist,Media,Food/beer.gam                 2002-02-10 03:47:52         9111\n",
            "Humor,Hist,Media,Food/beer.txt                 2001-03-05 08:17:32        10046\n",
            "Humor,Hist,Media,Food/beer-g                   1999-11-28 00:08:08         6780\n",
            "Humor,Hist,Media,Food/beergame.hum             1999-11-28 00:08:20         7131\n",
            "Humor,Hist,Media,Food/beergame.txt             2002-02-10 03:47:54         5260\n",
            "Humor,Hist,Media,Food/beer-gui                 2002-02-10 03:47:58         4618\n",
            "Humor,Hist,Media,Food/beershrm.fis             2001-11-08 15:36:04          686\n",
            "Humor,Hist,Media,Food/beershrp.fis             2001-11-08 15:36:04          868\n",
            "Humor,Hist,Media,Food/beerwarn.txt             2002-05-07 11:45:50         2024\n",
            "Humor,Hist,Media,Food/beginn.ers               1999-08-01 23:21:42        12580\n",
            "Humor,Hist,Media,Food/berryeto.bev             2001-11-08 15:36:04          700\n",
            "Humor,Hist,Media,Food/bhang.fun                2000-02-26 21:10:54         2577\n",
            "Humor,Hist,Media,Food/bhb.ill                  2002-07-11 08:21:52        18880\n",
            "Humor,Hist,Media,Food/blkbean.txt              2001-11-20 11:24:46         1803\n",
            "Humor,Hist,Media,Food/blkbnsrc.vgn             2001-11-20 11:24:46         1354\n",
            "Humor,Hist,Media,Food/blood.txt                2002-02-23 12:43:24         2089\n",
            "Humor,Hist,Media,Food/boarchil.txt             2001-11-20 11:24:46         2296\n",
            "Humor,Hist,Media,Food/bond-2.txt               2002-07-11 08:22:24         4733\n",
            "Humor,Hist,Media,Food/booknuti.txt             2002-02-23 12:43:24         2265\n",
            "Humor,Hist,Media,Food/booze.fun                2001-04-27 06:22:32         7936\n",
            "Humor,Hist,Media,Food/booze1.fun               2000-02-26 21:11:00         9893\n",
            "Humor,Hist,Media,Food/booze2.fun               2000-02-26 21:11:02         8410\n",
            "Humor,Hist,Media,Food/brdpudd.des              2001-11-20 11:24:46          762\n",
            "Humor,Hist,Media,Food/bread.rcp                2001-11-20 11:24:46        48391\n",
            "Humor,Hist,Media,Food/bread.rec                2000-01-16 20:54:36         3859\n",
            "Humor,Hist,Media,Food/bread.txt                1999-08-01 23:21:44         3611\n",
            "Humor,Hist,Media,Food/breadpud.des             2001-11-20 11:24:46         1220\n",
            "Humor,Hist,Media,Food/brush1.txt               2002-02-23 12:43:24        14196\n",
            "Humor,Hist,Media,Food/btaco.txt                2002-05-07 11:45:50          900\n",
            "Humor,Hist,Media,Food/btscke01.des             2001-11-20 11:24:46         2971\n",
            "Humor,Hist,Media,Food/btscke03.des             2001-11-20 11:24:46          888\n",
            "Humor,Hist,Media,Food/btscke04.des             2001-11-20 11:24:48         1948\n",
            "Humor,Hist,Media,Food/btscke05.des             2001-11-20 11:24:48         1122\n",
            "Humor,Hist,Media,Food/bunacald.fis             2001-11-20 11:24:48          923\n",
            "Humor,Hist,Media,Food/burrito.mea              2001-11-20 11:24:48          893\n",
            "Humor,Hist,Media,Food/butcher.txt              2001-03-30 10:56:40        18690\n",
            "Humor,Hist,Media,Food/butstcod.fis             2001-11-20 11:24:48         1423\n",
            "Humor,Hist,Media,Food/byfb.txt                 2002-05-07 11:45:50        38640\n",
            "Humor,Hist,Media,Food/caesardr.sal             2001-11-20 11:24:48         2658\n",
            "Humor,Hist,Media,Food/calamus.hrb              2001-09-24 20:11:10         1600\n",
            "Humor,Hist,Media,Food/candy.txt                1999-08-01 23:21:44       434535\n",
            "Humor,Hist,Media,Food/candybar.fun             1999-08-01 23:21:42         4104\n",
            "Humor,Hist,Media,Food/capital.txt              2001-11-20 11:24:48         1508\n",
            "Humor,Hist,Media,Food/caramels.des             2001-11-20 11:24:48          779\n",
            "Humor,Hist,Media,Food/cereal.txt               2002-02-23 12:43:24         5380\n",
            "Humor,Hist,Media,Food/chili.txt                1999-08-01 23:21:42        40391\n",
            "Humor,Hist,Media,Food/chinese.txt              2002-02-23 12:43:24         2756\n",
            "Humor,Hist,Media,Food/choco-ch.ips             1999-08-01 23:21:44         2003\n",
            "Humor,Hist,Media,Food/cmu.share                1999-11-27 09:32:44         5368\n",
            "Humor,Hist,Media,Food/coffee.faq               2001-01-08 02:26:32        75425\n",
            "Humor,Hist,Media,Food/coke.fun                 1999-08-01 23:21:44         2337\n",
            "Humor,Hist,Media,Food/coke.txt                 1999-08-01 23:21:42         1515\n",
            "Humor,Hist,Media,Food/coke1                    1999-08-01 23:21:42         4831\n",
            "Humor,Hist,Media,Food/coke_fan.naz             1999-08-01 23:21:44         2900\n",
            "Humor,Hist,Media,Food/cokeform.txt             2001-01-07 10:04:38         3049\n",
            "Humor,Hist,Media,Food/coladrik.fun             1999-08-01 23:21:42         3942\n",
            "Humor,Hist,Media,Food/coladrik.txt             1999-08-01 23:21:42         4988\n",
            "Humor,Hist,Media,Food/cookberk                 2001-01-07 10:39:34         3112\n",
            "Humor,Hist,Media,Food/cookbkly.how             1999-11-27 09:36:10         3084\n",
            "Humor,Hist,Media,Food/cooking.fun              1999-08-01 23:21:42         2944\n",
            "Humor,Hist,Media,Food/cooking.jok              1999-08-14 11:09:12         1565\n",
            "Humor,Hist,Media,Food/cuisine.txt              2001-01-07 11:12:48         5817\n",
            "Humor,Hist,Media,Food/curry.hrb                1999-08-01 23:21:44         4482\n",
            "Humor,Hist,Media,Food/curry.txt                2002-02-23 12:43:24         4611\n",
            "Humor,Hist,Media,Food/damiana.hrb              2001-09-24 20:11:10         1833\n",
            "Humor,Hist,Media,Food/dandwine.bev             2001-09-18 11:36:58         1173\n",
            "Humor,Hist,Media,Food/dining.out               1999-11-28 01:36:54         6929\n",
            "Humor,Hist,Media,Food/drinks.txt               2000-02-26 08:20:46         6447\n",
            "Humor,Hist,Media,Food/egg-bred.txt             2001-09-18 11:36:58         1202\n",
            "Humor,Hist,Media,Food/egglentl.vgn             2001-09-18 11:36:58         1313\n",
            "Humor,Hist,Media,Food/eggroll1.mea             2001-09-18 11:36:58         1385\n",
            "Humor,Hist,Media,Food/engmuffn.txt             2001-09-18 11:36:58         1207\n",
            "Humor,Hist,Media,Food/fajitas.rcp              1999-08-01 23:21:44        21024\n",
            "Humor,Hist,Media,Food/fearcola.hum             1999-11-27 09:54:22        10377\n",
            "Humor,Hist,Media,Food/feista01.dip             2001-09-18 11:37:00          755\n",
            "Humor,Hist,Media,Food/fiber.txt                1999-08-01 23:21:44        29352\n",
            "Humor,Hist,Media,Food/firecamp.txt             2001-09-18 11:37:00          575\n",
            "Humor,Hist,Media,Food/fish.rec                 2000-12-10 14:30:48         1686\n",
            "Humor,Hist,Media,Food/focaccia.brd             2001-09-18 11:37:00         1327\n",
            "Humor,Hist,Media,Food/foodtips                 2000-01-31 08:08:02         9553\n",
            "Humor,Hist,Media,Food/fudge.txt                1999-08-01 23:21:44         1664\n",
            "Humor,Hist,Media,Food/gack!.txt                2001-09-18 11:44:02         1457\n",
            "Humor,Hist,Media,Food/get.drunk.cheap          2001-04-27 11:29:04        13952\n",
            "Humor,Hist,Media,Food/goldwatr.txt             2001-09-18 11:37:02          736\n",
            "Humor,Hist,Media,Food/gotukola.hrb             2002-02-10 03:52:22         8472\n",
            "Humor,Hist,Media,Food/greenchi.txt             2001-09-18 11:37:02         1807\n",
            "Humor,Hist,Media,Food/hamburge.nam             1999-08-01 23:21:42         5086\n",
            "Humor,Hist,Media,Food/hedgehog.txt             1999-11-27 10:04:34         2467\n",
            "Humor,Hist,Media,Food/homebrew.txt             2001-08-19 08:26:56        19328\n",
            "Humor,Hist,Media,Food/hop.faq                  2001-08-19 08:27:02        40046\n",
            "Humor,Hist,Media,Food/hotpeper.txt             2001-08-19 08:27:04          797\n",
            "Humor,Hist,Media,Food/iced.tea                 1999-11-28 06:15:50         7091\n",
            "Humor,Hist,Media,Food/indgrdn.txt              2002-07-11 10:13:44        21780\n",
            "Humor,Hist,Media,Food/insect1.txt              2002-07-11 10:13:46         3238\n",
            "Humor,Hist,Media,Food/jalapast.dip             2001-11-08 15:36:04         1668\n",
            "Humor,Hist,Media,Food/jambalay.pol             2001-11-08 15:36:04          856\n",
            "Humor,Hist,Media,Food/jawgumbo.fis             2001-11-08 15:36:04         1189\n",
            "Humor,Hist,Media,Food/jawsalad.fis             2001-11-08 15:36:04          949\n",
            "Humor,Hist,Media,Food/jerky.rcp                1999-08-01 23:21:42        22263\n",
            "Humor,Hist,Media,Food/jungjuic.bev             2001-11-08 15:36:06         1355\n",
            "Humor,Hist,Media,Food/kashrut.txt              1999-08-01 23:21:44        36132\n",
            "Humor,Hist,Media,Food/margos.txt               2001-11-08 15:36:08         1478\n",
            "Humor,Hist,Media,Food/mead.rcp                 1999-08-01 23:21:42        45569\n",
            "Humor,Hist,Media,Food/meat2.txt                1999-08-01 23:21:42        11653\n",
            "Humor,Hist,Media,Food/mitch.txt                2001-11-08 15:36:08         1862\n",
            "Humor,Hist,Media,Food/montoys.txt              2001-11-08 15:36:08          590\n",
            "Humor,Hist,Media,Food/mrsfield                 1999-08-01 23:21:42         2064\n",
            "Humor,Hist,Media,Food/msfields.txt             2000-01-31 01:48:28         1075\n",
            "Humor,Hist,Media,Food/newcoke.txt              1999-08-01 23:21:42        10665\n",
            "Humor,Hist,Media,Food/nzdrinks.txt             2002-02-08 09:09:20         3560\n",
            "Humor,Hist,Media,Food/oakwood.txt              2002-02-08 09:43:52         1514\n",
            "Humor,Hist,Media,Food/oatbran.rec              1999-08-01 23:21:44          821\n",
            "Humor,Hist,Media,Food/oculis.rcp               1999-08-01 23:21:44        29013\n",
            "Humor,Hist,Media,Food/oldtime.txt              2002-02-08 09:43:52         4887\n",
            "Humor,Hist,Media,Food/oranchic.pol             2001-09-26 14:15:42          961\n",
            "Humor,Hist,Media,Food/parsnip.txt              2000-01-31 01:14:56         2475\n",
            "Humor,Hist,Media,Food/pasta001.sal             2001-09-26 14:15:42         1246\n",
            "Humor,Hist,Media,Food/pbcookie.des             2001-09-26 14:15:42         1058\n",
            "Humor,Hist,Media,Food/penndtch                 2001-09-26 14:15:42        88532\n",
            "Humor,Hist,Media,Food/pepper.txt               1999-08-01 23:21:44         6396\n",
            "Humor,Hist,Media,Food/pot.txt                  2000-12-29 10:28:26        10079\n",
            "Humor,Hist,Media,Food/ppbeer.txt               2000-12-29 10:17:06         7341\n",
            "Humor,Hist,Media,Food/qttofu.vgn               2002-05-23 07:37:16          701\n",
            "Humor,Hist,Media,Food/quantity.001             2002-07-11 10:14:10         1013\n",
            "Humor,Hist,Media,Food/recepies.fun             1999-08-01 23:21:44         2152\n",
            "Humor,Hist,Media,Food/recip1.txt               1999-10-06 21:25:56         3703\n",
            "Humor,Hist,Media,Food/recipe.001               2002-02-08 09:43:52         2181\n",
            "Humor,Hist,Media,Food/recipe.002               2002-02-08 09:43:52         1215\n",
            "Humor,Hist,Media,Food/recipe.003               2002-02-08 09:43:52         1828\n",
            "Humor,Hist,Media,Food/recipe.004               2002-02-08 09:43:52         2400\n",
            "Humor,Hist,Media,Food/recipe.005               2002-02-08 09:43:52         2153\n",
            "Humor,Hist,Media,Food/recipe.006               2002-02-08 09:43:52         1397\n",
            "Humor,Hist,Media,Food/recipe.007               2002-02-08 09:43:52         1816\n",
            "Humor,Hist,Media,Food/recipe.009               2002-02-08 09:43:52         1283\n",
            "Humor,Hist,Media,Food/recipe.010               2002-02-08 09:43:52         1619\n",
            "Humor,Hist,Media,Food/recipe.011               2002-02-08 09:43:52         2527\n",
            "Humor,Hist,Media,Food/recipe.012               2002-02-08 09:43:52         1116\n",
            "Humor,Hist,Media,Food/renored.txt              2002-02-08 09:43:52         1468\n",
            "Humor,Hist,Media,Food/richbred.txt             2002-02-08 09:43:52         1219\n",
            "Humor,Hist,Media,Food/sanshop.txt              1999-09-29 22:04:06         6191\n",
            "Humor,Hist,Media,Food/seafood.txt              2001-11-08 15:36:08         1935\n",
            "Humor,Hist,Media,Food/seeds42.txt              1999-09-29 22:11:16        12804\n",
            "Humor,Hist,Media,Food/shooters.txt             1999-10-13 12:21:36        19242\n",
            "Humor,Hist,Media,Food/strattma.txt             2001-11-08 15:36:08         1073\n",
            "Humor,Hist,Media,Food/tuna.lab                 1999-08-01 23:21:42         2677\n",
            "Humor,Hist,Media,Food/turkey.fun               1999-08-01 23:21:44         5001\n",
            "Humor,Hist,Media,Food/twinkies.jok             1999-09-29 21:30:30         4489\n",
            "Humor,Hist,Media,Food/venganza.txt             2001-08-15 03:28:14         1481\n",
            "Humor,Hist,Media,Food/venison.txt              2001-08-15 03:28:18         1562\n",
            "Humor,Hist,Media,Food/whitbred.txt             2001-09-18 11:44:02         1405\n",
            "Humor,Hist,Media,Food/wonton.txt               2001-09-18 11:44:02        10772\n",
            "Humor,Hist,Media,Food/woods.txt                2001-09-18 11:44:02         1883\n",
            "Humor,Hist,Media,Food/x-drinks.txt             1999-08-01 23:21:44        36388\n",
            "Humor,Hist,Media,Food/yogurt.asc               2001-09-19 11:49:50         2280\n",
            "Humor,Hist,Media,Food/zucantom.sal             2001-11-08 15:36:08         1142\n",
            "Humor,Hist,Media,Food/zuccmush.sal             2001-11-08 15:36:08          902\n",
            "Humor,Hist,Media,Food/films_gl.txt             2000-12-10 14:27:32        66003\n",
            "Humor,Hist,Media,Food/stuf10.txt               2000-06-05 07:49:22        61478\n",
            "Humor,Hist,Media,Food/stuf11.txt               2000-06-05 07:49:28        51401\n",
            "Humor,Hist,Media,Food/bnbeg2.4.txt             2002-05-05 12:44:10        44595\n",
            "Humor,Hist,Media,Food/beauty.tm                2001-01-22 09:16:40        43731\n",
            "Humor,Hist,Media,Food/cultmov.faq              2000-08-13 08:26:52        43418\n",
            "Humor,Hist,Media,Food/tpquotes.txt             1999-08-05 07:02:46        37643\n",
            "Humor,Hist,Media,Food/anime.cli                2000-08-09 14:27:38        32871\n",
            "Humor,Hist,Media,Food/aeonint.txt              2000-01-10 06:44:20        32822\n",
            "Humor,Hist,Media,Food/crzycred.lst             2001-01-14 11:44:48        32448\n",
            "Humor,Hist,Media,Food/gameshow.txt             1999-08-13 19:48:36        29996\n",
            "Humor,Hist,Media,Food/allusion                 2000-08-09 14:27:14        28828\n",
            "Humor,Hist,Media,Food/oliver02.txt             1999-10-29 06:19:08        26688\n",
            "Humor,Hist,Media,Food/sw_err.txt               1999-10-06 11:53:14        25421\n",
            "Humor,Hist,Media,Food/sf-zine.pub              1999-10-29 06:20:52        24788\n",
            "Humor,Hist,Media,Food/commword.hum             1999-11-27 09:33:50        24107\n",
            "Humor,Hist,Media,Food/anime.lif                2000-08-09 14:27:42        23001\n",
            "Humor,Hist,Media,Food/classicm.hum             1999-11-27 09:32:26        20288\n",
            "Humor,Hist,Media,Food/japantv.txt              1999-10-04 04:08:54        20189\n",
            "Humor,Hist,Media,Food/christop.int             2000-08-13 08:25:34        19842\n",
            "Humor,Hist,Media,Food/homermmm.txt             2000-11-25 12:34:52        19445\n",
            "Humor,Hist,Media,Food/kanalx.txt               1999-09-08 11:06:52        18107\n",
            "Humor,Hist,Media,Food/arnold.txt               2001-01-22 09:15:18        15908\n",
            "Humor,Hist,Media,Food/facedeth.txt             2000-08-26 08:45:12        15356\n",
            "Humor,Hist,Media,Food/clancy.txt               2000-08-13 08:25:54        13652\n",
            "Humor,Hist,Media,Food/wacky.ani                2000-08-10 13:22:00        12996\n",
            "Humor,Hist,Media,Food/rns_bwl.txt              2000-06-04 18:43:04        12548\n",
            "Humor,Hist,Media,Food/sfmovie.txt              2000-06-12 06:04:48        12464\n",
            "Humor,Hist,Media,Food/normquot.txt             2000-12-17 20:24:26        11669\n",
            "Humor,Hist,Media,Food/bbh_intv.txt             1999-11-28 00:07:26        10381\n",
            "Humor,Hist,Media,Food/mov_rail.txt             2000-01-31 02:22:32         9795\n",
            "Humor,Hist,Media,Food/cast.lis                 2000-08-13 08:16:38         9785\n",
            "Humor,Hist,Media,Food/a_tv_t-p.com             2000-08-09 14:25:48         9597\n",
            "Humor,Hist,Media,Food/bnb_quot.txt             1999-10-06 10:22:20         9258\n",
            "Humor,Hist,Media,Food/ads.txt                  1999-09-08 11:06:52         8438\n",
            "Humor,Hist,Media,Food/adrian_e.faq             2000-08-09 14:26:16         8090\n",
            "Humor,Hist,Media,Food/rns_bcl.txt              2000-06-04 18:43:00         7499\n",
            "Humor,Hist,Media,Food/earp                     1999-09-08 11:06:52         6989\n",
            "Humor,Hist,Media,Food/petshop                  2000-10-10 09:15:56         6924\n",
            "Humor,Hist,Media,Food/letterbx.txt             1999-08-24 19:17:16         5806\n",
            "Humor,Hist,Media,Food/cgs_lst.txt              2000-03-26 14:47:16         4756\n",
            "Humor,Hist,Media,Food/hitchcoc.app             2000-12-11 05:16:30         4556\n",
            "Humor,Hist,Media,Food/hitchcok.txt             2000-08-10 11:28:34         4268\n",
            "Humor,Hist,Media,Food/aboutada.txt             2000-08-09 14:25:52         4139\n",
            "Humor,Hist,Media,Food/widows                   1999-09-08 11:06:54         4034\n",
            "Humor,Hist,Media,Food/how2dotv.txt             2000-11-25 12:38:12         3651\n",
            "Humor,Hist,Media,Food/tpquote2.txt             1999-08-05 07:02:46         3477\n",
            "Humor,Hist,Media,Food/bozo_tv.leg              1999-10-29 05:18:12         3329\n",
            "Humor,Hist,Media,Food/namm                     1999-09-08 11:06:52         2248\n",
            "Humor,Hist,Media,Food/a_fish_c.apo             2000-08-09 14:25:34         2000\n",
            "Humor,Hist,Media,Food/adt_miam.txt             1999-09-08 11:06:52         1946\n",
            "Humor,Hist,Media,Food/gd_ql.txt                2000-08-09 14:22:14        65056\n",
            "Humor,Hist,Media,Food/twilight.txt             2000-08-09 14:20:32        51968\n",
            "Humor,Hist,Media,Food/epi_tton.txt             2000-08-09 14:20:30        51823\n",
            "Humor,Hist,Media,Food/epi_.txt                 2000-08-09 14:20:30        43320\n",
            "Humor,Hist,Media,Food/lost.txt                 2000-08-09 14:20:32        43264\n",
            "Humor,Hist,Media,Food/gd_hhead.txt             2000-08-09 14:22:12        42877\n",
            "Humor,Hist,Media,Food/scratchy.txt             2000-08-09 14:20:32        42427\n",
            "Humor,Hist,Media,Food/epi_merm.txt             2000-08-09 14:20:30        41139\n",
            "Humor,Hist,Media,Food/comic_st.gui             2000-08-13 08:26:10        38567\n",
            "Humor,Hist,Media,Food/bnbguide.txt             2000-08-09 14:20:30        30602\n",
            "Humor,Hist,Media,Food/amazing.epi              2000-08-09 14:27:28        29815\n",
            "Humor,Hist,Media,Food/allfam.epi               2000-08-09 14:27:10        29390\n",
            "Humor,Hist,Media,Food/epi_bnb.txt              2000-08-09 14:20:30        28853\n",
            "Humor,Hist,Media,Food/gd_tznew.txt             2000-08-09 14:22:14        28658\n",
            "Humor,Hist,Media,Food/a-team                   2000-08-09 14:25:22        28594\n",
            "Humor,Hist,Media,Food/ateam.epi                2001-01-22 09:15:48        28593\n",
            "Humor,Hist,Media,Food/epi_rns.txt              2000-08-09 14:20:30        25727\n",
            "Humor,Hist,Media,Food/wkrp.epi                 2000-08-10 13:24:00        25642\n",
            "Humor,Hist,Media,Food/episimp2.txt             2000-08-09 14:20:30        22912\n",
            "Humor,Hist,Media,Food/gd_ol.txt                2000-08-09 14:22:12        21559\n",
            "Humor,Hist,Media,Food/gd_drwho.txt             2000-08-09 14:20:32        17296\n",
            "Humor,Hist,Media,Food/gd_sgrnd.txt             2000-08-09 14:22:14        16812\n",
            "Humor,Hist,Media,Food/blake7.lis               2001-01-22 09:17:12        16533\n",
            "Humor,Hist,Media,Food/gd_frasr.txt             2000-08-09 14:22:12        15851\n",
            "Humor,Hist,Media,Food/blackadd                 2001-01-22 09:17:00        14865\n",
            "Humor,Hist,Media,Food/bbc_vide.cat             2001-01-22 09:16:34        14019\n",
            "Humor,Hist,Media,Food/epiquest.txt             2000-08-09 14:22:12        13964\n",
            "Humor,Hist,Media,Food/avengers.lis             2001-01-22 09:15:56        12567\n",
            "Humor,Hist,Media,Food/highland.epi             2000-08-10 11:28:20        11391\n",
            "Humor,Hist,Media,Food/maxheadr                 2000-08-14 10:06:58         6912\n",
            "Humor,Hist,Media,Food/buldrwho.txt             2000-08-09 14:20:30         5251\n",
            "Humor,Hist,Media,Food/gd_maxhd.txt             2000-08-09 14:22:12         4586\n",
            "Humor,Hist,Media,Food/ghostsch.hum             2000-08-09 14:22:14         3553\n",
            "Humor,Hist,Media,Food/crazy.txt                2004-11-17 10:33:42         3940\n",
            "Humor,Hist,Media,Food/moore.txt                2004-06-11 20:34:02         7991\n",
            "Humor,Hist,Media,Food/msorrow                  2000-07-03 05:06:44        41151\n",
            "Humor,Hist,Media,Food/tribble.hum              1999-08-01 22:45:54         2429\n",
            "Humor,Hist,Media,Food/tshirts.jok              1999-08-01 22:45:58         8223\n",
            "Humor,Hist,Media,Food/tuflife.txt              1999-08-01 22:46:12         2865\n",
            "Humor,Hist,Media,Food/un.happy                 1999-08-01 22:47:20         3506\n",
            "Humor,Hist,Media,Food/units.mea                1999-08-01 22:45:58         1600\n",
            "Humor,Hist,Media,Food/various.txt              1999-08-01 23:17:06        42129\n",
            "Humor,Hist,Media,Food/wagit.txt                1999-08-01 22:45:58         3436\n",
            "Humor,Hist,Media,Food/worldend.hum             1999-08-01 22:45:56        13132\n",
            "Humor,Hist,Media,Food/soleleer.hum             1999-08-01 22:45:48        22051\n",
            "Humor,Hist,Media,Food/soporifi.abs             2001-02-04 14:16:42         2651\n",
            "Humor,Hist,Media,Food/sorority.gir             2000-10-10 01:27:16         7031\n",
            "Humor,Hist,Media,Food/teevee.hum               2007-02-18 08:09:08         4333\n",
            "Humor,Hist,Media,Food/terrmcd'.hum             1999-08-01 22:45:50         7203\n",
            "Humor,Hist,Media,Food/terrnieg.hum             1999-08-01 22:45:52         3283\n",
            "Humor,Hist,Media,Food/the_ant.txt              2000-06-28 10:12:50         2916\n",
            "Humor,Hist,Media,Food/thesis.beh               1999-08-01 22:45:54         5423\n",
            "Humor,Hist,Media,Food/toxcwast.hum             1999-08-01 22:45:52         4456\n",
            "Humor,Hist,Media,Food/simp.txt                 1999-08-01 22:45:28         2683\n",
            "Humor,Hist,Media,Food/smurf-03.txt             1999-10-13 12:53:28        10831\n",
            "Humor,Hist,Media,Food/puzzles.jok              1999-08-01 22:46:12         1413\n",
            "Humor,Hist,Media,Food/quantum.phy              2001-02-04 14:11:46         3969\n",
            "Humor,Hist,Media,Food/quux_p.oem               1999-08-01 22:46:12        56385\n",
            "Humor,Hist,Media,Food/repair.hum               1999-08-01 22:45:44         1943\n",
            "Humor,Hist,Media,Food/research.hum             1999-08-01 22:45:44         2226\n",
            "Humor,Hist,Media,Food/rinaldo.jok              1999-08-14 11:17:36         4165\n",
            "Humor,Hist,Media,Food/popmusi.hum              1999-08-01 22:45:40         4036\n",
            "Humor,Hist,Media,Food/prover.wisom             1999-08-01 22:47:20         2851\n",
            "Humor,Hist,Media,Food/prover_w.iso             1999-08-01 22:46:12         2935\n",
            "Humor,Hist,Media,Food/psych_pr.quo             1999-08-01 22:46:12         4396\n",
            "Humor,Hist,Media,Food/nintendo.jok             1999-08-01 22:46:10         6157\n",
            "Humor,Hist,Media,Food/nukewar.jok              1999-08-01 22:44:44         1077\n",
            "Humor,Hist,Media,Food/odearakk.hum             1999-08-01 22:45:38         1067\n",
            "Humor,Hist,Media,Food/oilgluts.hum             1999-08-01 22:45:38         3086\n",
            "Humor,Hist,Media,Food/passenge.sim             1999-08-01 22:46:08         3141\n",
            "Humor,Hist,Media,Food/penisprt.txt             2000-01-31 01:24:10         2377\n",
            "Humor,Hist,Media,Food/phunatdi.ana             1999-08-01 22:45:30         6928\n",
            "Humor,Hist,Media,Food/pickup.lin               1999-08-01 22:46:10         1582\n",
            "Humor,Hist,Media,Food/policpig.hum             1999-08-01 22:45:40         2988\n",
            "Humor,Hist,Media,Food/poll2res.hum             1999-08-01 22:45:40         7035\n",
            "Humor,Hist,Media,Food/polly.txt                1999-08-01 22:46:10         4087\n",
            "Humor,Hist,Media,Food/defectiv.hum             1999-08-01 22:44:48         3363\n",
            "Humor,Hist,Media,Food/desk.txt                 2000-01-30 09:25:32          641\n",
            "Humor,Hist,Media,Food/devils.jok               1999-08-01 22:45:40        13529\n",
            "Humor,Hist,Media,Food/drive.txt                2000-02-26 08:20:50         6322\n",
            "Humor,Hist,Media,Food/dym                      1999-08-01 22:45:02        18265\n",
            "Humor,Hist,Media,Food/econridl.fun             1999-10-29 06:15:14         7831\n",
            "Humor,Hist,Media,Food/empeval.txt              1999-08-01 23:17:06         2944\n",
            "Humor,Hist,Media,Food/english.txt              2001-01-13 08:43:16        12026\n",
            "Humor,Hist,Media,Food/final-ex.txt             1999-08-01 22:46:06         3915\n",
            "Humor,Hist,Media,Food/finalexm.hum             1999-08-01 22:44:52         3929\n",
            "Humor,Hist,Media,Food/forsooth.hum             1999-08-01 22:44:52         1064\n",
            "Humor,Hist,Media,Food/fusion.gal               2000-06-06 09:19:56         2853\n",
            "Humor,Hist,Media,Food/godmonth.txt             1999-08-01 23:17:10         3144\n",
            "Humor,Hist,Media,Food/good.txt                 1999-08-01 22:46:08         1436\n",
            "Humor,Hist,Media,Food/hate.hum                 1999-08-01 22:44:56         3741\n",
            "Humor,Hist,Media,Food/impurmat.hum             1999-08-01 22:45:00         4266\n",
            "Humor,Hist,Media,Food/ins1                     2000-08-08 23:37:44         3321\n",
            "Humor,Hist,Media,Food/insult                   1999-08-01 22:45:46         2024\n",
            "Humor,Hist,Media,Food/is_story.txt             2000-12-17 09:00:12         6150\n",
            "Humor,Hist,Media,Food/italoink.txt             1999-08-01 22:46:18         1821\n",
            "Humor,Hist,Media,Food/japrap.hum               1999-08-01 22:45:02         2054\n",
            "Humor,Hist,Media,Food/jrrt.riddle              1999-08-01 22:47:18          975\n",
            "Humor,Hist,Media,Food/lbinter.hum              1999-08-01 22:45:04        31676\n",
            "Humor,Hist,Media,Food/legal.hum                1999-08-01 22:45:28         7069\n",
            "Humor,Hist,Media,Food/lll.hum                  1999-08-01 22:45:30         5762\n",
            "Humor,Hist,Media,Food/lozeuser.hum             1999-08-01 22:45:30        50165\n",
            "Humor,Hist,Media,Food/luggage.hum              1999-08-01 22:45:30         6812\n",
            "Humor,Hist,Media,Food/madscrib.hum             1999-08-01 22:45:32        13506\n",
            "Humor,Hist,Media,Food/mash.hum                 1999-08-01 22:45:32        49974\n",
            "Humor,Hist,Media,Food/melodram.hum             1999-08-01 22:45:32        16081\n",
            "Humor,Hist,Media,Food/mensroom.jok             1999-08-01 22:44:54         4475\n",
            "Humor,Hist,Media,Food/miranda.hum              1999-08-01 22:45:34         3696\n",
            "Humor,Hist,Media,Food/mundane.v2               1999-10-01 12:28:08        22407\n",
            "Humor,Hist,Media,Food/mydaywss.hum             1999-08-01 22:45:34        14336\n",
            "Humor,Hist,Media,Food/abbott.txt               1999-08-01 22:44:34         8192\n",
            "Humor,Hist,Media,Food/advrtize.txt             2001-11-20 11:32:10         6962\n",
            "Humor,Hist,Media,Food/beerjesus.hum            1999-10-29 05:17:16          689\n",
            "Humor,Hist,Media,Food/bitnet.txt               2002-02-08 09:01:26        29450\n",
            "Humor,Hist,Media,Food/boston.geog              1999-08-01 22:45:36          274\n",
            "Humor,Hist,Media,Food/carowner.txt             2001-06-15 13:28:04         1717\n",
            "Humor,Hist,Media,Food/cartoon_.txt             1999-08-01 22:45:00         3865\n",
            "Humor,Hist,Media,Food/chainltr.txt             1999-08-01 22:46:02         1744\n",
            "Humor,Hist,Media,Food/dead4.txt                2001-05-06 04:02:42        68489\n",
            "Humor,Hist,Media,Food/analogy.hum              1999-08-01 22:44:22         3486\n",
            "Humor,Hist,Media,Food/parades.hum              1999-08-01 22:44:22         3863\n",
            "Humor,Hist,Media,Food/throwawa.hum             1999-08-01 22:44:24         4181\n",
            "Humor,Hist,Media,Food/anorexia.txt             2002-02-23 12:43:24         2059\n",
            "Humor,Hist,Media,Food/arthriti.txt             2002-02-23 12:43:24        10878\n",
            "Humor,Hist,Media,Food/beesherb.txt             2002-02-23 12:43:24         5293\n",
            "Humor,Hist,Media,Food/bredcake.des             2001-11-20 11:24:46         1060\n",
            "Humor,Hist,Media,Food/brewing                  1999-08-01 23:21:42        22077\n",
            "Humor,Hist,Media,Food/brownie.rec              2000-01-16 20:58:20         2861\n",
            "Humor,Hist,Media,Food/btscke02.des             2001-11-20 11:24:46         1478\n",
            "Humor,Hist,Media,Food/buffwing.pol             2001-11-20 11:24:48          600\n",
            "Humor,Hist,Media,Food/bw.txt                   2002-02-23 12:43:24        53249\n",
            "Humor,Hist,Media,Food/cake.rec                 2000-02-25 02:45:34         3291\n",
            "Humor,Hist,Media,Food/chickens.txt             1999-11-27 09:29:10         3299\n",
            "Humor,Hist,Media,Food/diet.txt                 1999-10-29 05:23:04         2820\n",
            "Humor,Hist,Media,Food/drinks.gui               1999-08-01 23:21:44        48630\n",
            "Humor,Hist,Media,Food/food                     2000-01-31 08:04:10        13939\n",
            "Humor,Hist,Media,Food/frogeye1.sal             2001-09-18 11:37:00         1143\n",
            "Humor,Hist,Media,Food/garlpast.vgn             2001-09-18 11:37:02         1284\n",
            "Humor,Hist,Media,Food/gingbeer.txt             1999-08-13 19:43:48         3539\n",
            "Humor,Hist,Media,Food/gumbo.txt                2002-05-07 11:45:50         2911\n",
            "Humor,Hist,Media,Food/hangover.txt             1999-10-29 20:13:04         1560\n",
            "Humor,Hist,Media,Food/japice.bev               2001-11-08 15:36:04          552\n",
            "Humor,Hist,Media,Food/orgfrost.bev             2001-09-26 14:15:42          591\n",
            "Humor,Hist,Media,Food/recipe.008               2002-02-08 09:43:52         1265\n",
            "Humor,Hist,Media,Food/scam.txt                 1999-09-29 22:06:12         5487\n",
            "Humor,Hist,Media,Food/shuimai.txt              2001-11-08 15:36:08        14823\n",
            "Humor,Hist,Media,Food/snapple.rum              1999-08-01 23:21:42         6714\n",
            "Humor,Hist,Media,Food/stagline.txt             2001-11-08 15:36:08          910\n",
            "Humor,Hist,Media,Food/texbeef.txt              2001-09-18 11:37:02         1464\n",
            "Humor,Hist,Media,Food/vegan.rcp                1999-08-01 23:21:42       108682\n",
            "Humor,Hist,Media,Food/filmgoof.txt             2000-12-10 14:27:30        62752\n",
            "Humor,Hist,Media,Food/epikarat.txt             1999-09-08 11:06:52        52372\n",
            "Humor,Hist,Media,Food/rns_ency.txt             2000-06-04 18:43:08        46202\n",
            "Humor,Hist,Media,Food/chung.iv                 2000-08-13 08:25:40        20906\n",
            "Humor,Hist,Media,Food/gd_flybd.txt             1999-09-08 11:06:52        19987\n",
            "Humor,Hist,Media,Food/oliver.txt               1999-10-29 06:19:04        19074\n",
            "Humor,Hist,Media,Food/subb_lis.txt             2000-06-05 06:15:30        14821\n",
            "Humor,Hist,Media,Food/horflick.txt             1999-11-27 10:06:16        14080\n",
            "Humor,Hist,Media,Food/twinpeak.txt             1999-09-08 19:06:00        13312\n",
            "Humor,Hist,Media,Food/missdish                 2000-01-31 02:44:18         5475\n",
            "Humor,Hist,Media,Food/hbo_spec.rev             2000-08-10 11:27:54         4845\n",
            "Humor,Hist,Media,Food/mtv.asc                  2000-01-31 01:50:04         1908\n",
            "Humor,Hist,Media,Food/gd_gal.txt               2000-08-09 14:20:32        40342\n",
            "Humor,Hist,Media,Food/gd_alf.txt               2000-08-09 14:20:30        22410\n",
            "Humor,Hist,Media,Food/outlimit.txt             2000-08-09 14:20:32        22090\n",
            "Humor,Hist,Media,Food/gd_liqtv.txt             2000-08-09 14:22:12         6082\n"
          ]
        }
      ],
      "source": [
        "from zipfile import ZipFile\n",
        "\n",
        "# f = '/content/Humor,Hist,Media,Food.zip'\n",
        "f = r\"/content/Humor,Hist,Media,Food (1).zip\"\n",
        "\n",
        "with ZipFile(f,'r') as zip:\n",
        "  zip.printdir()\n",
        "  zip.extractall()"
      ]
    },
    {
      "cell_type": "code",
      "execution_count": 1,
      "metadata": {
        "id": "4sglgJG5ZGeb"
      },
      "outputs": [],
      "source": [
        "import numpy as np\n",
        "import pandas as pd\n"
      ]
    },
    {
      "cell_type": "markdown",
      "metadata": {
        "id": "UnK2CAI6TwpZ"
      },
      "source": [
        "Reading the files"
      ]
    },
    {
      "cell_type": "code",
      "execution_count": 76,
      "metadata": {
        "id": "SSsadb-PZpqP",
        "colab": {
          "base_uri": "https://localhost:8080/"
        },
        "outputId": "e5ff14e1-a55d-4832-f591-f68368132f9c"
      },
      "outputs": [
        {
          "output_type": "execute_result",
          "data": {
            "text/plain": [
              "['ISOTRETINOINACCUTANEACNEPREGNANCYCYSTICFETALHEALTHMEDICINE \\n',\n",
              " 'ISOTRETINOIN (ACCUTANE) TREATMENT OF ACNE \\n',\n",
              " '\\n',\n",
              " '\\n',\n",
              " 'Isotretinoin (Accutane) treatment of acne  \\n',\n",
              " '-----------------------------------------\\n',\n",
              " '\\n',\n",
              " '   It  has long been known that vitamin A has a regulatory effect \\n',\n",
              " 'on  growth and differentiation of epithelial  tissue.  Since  the \\n',\n",
              " \"1940's,  high  doses  of  vitamin  A have been  employed  in  the \\n\",\n",
              " 'treatment of severe acne and various disorders of keratinization. \\n',\n",
              " \"Vitamin A's use, however, was limited by its side effects - liver \\n\",\n",
              " 'toxicity and pseudotumor cerebri in particular.  In an attempt to \\n',\n",
              " 'find  a  drug  with a better therapeutic index  than  vitamin  A, \\n',\n",
              " 'several synthetic retinoids have been developed (1).\\n',\n",
              " '\\n',\n",
              " '   One of these,  isotretinoin (13-cis-retinoic acid),  was first \\n',\n",
              " 'synthesized in 1955.  It was largely ignored until the results of \\n',\n",
              " 'the  first major clinical trial demonstrating its efficacy in the \\n',\n",
              " 'treatment  of severe recalcitrant cystic acne were  published  in \\n',\n",
              " '1972 (2). in 1982, isotretinoin was approved in the United States \\n',\n",
              " 'for  that single indication only.  Its trade name is Accutane.  A \\n',\n",
              " 'major  feature  of  this drug is that  it  produces  a  prolonged \\n',\n",
              " 'remission  in patients with severe cystic acne,  many of whom had \\n',\n",
              " 'not  responded to other therapies.  The most striking  discovery, \\n',\n",
              " 'however,  is that the remission is often sustained for months  or \\n',\n",
              " 'years  after  the four- to five-month treatment course  has  been \\n',\n",
              " 'completed.\\n',\n",
              " '\\n',\n",
              " 'Transport and metabolism of vitamin A (retinol) and isotretinoin \\n',\n",
              " '\\n',\n",
              " '   Significant  differences  between vitamin A  and  isotretinoin \\n',\n",
              " 'with  regard to their transport and metabolism account for  their \\n',\n",
              " 'difference  in  toxicity  (3).  The  major source  of  vitamin  A \\n',\n",
              " '(retinol)  is the conversion of dietary plant carotenoids in  the \\n',\n",
              " 'intestinal mucosa. Retinol is stored in the liver, which contains \\n',\n",
              " 'over  90%  of  body  stores.   Mobilization  from  the  liver  is \\n',\n",
              " 'accomplished  when  retinol  is bound  to  a  specific  transport \\n',\n",
              " 'protein,  retinol  binding protein,  that delivers it to tissues. \\n',\n",
              " 'Plasma  levels of vitamin A tend to remain constant despite  wide \\n',\n",
              " 'variations in diet. Extremely high dietary intake (eg. polar bear \\n',\n",
              " 'liver,   vitamin   A   tablets)  produces   hypervitaminosis   A. \\n',\n",
              " 'Hypervitaminosis  A results in greatly increased  hepatic  stores \\n',\n",
              " 'and subsequent toxicity.\\n',\n",
              " '\\n',\n",
              " '   In contrast, isotretinoin binds to serum albumin. Isotretinoin \\n',\n",
              " 'is  readily  absorbed  orally and put into  circulation  via  the \\n',\n",
              " 'portal  system.  It  is  not significantly stored  in  any  organ \\n',\n",
              " 'system, and plasma levels vary with the amount ingested.\\n',\n",
              " '\\n',\n",
              " 'Mode of action of isotretinoin in the treatment of acne\\n',\n",
              " '\\n',\n",
              " '   Acne is a disease of the pilosebaceous unit.  The pathogenesis \\n',\n",
              " 'of  acne is believed to include several factors.  Among them  are \\n',\n",
              " 'excessive sebum production, abnormal keratinization of follicular \\n',\n",
              " \"epithelium,    proliferation    of   'Propionibacterium   acnes', \\n\",\n",
              " 'inflammation, and hormonal regulation of sebaceous glands.\\n',\n",
              " '\\n',\n",
              " '   Isotreinoin affects several of these mechanisms, but its exact \\n',\n",
              " 'mode of action is not known.  Isotretinoin causes pronounced  but \\n',\n",
              " 'temporary inhibition of sebum production and atrophy of sebaceous \\n',\n",
              " 'glands  (4).  In  general,  after two weeks of  standard  therapy \\n',\n",
              " '(1mg/kg/day),  sebum production is decreased by more than 50% and \\n',\n",
              " 'by  the  end of a four- to five- month treatment  period,  it  is \\n',\n",
              " 'reduced  by greater than 90%.  While there are some patients  who \\n',\n",
              " 'continue to have decreased sebum production months to years after \\n',\n",
              " 'cessation  of therapy,  the sebum production of the vast majority \\n',\n",
              " 'returns  to the baseline level within a few months.  Since  sebum \\n',\n",
              " 'production returns to normal in most patients,  this is obviously \\n',\n",
              " 'not  the sole mechanism for the prolonged remission of acne  seen \\n',\n",
              " 'in these individuals.  Many of these patients continue to improve \\n',\n",
              " 'even after therapy is discontinued (5).\\n',\n",
              " '\\n',\n",
              " '   Some   investigators   believe  that   isotretinoin   inhibits \\n',\n",
              " 'follicular keratinization in patients with acne.  They  postulate \\n',\n",
              " 'that  this  prevents the formation of comedomes  (whiteheads  and \\n',\n",
              " 'blackheads), the precursors of inflammatory acne lesions.\\n',\n",
              " '\\n',\n",
              " \"   Isotretinoin  does decrease the quantity of  'Propionbacterium \\n\",\n",
              " \"acnes' in treated patients.  This organism is normal flora within \\n\",\n",
              " 'the  follicles.  Increased numbers of these bacteria in  patients \\n',\n",
              " 'with  acne  produce various chemotactic factors and enzymes  that \\n',\n",
              " 'may increase inflammation. The decreased number of these bacteria \\n',\n",
              " 'in  isotretinoin-treated  patients is thought to be a  result  of \\n',\n",
              " 'decreased sebum production,  producing a poor environment for the \\n',\n",
              " 'proliferation  of  this  organism.   Therefore,   the   decreased \\n',\n",
              " 'bacterial counts are thought to be secondary, and not the primary \\n',\n",
              " 'mechanism of action of Accutane.\\n',\n",
              " '\\n',\n",
              " 'Clinical side effects\\n',\n",
              " '\\n',\n",
              " '   Mucocutaneous  side  effects  are  the  most  common  seen  in \\n',\n",
              " 'isotretinoin  treatment  (6).  More  than 90% of  people  treated \\n',\n",
              " 'experience  cheilitis,  usually  within the first  two  weeks  of \\n',\n",
              " 'treatment.  This is most easily treated with bland emolliation. A \\n',\n",
              " 'generalized xerosis is very common,  but frequently acne patients \\n',\n",
              " 'view  this  as a beneficial rather than  adverse  effect.  Should \\n',\n",
              " 'xerosis become problematic, the use of a noncomedogenic emollient \\n',\n",
              " 'lotion  can be employed.  Frequently patients develop nose bleeds \\n',\n",
              " 'and non-infectious conjunctivitis. Symptomatic treatment of these \\n',\n",
              " 'problems  is  all that is indicated.  Less than 30%  of  patients \\n',\n",
              " 'notice  temporary thinning of the hair.  Less than 10%  of  these \\n',\n",
              " 'have  clinically apparent hair loss,  and hair density returns to \\n',\n",
              " 'normal after treatment is discontinued. \\n',\n",
              " '\\n',\n",
              " '   Approximately  20% of patients on isotretinoin  have  musculo-\\n',\n",
              " 'skeletal pains.  These tend to be minor, and are relieved by non-\\n',\n",
              " 'steroidal  anti-inflammatory  agents.   More  worrisome  are  the \\n',\n",
              " 'skeletal abnormalities seen in patients on long term isotretinoin \\n',\n",
              " 'treatment for various keratinizing disorders (7).  These patients \\n',\n",
              " 'however  ,  were usually treated with higher doses of  2mg/kg/day \\n',\n",
              " 'for more than two years.  The ossification disorder seen in these \\n',\n",
              " 'patients   resembles  diffuse  idiopathic  skeletal   hypostosis. \\n',\n",
              " 'Children  being  treated for these disoreders had x-ray  findings \\n',\n",
              " 'suggesting premature closure of the epiphyses of the knees.\\n',\n",
              " '\\n',\n",
              " '   More  recently,  in a small prospective study of  patients  on \\n',\n",
              " 'doses  of  2  mg/kg/day  of isotretinoin  for  the  treatment  of \\n',\n",
              " 'keratinizing   disorders,   radiologically  documented   skeletal \\n',\n",
              " 'changes  were  noted  after only 6-12 months  of  therapy.  These \\n',\n",
              " 'changes  consisted of slightly increased bone formation in  areas \\n',\n",
              " 'of  ligament  attachment.  It is not yet known  whether  this  is \\n',\n",
              " 'reversible.\\n',\n",
              " '\\n',\n",
              " '   A  small number of patients may have a temporary flare of acne \\n',\n",
              " 'at the onset of treatment. Some clinincians feel that this can be \\n',\n",
              " 'minimized  by the administration of low dose prednisone  or  oral \\n',\n",
              " 'antibiotics. \\n',\n",
              " '\\n',\n",
              " '   Pseudotumor  cerebri  ( benign intracranial hypertension)  has \\n',\n",
              " 'occurred  in patients treated with  isotretinoin.  Patients  with \\n',\n",
              " 'headache,  nausea,  vomitting  or  visual disturbances should  be \\n',\n",
              " 'screened for papilledema.  The drug should be stopped immediately \\n',\n",
              " 'if papilledema is present. \\n',\n",
              " '\\n',\n",
              " '   Patients  with visual disturbances should also be checked  for \\n',\n",
              " 'corneal  opacities.  Corneal opacities occur more  frequently  in \\n',\n",
              " 'those   patients  receiving  higher  doses  of  isotretinoin  for \\n',\n",
              " 'keratinizing  disorders  but has also been reported  in  patients \\n',\n",
              " 'treated for cystic acne. The opacities resolve six to seven weeks \\n',\n",
              " 'after discontinuation of the drug. \\n',\n",
              " '\\n',\n",
              " '   There  have been rare reports of inflammatory bowel disease in \\n',\n",
              " 'patients  treated with isotretinoin.  Occasional patients  report \\n',\n",
              " 'fatigue or lassitude.\\n',\n",
              " '\\n',\n",
              " 'Laboratory abnormalities\\n',\n",
              " '\\n',\n",
              " '   One  fourth  of  patients treated  with  isotretinoin  develop \\n',\n",
              " 'elevated  serum triglycerides during their  four- to  five- month \\n',\n",
              " 'course  of  treatment for acne.  Approximately one eighth have  a \\n',\n",
              " 'decrease  in  the  HDL  level and  one  sixteenth  have  elevated \\n',\n",
              " 'chloresterol.  These  changes  usually resolve after  therapy  is \\n',\n",
              " 'discontinued.  It  is  important to monitor blood lipids  at  the \\n',\n",
              " 'onset  of therapy and at intervals of two to four weeks until  it \\n',\n",
              " 'is seen that there are no significant changes.  Minor  elevations \\n',\n",
              " 'in  triglycerides are best treated by dietary maneuvres.  It   is \\n',\n",
              " 'not  known  what  role the lipid abnormalities may  play  in  the \\n',\n",
              " 'production  of coronary heart disease,  but the risk is currently \\n',\n",
              " 'thought  to  be low since abnormalities return  to  normal  after \\n',\n",
              " 'therapy  is stopped.  It is perhaps best that patients with  high \\n',\n",
              " 'triglyceride  elevations  be  treated with the  lowest  effective \\n',\n",
              " 'dosage of isotretinoin for a shorter period of time. Triglyceride \\n',\n",
              " 'elevations of greater than 500 mg/dL necessitate  discontinuation \\n',\n",
              " 'of  the drug,  as these patients are at risk for developing acute \\n',\n",
              " 'pancreatitis.  A few patients develop mild leukopenia, anemia, or \\n',\n",
              " 'thrombocytosis. Mild pyuria and liver function test abnormalities \\n',\n",
              " 'occasionally occur.  These changes appear to be reversible  after \\n',\n",
              " 'discontinuation  of  the  drug  and are  usually  not  clinically \\n',\n",
              " 'significant.\\n',\n",
              " '\\n',\n",
              " 'Isotretinoin and pregnancy\\n',\n",
              " '\\n',\n",
              " '   The   most  serious  side  effect  of  isotretinoin   is   its \\n',\n",
              " 'teratogenicity.  The  drug  should not be used by women  who  are \\n',\n",
              " 'pregnant  or those who plan to become pregnant during  treatment. \\n',\n",
              " 'Contraception is recommended for women taking the drug, beginning \\n',\n",
              " 'one month before treatment,  and continuing until one month after \\n',\n",
              " 'discontinuation of treatment.  Many physicians obtain a pregnancy \\n',\n",
              " 'test within two weeks prior to starting therapy. \\n',\n",
              " '\\n',\n",
              " '   Reported    fetal    abnormalities   include    hydrocephalus, \\n',\n",
              " 'microcephalus,  abnormalities  of the external  ear  (micropinna, \\n',\n",
              " 'small  or  absent external auditory  canals),  Micropthalmia  and \\n',\n",
              " 'cardiovascular  abnormalities.  These abnormalities have  occured \\n',\n",
              " 'only  in  children  born to mothers exposed to  the  drug  during \\n',\n",
              " 'pregnancy.\\n',\n",
              " '\\n',\n",
              " '   The   package  insert  recommends  that  patients  who  become \\n',\n",
              " 'pregnant  discuss  with  their  physician  the  desirability   of \\n',\n",
              " 'continuing the pregnancy.  Since the half-life of isotretinoin is \\n',\n",
              " 'less than one to three days, it is believed that there is no risk \\n',\n",
              " 'of  teratogenicity  during  subsequent pregnancies  occurring  at \\n',\n",
              " 'least one month after treatment has been stopped.\\n',\n",
              " '\\n',\n",
              " '   While  no reproduction studies have been performed  on  humans \\n',\n",
              " 'taking  isotretinoin,  studies in rats have not revealed impaired \\n',\n",
              " 'fertility. No significant changes have been seen in the number or \\n',\n",
              " 'mobility of spermatazoa of human males receiving isotretinoin. As \\n',\n",
              " 'it is not known whether isotretinoin is secreted into milk, it is \\n',\n",
              " 'inadvisable to treat nursing mothers with the drug.\\n',\n",
              " '\\n',\n",
              " 'Dosage and administration\\n',\n",
              " '\\n',\n",
              " '   Isotretinoin  is  presently approved by the FDA only  for  the \\n',\n",
              " 'treatment of severe recalcitrant nodulocystic acne. While dosages \\n',\n",
              " 'of 0.1,  0.5,  and 1.0 mg/kg/day orally seem equally effective in \\n',\n",
              " 'inducing  a remission of acne,  there is a  significantly  higher \\n',\n",
              " 'relapse rate in patients rate in patients treated at lower doses. \\n',\n",
              " 'As  the goal of isotretinoin therapy is not only the clearing  of \\n',\n",
              " 'active disease but the indefinite maintenance of clearing,  it is \\n',\n",
              " 'recommended  that patients be treated with 1 mg/kg/day for  16-20 \\n',\n",
              " 'weeks. Extensive truncal lesions, which do not respond as quickly \\n',\n",
              " 'or  completely as facial lesions,  may require dosages of 1.5-2.0 \\n',\n",
              " 'mg/kg/day. Isotretinoin is supplied in 10,20, and 20 mg capsules. \\n',\n",
              " 'Most patients are treated with 40 mg twice daily. Patients should \\n',\n",
              " 'be  advised not to ingest any vitamin A supplements during  their \\n',\n",
              " 'treatment course.\\n',\n",
              " '\\n',\n",
              " 'Other indications\\n',\n",
              " '\\n',\n",
              " '   Isotretinoin has also been shown to be effective for a variety \\n',\n",
              " 'of  other skin disorders,  but it is not yet approved by the  FDA \\n',\n",
              " 'for  these indications.  These include several variants of  acne: \\n',\n",
              " 'hidradenitis   suppurativa,   gram  negative  folliculitis,   and \\n',\n",
              " 'rosacea.\\n',\n",
              " '\\n',\n",
              " '   Retinoids also have an antineoplastic effect. Several patients \\n',\n",
              " 'with  the  basal  cell nervus  syndrome,  an  autosomal  dominant \\n',\n",
              " 'disorder   in   which  patients  develop  multiple   basal   cell \\n',\n",
              " 'carcinomas, have been treated. Isotretinoin resulted in reduction \\n',\n",
              " 'in  tumor  sizes,  but  usually did not  completely  destroy  the \\n',\n",
              " 'tumors.  Retinoids  are  also being studied for  possible  future \\n',\n",
              " 'roles  in cancer prevention.  Isotretinoin and other retinoids  ( \\n',\n",
              " 'especially etretinate,  an aromatic retinoid not yet available in \\n',\n",
              " 'the  US) have been used to treat a wide variety  of  keratinizing \\n',\n",
              " 'skin  disorders,   such  as  psoriasis,  keratosis  follicularis, \\n',\n",
              " 'ichthyosis,  pityriasis rubra pilaris, and others (8). Discussion \\n',\n",
              " 'of  this is beyond the scope of this paper.  Although the drug is \\n',\n",
              " 'very effective for several of these disorders,  the major problem \\n',\n",
              " 'is  that  long-term  treatment  is  required  for  these  chronic \\n',\n",
              " 'diseases,   and  long-term  safety  of  retinoids  has  not  been \\n',\n",
              " 'established.\\n',\n",
              " '\\n',\n",
              " 'Conclusion \\n',\n",
              " '\\n',\n",
              " '   Isotretinoin   (Accutane)  is  an  exceedingly  useful   drug, \\n',\n",
              " 'producing dramatic prolonged remissions after four to five  weeks \\n',\n",
              " 'in  most patients with severe nodulocystic acne.  Because of  its \\n',\n",
              " 'side effects, teratogenicity, and cost (about $600 for a four- to \\n',\n",
              " 'five- month course of treatment), the drug should be reserved for \\n',\n",
              " 'the less than 1% of patients with severe acne.\\n',\n",
              " '\\n',\n",
              " '\\x1a']"
            ]
          },
          "metadata": {},
          "execution_count": 76
        }
      ],
      "source": [
        "with open('/content/Humor,Hist,Media,Food/'+name[8],encoding='utf8',errors='ignore') as f:\n",
        "    lines = f.readlines()\n",
        "\n",
        "lines"
      ]
    },
    {
      "cell_type": "code",
      "execution_count": 2,
      "metadata": {
        "id": "QKds-qh8-9bM"
      },
      "outputs": [],
      "source": [
        "import os\n",
        "p = r\"/content/Humor,Hist,Media,Food\"\n",
        "name = os.listdir(p)\n"
      ]
    },
    {
      "cell_type": "code",
      "execution_count": 3,
      "metadata": {
        "id": "3983xjfaBomi"
      },
      "outputs": [],
      "source": [
        "name = sorted(name)"
      ]
    },
    {
      "cell_type": "code",
      "execution_count": 107,
      "metadata": {
        "colab": {
          "base_uri": "https://localhost:8080/"
        },
        "id": "Jtca5p7gT0ph",
        "outputId": "1fc4b985-d46c-4819-90da-c80115fbcd26"
      },
      "outputs": [
        {
          "output_type": "execute_result",
          "data": {
            "text/plain": [
              "1133"
            ]
          },
          "metadata": {},
          "execution_count": 107
        }
      ],
      "source": [
        "len(name)"
      ]
    },
    {
      "cell_type": "markdown",
      "source": [
        "### Reading the documents"
      ],
      "metadata": {
        "id": "aYpN4fsjKgrs"
      }
    },
    {
      "cell_type": "code",
      "execution_count": 4,
      "metadata": {
        "id": "XmoKAdtkAZ2K"
      },
      "outputs": [],
      "source": [
        "doc10 = []\n",
        "\n",
        "for i in range(len(name)):\n",
        "  # print(name[i])\n",
        "  # print(i)\n",
        "  \n",
        "  # if '.' not in l[i]:\n",
        "  #   l[i]+=\".txt\"\n",
        "  try:\n",
        "    # with open(\"/content/Humor,Hist,Media,Food/\"+name[i],'r',encoding='utf8',errors='ignore') as f:\n",
        "    #   lines = f.readlines()\n",
        "    # t1 = \" \".join(lines)\n",
        "    f = open(\"/content/Humor,Hist,Media,Food/\"+name[i],\"r\")\n",
        "    d = f.read()\n",
        "    doc10.append(d)\n",
        "  except:\n",
        "    # with open(\"/content/Humor,Hist,Media,Food/\"+name[i],'rb',encoding='utf8',errors='ignore') as f:\n",
        "    #   lines = f.readlines()\n",
        "    # t1 = \" \".join(lines)\n",
        "    # doc.append(t1)\n",
        "    f = open(\"/content/Humor,Hist,Media,Food/\"+name[i],\"rb\")\n",
        "    d = f.read().decode('utf-8','backslashreplace')\n",
        "    doc10.append(d)\n"
      ]
    },
    {
      "cell_type": "code",
      "execution_count": 5,
      "metadata": {
        "id": "CF4KDAqS4r0S"
      },
      "outputs": [],
      "source": [
        "import re\n",
        "import nltk\n",
        "import string"
      ]
    },
    {
      "cell_type": "code",
      "execution_count": 6,
      "metadata": {
        "colab": {
          "base_uri": "https://localhost:8080/"
        },
        "id": "O5ya6KoS5i49",
        "outputId": "bef93bdc-3aef-46e6-cca1-18ab6d84a6de"
      },
      "outputs": [
        {
          "output_type": "stream",
          "name": "stdout",
          "text": [
            "[nltk_data] Downloading package stopwords to /root/nltk_data...\n",
            "[nltk_data]   Package stopwords is already up-to-date!\n"
          ]
        },
        {
          "output_type": "execute_result",
          "data": {
            "text/plain": [
              "True"
            ]
          },
          "metadata": {},
          "execution_count": 6
        }
      ],
      "source": [
        "nltk.download('stopwords')"
      ]
    },
    {
      "cell_type": "code",
      "execution_count": 7,
      "metadata": {
        "colab": {
          "base_uri": "https://localhost:8080/"
        },
        "id": "N5skaMhm5pfJ",
        "outputId": "11c12cfd-75a0-403d-d16a-2d3b9c2ae632"
      },
      "outputs": [
        {
          "output_type": "stream",
          "name": "stdout",
          "text": [
            "[nltk_data] Downloading package punkt to /root/nltk_data...\n",
            "[nltk_data]   Package punkt is already up-to-date!\n"
          ]
        },
        {
          "output_type": "execute_result",
          "data": {
            "text/plain": [
              "True"
            ]
          },
          "metadata": {},
          "execution_count": 7
        }
      ],
      "source": [
        "nltk.download('punkt')"
      ]
    },
    {
      "cell_type": "code",
      "execution_count": 8,
      "metadata": {
        "id": "Rzr7NdSt50qO"
      },
      "outputs": [],
      "source": [
        "from nltk.corpus import stopwords\n",
        "from nltk.tokenize import word_tokenize\n",
        "import unicodedata"
      ]
    },
    {
      "cell_type": "markdown",
      "metadata": {
        "id": "F1x1QpfaT5Zb"
      },
      "source": [
        "Function for removing stopwords"
      ]
    },
    {
      "cell_type": "code",
      "execution_count": 9,
      "metadata": {
        "id": "IrOvSZQp5_t3"
      },
      "outputs": [],
      "source": [
        "def remove_stopwords(text):\n",
        "    stop_words = set(stopwords.words(\"english\"))\n",
        "    word_tokens = word_tokenize(text)\n",
        "    filtered_text = [word for word in word_tokens if word not in stop_words]\n",
        "    return \" \".join(filtered_text)"
      ]
    },
    {
      "cell_type": "markdown",
      "metadata": {
        "id": "1cUuGQAbT87c"
      },
      "source": [
        "Function for removing non ascii words"
      ]
    },
    {
      "cell_type": "code",
      "execution_count": 10,
      "metadata": {
        "id": "YrkWAlzk6sKs"
      },
      "outputs": [],
      "source": [
        "def non_ascii_removal(words):\n",
        "    \"\"\"Remove non-ASCII characters from list of tokenized words\"\"\"\n",
        "    words = word_tokenize(words)\n",
        "    new_words = []\n",
        "    for word in words:\n",
        "        new_word = unicodedata.normalize('NFKD', word).encode('ascii', 'ignore').decode('utf-8', 'ignore')\n",
        "        new_words.append(new_word)\n",
        "    return \" \".join(new_words)"
      ]
    },
    {
      "cell_type": "code",
      "execution_count": 11,
      "metadata": {
        "colab": {
          "base_uri": "https://localhost:8080/"
        },
        "id": "9hMI2Q6G-C1E",
        "outputId": "1f08b29a-fa04-469e-d646-541eb7f2469e"
      },
      "outputs": [
        {
          "output_type": "stream",
          "name": "stdout",
          "text": [
            "[nltk_data] Downloading package averaged_perceptron_tagger to\n",
            "[nltk_data]     /root/nltk_data...\n",
            "[nltk_data]   Unzipping taggers/averaged_perceptron_tagger.zip.\n"
          ]
        },
        {
          "output_type": "execute_result",
          "data": {
            "text/plain": [
              "True"
            ]
          },
          "metadata": {},
          "execution_count": 11
        }
      ],
      "source": [
        "nltk.download('averaged_perceptron_tagger')"
      ]
    },
    {
      "cell_type": "code",
      "execution_count": null,
      "metadata": {
        "colab": {
          "base_uri": "https://localhost:8080/"
        },
        "id": "mQJw_E6599DQ",
        "outputId": "840202ba-0711-4244-d2b8-1501f623dd76"
      },
      "outputs": [
        {
          "data": {
            "text/plain": [
              "[('dogs', 'NNS')]"
            ]
          },
          "execution_count": 22,
          "metadata": {},
          "output_type": "execute_result"
        }
      ],
      "source": [
        "nltk.pos_tag([\"dogs\"])"
      ]
    },
    {
      "cell_type": "code",
      "execution_count": 11,
      "metadata": {
        "id": "kGaO2RSZ-OKp"
      },
      "outputs": [],
      "source": [
        "from nltk.stem import WordNetLemmatizer\n",
        " \n",
        "lemmatizer = WordNetLemmatizer()"
      ]
    },
    {
      "cell_type": "code",
      "execution_count": 12,
      "metadata": {
        "colab": {
          "base_uri": "https://localhost:8080/"
        },
        "id": "ysiMiLNX-bwA",
        "outputId": "c6d2d882-8c8f-4f29-d22c-18a9d6c5b37a"
      },
      "outputs": [
        {
          "output_type": "stream",
          "name": "stdout",
          "text": [
            "[nltk_data] Downloading package wordnet to /root/nltk_data...\n",
            "[nltk_data]   Unzipping corpora/wordnet.zip.\n"
          ]
        },
        {
          "output_type": "execute_result",
          "data": {
            "text/plain": [
              "True"
            ]
          },
          "metadata": {},
          "execution_count": 12
        }
      ],
      "source": [
        "nltk.download('wordnet')"
      ]
    },
    {
      "cell_type": "code",
      "execution_count": null,
      "metadata": {
        "colab": {
          "base_uri": "https://localhost:8080/",
          "height": 35
        },
        "id": "TH9SKtSx-Tsg",
        "outputId": "e287a84c-191c-4d3a-c4d5-ba10868a549d"
      },
      "outputs": [
        {
          "data": {
            "application/vnd.google.colaboratory.intrinsic+json": {
              "type": "string"
            },
            "text/plain": [
              "'giris'"
            ]
          },
          "execution_count": 24,
          "metadata": {},
          "output_type": "execute_result"
        }
      ],
      "source": [
        "lemmatizer.lemmatize(\"giris\", pos ='v')"
      ]
    },
    {
      "cell_type": "code",
      "execution_count": 13,
      "metadata": {
        "id": "a2kLfejR6sn9"
      },
      "outputs": [],
      "source": [
        "def lemmatize_word(text):\n",
        "    word_tokens = word_tokenize(text)\n",
        "    # provide context i.e. part-of-speech\n",
        "    lemmas = [lemmatizer.lemmatize(word, pos ='v') for word in word_tokens]\n",
        "    return \" \".join(lemmas)"
      ]
    },
    {
      "cell_type": "code",
      "execution_count": null,
      "metadata": {
        "colab": {
          "base_uri": "https://localhost:8080/",
          "height": 35
        },
        "id": "6fZU0OfB6RLU",
        "outputId": "103c942f-1997-4b27-ec5b-43f3a8da5ab3"
      },
      "outputs": [
        {
          "data": {
            "application/vnd.google.colaboratory.intrinsic+json": {
              "type": "string"
            },
            "text/plain": [
              "'air big'"
            ]
          },
          "execution_count": 26,
          "metadata": {},
          "output_type": "execute_result"
        }
      ],
      "source": [
        "remove_stopwords('the air is big')"
      ]
    },
    {
      "cell_type": "code",
      "execution_count": 16,
      "metadata": {
        "id": "bZbIjiplHBXX"
      },
      "outputs": [],
      "source": [
        "def remove_stopwords1(text):\n",
        "    stop_words = set(stopwords.words(\"english\"))\n",
        "    # word_tokens = word_tokenize(text)\n",
        "    filtered_text = [word for word in text if word not in stop_words]\n",
        "    return filtered_text"
      ]
    },
    {
      "cell_type": "code",
      "execution_count": 14,
      "metadata": {
        "colab": {
          "base_uri": "https://localhost:8080/"
        },
        "id": "e4jhanYCipG_",
        "outputId": "955a5ab9-0d50-4ced-d28a-eb52304fe843"
      },
      "outputs": [
        {
          "output_type": "stream",
          "name": "stdout",
          "text": [
            "1133\n"
          ]
        }
      ],
      "source": [
        "print(len(doc10))"
      ]
    },
    {
      "cell_type": "markdown",
      "source": [
        "### Preprocessing"
      ],
      "metadata": {
        "id": "GtXx8-c-Kn-b"
      }
    },
    {
      "cell_type": "code",
      "execution_count": 15,
      "metadata": {
        "id": "igptXV2wGQl7"
      },
      "outputs": [],
      "source": [
        "from string import punctuation\n",
        "for i in range(len(doc10)):\n",
        "  doc10[i] = doc10[i].lower()\n",
        "  \n",
        "  doc10[i] = re.sub(f\"[{re.escape(punctuation)}]\", \"\", doc10[i])\n",
        "  \n",
        "  doc10[i] = \" \".join(doc10[i].split())\n",
        "  \n",
        "  doc10[i] = remove_stopwords(doc10[i])\n",
        "  doc10[i] = word_tokenize(doc10[i])\n",
        "\n",
        "#   for w in doc10[i]:\n",
        "# #     if w not in vocab:\n",
        "#     vocab.add(w)\n",
        "\n",
        "  "
      ]
    },
    {
      "cell_type": "code",
      "execution_count": null,
      "metadata": {
        "id": "hPj9fEWiipHC"
      },
      "outputs": [],
      "source": [
        ""
      ]
    },
    {
      "cell_type": "markdown",
      "source": [
        "### Input"
      ],
      "metadata": {
        "id": "SQzGplqlKrax"
      }
    },
    {
      "cell_type": "code",
      "execution_count": 16,
      "metadata": {
        "id": "wzdzcRokv8Aa",
        "colab": {
          "base_uri": "https://localhost:8080/"
        },
        "outputId": "d380f0ba-9a16-4213-ba50-4b0ceae58f64"
      },
      "outputs": [
        {
          "name": "stdout",
          "output_type": "stream",
          "text": [
            "enter the querygood day\n"
          ]
        }
      ],
      "source": [
        "query = input(\"enter the query\")\n",
        "\n",
        "\n",
        "query = query.lower()\n",
        "  \n",
        "query = re.sub(f\"[{re.escape(punctuation)}]\", \"\", query)\n",
        "\n",
        "query = \" \".join(query.split())\n",
        "\n",
        "query = remove_stopwords(query)\n",
        "query = word_tokenize(query)"
      ]
    },
    {
      "cell_type": "code",
      "execution_count": 17,
      "metadata": {
        "colab": {
          "base_uri": "https://localhost:8080/"
        },
        "id": "2zUn70Lcwnyu",
        "outputId": "5c59d0d1-00b2-41c2-c780-53130b35a134"
      },
      "outputs": [
        {
          "output_type": "execute_result",
          "data": {
            "text/plain": [
              "['good', 'day']"
            ]
          },
          "metadata": {},
          "execution_count": 17
        }
      ],
      "source": [
        "query"
      ]
    },
    {
      "cell_type": "code",
      "execution_count": 131,
      "metadata": {
        "colab": {
          "base_uri": "https://localhost:8080/"
        },
        "id": "iUtLTtCOwxuc",
        "outputId": "772f72e2-954f-4462-9b3f-e8f4accb6a44"
      },
      "outputs": [
        {
          "output_type": "execute_result",
          "data": {
            "text/plain": [
              "{'day', 'good'}"
            ]
          },
          "metadata": {},
          "execution_count": 131
        }
      ],
      "source": [
        "query = set(query)\n",
        "query"
      ]
    },
    {
      "cell_type": "markdown",
      "source": [
        "### Jaccard coefficient"
      ],
      "metadata": {
        "id": "5csdNKRkK6rV"
      }
    },
    {
      "cell_type": "code",
      "execution_count": null,
      "metadata": {
        "id": "LTGgrLtxw_gi"
      },
      "outputs": [],
      "source": [
        "arr={}\n",
        "for i in range(len(doc10)):\n",
        "  a = set(doc10[i])\n",
        "\n",
        "  b = query.intersection(a)\n",
        "  d = query.union(a)\n",
        "  arr[i] = len(b)/len(d)\n",
        "\n",
        "arr\n"
      ]
    },
    {
      "cell_type": "code",
      "execution_count": 19,
      "metadata": {
        "id": "YMTDDxphyoXe"
      },
      "outputs": [],
      "source": [
        ""
      ]
    },
    {
      "cell_type": "code",
      "execution_count": 133,
      "metadata": {
        "colab": {
          "base_uri": "https://localhost:8080/"
        },
        "id": "0PXVPiDvyGYR",
        "outputId": "c53f8731-278b-4eaf-d62d-2c09bdeec261"
      },
      "outputs": [
        {
          "output_type": "execute_result",
          "data": {
            "text/plain": [
              "[(805, 0.025974025974025976),\n",
              " (847, 0.02197802197802198),\n",
              " (71, 0.021739130434782608),\n",
              " (76, 0.017857142857142856),\n",
              " (375, 0.016129032258064516)]"
            ]
          },
          "metadata": {},
          "execution_count": 133
        }
      ],
      "source": [
        "\n",
        "arr1 = sorted(arr.items(), key = lambda x:(x[1]),reverse=True)\n",
        "ans6=arr1[:5]\n",
        "arr1[:5]"
      ]
    },
    {
      "cell_type": "code",
      "execution_count": 134,
      "metadata": {
        "id": "kmk7TD-xxg93",
        "colab": {
          "base_uri": "https://localhost:8080/"
        },
        "outputId": "dd2e14f6-42b2-48c5-821c-3c667f0eb726"
      },
      "outputs": [
        {
          "output_type": "stream",
          "name": "stdout",
          "text": [
            "popmach:  0.025974025974025976\n",
            "quantity.001:  0.02197802197802198\n",
            "bad.jok:  0.021739130434782608\n",
            "banana01.brd:  0.017857142857142856\n",
            "feista01.dip:  0.016129032258064516\n"
          ]
        }
      ],
      "source": [
        "for i in range(len(ans6)):\n",
        "  ans6[i] = list(ans6[i])\n",
        "  print(str(name[ans6[i][0]]) + \":  \" + str(ans6[i][1]))"
      ]
    },
    {
      "cell_type": "code",
      "source": [
        ""
      ],
      "metadata": {
        "id": "JLXgp94PtbG2"
      },
      "execution_count": 21,
      "outputs": []
    },
    {
      "cell_type": "markdown",
      "source": [
        "### TF-IDF"
      ],
      "metadata": {
        "id": "jPNNqG12LAnk"
      }
    },
    {
      "cell_type": "code",
      "source": [
        "vocab = set()"
      ],
      "metadata": {
        "id": "iomHry8lkN8Q"
      },
      "execution_count": 68,
      "outputs": []
    },
    {
      "cell_type": "code",
      "source": [
        "count_term = []   \n",
        "for s in doc10:\n",
        "    d ={}      \n",
        "    for w in s:\n",
        "        if d.get(w) == None:  \n",
        "            d[w] = 1       \n",
        "        else:\n",
        "            count = d.get(w)\n",
        "            count += 1               \n",
        "            d[w] = count\n",
        "        vocab.add(w)\n",
        "    count_term.append(d)   \n"
      ],
      "metadata": {
        "id": "F4LnS5efYhtU"
      },
      "execution_count": 69,
      "outputs": []
    },
    {
      "cell_type": "code",
      "source": [
        "len(vocab)"
      ],
      "metadata": {
        "colab": {
          "base_uri": "https://localhost:8080/"
        },
        "id": "Bzq-wFnYjVIz",
        "outputId": "bd94fed9-50d3-445a-d35e-c3236944d4ea"
      },
      "execution_count": 70,
      "outputs": [
        {
          "output_type": "execute_result",
          "data": {
            "text/plain": [
              "87119"
            ]
          },
          "metadata": {},
          "execution_count": 70
        }
      ]
    },
    {
      "cell_type": "code",
      "source": [
        ""
      ],
      "metadata": {
        "id": "Jj1lDVkOk19r"
      },
      "execution_count": 70,
      "outputs": []
    },
    {
      "cell_type": "code",
      "source": [
        "log_norm = []       #list of list for stroing double normalization term frequency of each doc\n",
        "for s in count_term:\n",
        "    d1 = {}         #dictionary for stroing log normalization term frequency\n",
        "    k = s.keys()\n",
        "    for w in k:\n",
        "        f = s.get(w)\n",
        "        #print(freq)\n",
        "        logt = np.log(1+f)     # log(1 +f(t,d)))\n",
        "        d[w] = logt  \n",
        "    log_norm.append(d)"
      ],
      "metadata": {
        "id": "BC18zrRWaDiC"
      },
      "execution_count": 71,
      "outputs": []
    },
    {
      "cell_type": "code",
      "source": [
        "count_term = []\n",
        "for s in doc10:\n",
        "    d ={}\n",
        "    \n",
        "    for w in s:\n",
        "        if d.get(w) == None:\n",
        "            d[w] = 1\n",
        "            vocab.add(w)\n",
        "        else:\n",
        "            count = d.get(w)\n",
        "            count += 1\n",
        "            d[w] = count\n",
        "        \n",
        "    count_term.append(d)"
      ],
      "metadata": {
        "id": "kd5zN4BJaW8y"
      },
      "execution_count": 72,
      "outputs": []
    },
    {
      "cell_type": "code",
      "source": [
        "# vocab  = set(sorted(vocab))"
      ],
      "metadata": {
        "id": "ualQg4ngfx5S"
      },
      "execution_count": 73,
      "outputs": []
    },
    {
      "cell_type": "code",
      "source": [
        "log_tf = []\n",
        "\n",
        "for s in count_term:\n",
        "    d1 = {}\n",
        "    b = s.keys()\n",
        "    \n",
        "    for w in b:\n",
        "        f = s.get(w)\n",
        "        f1 = 1 + np.log(f)\n",
        "        d1[w] = f1\n",
        "        \n",
        "    log_tf.append(d1)"
      ],
      "metadata": {
        "id": "ixgQFTMQc_QM"
      },
      "execution_count": 74,
      "outputs": []
    },
    {
      "cell_type": "code",
      "source": [
        "tf3 = []\n",
        "\n",
        "for s in count_term:\n",
        "    d2 = {}\n",
        "    b = s.keys()\n",
        "    m = max(s.values())\n",
        "    \n",
        "    for w in b:\n",
        "        f = s.get(w)\n",
        "        f1 = 0.5 + ((0.5 * f)/m)\n",
        "        d2[w] = f1\n",
        "    \n",
        "    tf3.append(d2)"
      ],
      "metadata": {
        "id": "k7WbHxs5dFRZ"
      },
      "execution_count": 75,
      "outputs": []
    },
    {
      "cell_type": "code",
      "source": [
        "binary = []\n",
        "\n",
        "for s in count_term:\n",
        "    d3 = {}\n",
        "    b = s.keys()\n",
        "    \n",
        "    for w in b:\n",
        "        f = s.get(w)\n",
        "        if f > 0:\n",
        "            f1 = 1\n",
        "        else:\n",
        "            f1 = 0\n",
        "        d3[w] = f1\n",
        "        \n",
        "    binary.append(d3)"
      ],
      "metadata": {
        "id": "6fJo12BDdLlt"
      },
      "execution_count": 76,
      "outputs": []
    },
    {
      "cell_type": "code",
      "source": [
        "term_freq = []\n",
        "\n",
        "for s in count_term:\n",
        "    \n",
        "    d4 = {}\n",
        "    b = s.keys()\n",
        "    b1 = s.values()\n",
        "    c = sum(b1)\n",
        "    \n",
        "    for w in b:\n",
        "        f = s.get(w)\n",
        "        f1 = (f)/(c) \n",
        "        d4[w] = f1\n",
        "    \n",
        "    term_freq.append(d4)"
      ],
      "metadata": {
        "id": "mpXrWGyOdRjr"
      },
      "execution_count": 78,
      "outputs": []
    },
    {
      "cell_type": "code",
      "source": [
        "doc_freq = {}\n",
        "\n",
        "for s in doc10:\n",
        "    \n",
        "    a = list(set(s))\n",
        "    \n",
        "    for w in a:\n",
        "        \n",
        "        if doc_freq.get(w) == None:\n",
        "            doc_freq[w] = 1\n",
        "        else:\n",
        "            count = doc_freq.get(w)\n",
        "            count += 1\n",
        "            doc_freq[w] = count"
      ],
      "metadata": {
        "id": "T1fPIB4idbqD"
      },
      "execution_count": 79,
      "outputs": []
    },
    {
      "cell_type": "code",
      "source": [
        "doc_freq"
      ],
      "metadata": {
        "colab": {
          "base_uri": "https://localhost:8080/"
        },
        "id": "nl0O0FQtdgj3",
        "outputId": "bc83664e-328c-4874-8189-dba95ba5cab7"
      },
      "execution_count": 80,
      "outputs": [
        {
          "output_type": "execute_result",
          "data": {
            "text/plain": [
              "{'etc': 228,\n",
              " 'digestion': 5,\n",
              " 'helps': 62,\n",
              " 'parasites': 10,\n",
              " 'order': 277,\n",
              " 'used': 417,\n",
              " 'antiseptic': 3,\n",
              " 'tablespoon': 24,\n",
              " 'serious': 93,\n",
              " 'echinacea': 1,\n",
              " '30': 207,\n",
              " 'skin': 93,\n",
              " 'abstain': 4,\n",
              " 'stomach': 65,\n",
              " 'intended': 61,\n",
              " 'weeks': 148,\n",
              " 'period': 108,\n",
              " 'dose': 15,\n",
              " 'wash': 67,\n",
              " 'de': 90,\n",
              " 'remedies': 9,\n",
              " 'lotion': 6,\n",
              " 'night': 286,\n",
              " 'two': 555,\n",
              " 'laxative': 1,\n",
              " 'medical': 70,\n",
              " 'one': 831,\n",
              " 'infection': 13,\n",
              " 'aidcalendulacomfreyremediessickmedicine': 1,\n",
              " 'occasional': 34,\n",
              " 'vessels': 10,\n",
              " 'minutes': 283,\n",
              " 'overall': 21,\n",
              " 'died': 112,\n",
              " 'anaesthetic': 3,\n",
              " 'cuts': 43,\n",
              " 'least': 291,\n",
              " 'irritable': 4,\n",
              " '3': 467,\n",
              " 'gasp': 16,\n",
              " 'able': 188,\n",
              " 'damage': 74,\n",
              " 'properties': 14,\n",
              " 'continue': 113,\n",
              " '25': 173,\n",
              " 'way': 510,\n",
              " '\\x1a': 459,\n",
              " 'may': 497,\n",
              " 'astringent': 5,\n",
              " 'applied': 58,\n",
              " 'another': 507,\n",
              " '24': 175,\n",
              " 'effective': 57,\n",
              " 'drops': 67,\n",
              " 'beneficial': 11,\n",
              " 'goldenseal': 1,\n",
              " 'empty': 90,\n",
              " 'internal': 43,\n",
              " 'eating': 117,\n",
              " 'teaspoon': 41,\n",
              " 'effect': 128,\n",
              " 'event': 84,\n",
              " '4': 407,\n",
              " 'subside': 2,\n",
              " 'diarrhoea': 2,\n",
              " 'external': 24,\n",
              " 'suspected': 23,\n",
              " 'sleeping': 51,\n",
              " 'internally': 5,\n",
              " 'health': 102,\n",
              " 'common': 170,\n",
              " 'symptoms': 21,\n",
              " 'bruises': 4,\n",
              " 'care': 171,\n",
              " 'kit': 34,\n",
              " 'parasite': 4,\n",
              " 'four': 240,\n",
              " 'use': 468,\n",
              " 'tincture': 1,\n",
              " 'main': 154,\n",
              " 'bedtime': 6,\n",
              " 'rashes': 1,\n",
              " 'meal': 51,\n",
              " 'month': 132,\n",
              " 'red': 242,\n",
              " 'sunburn': 5,\n",
              " 'liver': 33,\n",
              " 'rich': 106,\n",
              " 'recommence': 1,\n",
              " 'itchy': 7,\n",
              " 'boost': 7,\n",
              " 'reputable': 4,\n",
              " 'follow': 145,\n",
              " 'also': 477,\n",
              " 'johnswort': 1,\n",
              " 'bleeding': 29,\n",
              " 'similar': 119,\n",
              " 'minor': 53,\n",
              " 'water': 300,\n",
              " 'suitable': 35,\n",
              " 'grazes': 2,\n",
              " 'previous': 77,\n",
              " 'rash': 6,\n",
              " 'teaspoonful': 4,\n",
              " 'psoriasis': 2,\n",
              " 'taken': 211,\n",
              " 'substitute': 49,\n",
              " 'take': 524,\n",
              " 'veins': 23,\n",
              " 'effectiveness': 9,\n",
              " 'x': 110,\n",
              " 'attention': 131,\n",
              " 'remedy': 13,\n",
              " 'ointment': 4,\n",
              " 'consult': 12,\n",
              " 'hour': 195,\n",
              " 'nervine': 1,\n",
              " 'repeat': 86,\n",
              " 'externally': 4,\n",
              " 'blood': 140,\n",
              " 'calendula': 1,\n",
              " 'long': 455,\n",
              " 'first': 575,\n",
              " 'general': 183,\n",
              " 'stricken': 5,\n",
              " 'herbal': 13,\n",
              " 'comfrey': 3,\n",
              " 'daily': 88,\n",
              " 'system': 248,\n",
              " 'every': 364,\n",
              " 'half': 243,\n",
              " 'important': 172,\n",
              " 'oil': 152,\n",
              " 'sedative': 1,\n",
              " 'last': 407,\n",
              " 'little': 493,\n",
              " 'antibiotic': 2,\n",
              " 'please': 258,\n",
              " 'trouble': 125,\n",
              " 'persist': 8,\n",
              " 'infestation': 2,\n",
              " 'good': 537,\n",
              " 'meals': 25,\n",
              " 'runs': 112,\n",
              " 'food': 208,\n",
              " 'proper': 81,\n",
              " 'immune': 11,\n",
              " 'practitioner': 7,\n",
              " 'mixture': 106,\n",
              " 'st': 88,\n",
              " 'mix': 127,\n",
              " 'hours': 270,\n",
              " 'herbalherb1st': 1,\n",
              " 'aid': 67,\n",
              " 'mild': 33,\n",
              " 'metrano': 2,\n",
              " 'joshua': 9,\n",
              " 'g': 83,\n",
              " 'wests': 3,\n",
              " 'military': 61,\n",
              " 'tracey': 7,\n",
              " 'day': 447,\n",
              " 'scientist': 36,\n",
              " 'ely': 3,\n",
              " 'payne': 7,\n",
              " 'children': 159,\n",
              " 'citizens': 30,\n",
              " 'running': 208,\n",
              " 'standards': 34,\n",
              " 'join': 78,\n",
              " 'andrew': 32,\n",
              " 'victor': 23,\n",
              " 'gregory': 26,\n",
              " 'auto': 42,\n",
              " 'fats': 10,\n",
              " 'messageid': 88,\n",
              " 'rey': 2,\n",
              " 'sold': 95,\n",
              " 'hauser': 5,\n",
              " 'assassins': 4,\n",
              " 'organizedcrime': 2,\n",
              " 'kolov': 2,\n",
              " 'vint': 2,\n",
              " 'calderon': 2,\n",
              " 'teams': 21,\n",
              " 'whose': 137,\n",
              " 'plout': 2,\n",
              " 'accompanied': 25,\n",
              " 'bobby': 25,\n",
              " 'conditions': 68,\n",
              " 'ingham': 2,\n",
              " 'mute': 8,\n",
              " 'strangis': 2,\n",
              " 'brides': 8,\n",
              " 'years': 366,\n",
              " '050686': 2,\n",
              " 'cervi': 2,\n",
              " 'life': 376,\n",
              " 'keep': 327,\n",
              " 'offramp': 3,\n",
              " 'baseleon': 2,\n",
              " '102486': 2,\n",
              " 'profits': 14,\n",
              " 'jefferson': 10,\n",
              " 'flagg': 2,\n",
              " 'brings': 60,\n",
              " 'heavy': 157,\n",
              " 'camps': 11,\n",
              " 'believes': 44,\n",
              " 'fishing': 37,\n",
              " 'control': 175,\n",
              " 'stryker': 2,\n",
              " 'start': 266,\n",
              " 'hit': 179,\n",
              " '112886': 2,\n",
              " 'rider': 14,\n",
              " 'renegade': 15,\n",
              " 'scarett': 2,\n",
              " 'ateam': 2,\n",
              " 'reeling': 3,\n",
              " 'kelbe': 2,\n",
              " 'serves': 60,\n",
              " 'kerl': 2,\n",
              " 'selfappointed': 3,\n",
              " 'n': 138,\n",
              " 'fatasi': 2,\n",
              " 'skins': 19,\n",
              " 'ryan': 13,\n",
              " 'courtmartial': 3,\n",
              " 'searches': 10,\n",
              " 'christian': 39,\n",
              " 'laven': 2,\n",
              " 'andy': 37,\n",
              " 'threats': 22,\n",
              " 'marla': 4,\n",
              " 'manu': 3,\n",
              " 'prosecution': 9,\n",
              " 'leads': 53,\n",
              " 'kiger': 2,\n",
              " 'maylo': 2,\n",
              " 'aint': 65,\n",
              " 'joseph': 32,\n",
              " 'minister': 38,\n",
              " 'rommus': 2,\n",
              " '\\x00': 30,\n",
              " 'titos': 2,\n",
              " 'daryl': 7,\n",
              " 'heat': 152,\n",
              " 'rochelle': 3,\n",
              " 'salvador': 9,\n",
              " 'kopins': 3,\n",
              " 'ja': 5,\n",
              " 'marketing': 28,\n",
              " 'theyre': 173,\n",
              " 'suddenly': 99,\n",
              " 'dixon': 6,\n",
              " 'alan': 41,\n",
              " 'commando': 11,\n",
              " 'janice': 5,\n",
              " 'danny': 18,\n",
              " 'schultz': 3,\n",
              " 'land': 114,\n",
              " 'ayers': 3,\n",
              " 'yniguez': 2,\n",
              " 'zepeda': 2,\n",
              " 'put': 429,\n",
              " 'rapagna': 2,\n",
              " '022884': 2,\n",
              " 'baxley': 4,\n",
              " 'revenge': 50,\n",
              " 'debra': 5,\n",
              " 'competitors': 8,\n",
              " 'trying': 253,\n",
              " 'lianne': 2,\n",
              " 'beverly': 18,\n",
              " 'party': 181,\n",
              " 'howling': 10,\n",
              " 'nico': 2,\n",
              " 'partners': 23,\n",
              " 'revolution': 32,\n",
              " 'kearns': 2,\n",
              " 'jackhammer': 3,\n",
              " 'eisler': 2,\n",
              " 'chen': 12,\n",
              " 'wac': 3,\n",
              " 'ongoing': 9,\n",
              " 'skyrocket': 2,\n",
              " '012285': 2,\n",
              " 'greyhosky': 2,\n",
              " 'bertka': 2,\n",
              " 'delivers': 10,\n",
              " 'cap': 50,\n",
              " 'court': 75,\n",
              " 'louis': 37,\n",
              " 'matehson': 2,\n",
              " 'reporter': 50,\n",
              " 'deiderio': 2,\n",
              " 'rudy': 5,\n",
              " 'stop': 220,\n",
              " 'raymond': 21,\n",
              " 'fourthseason': 2,\n",
              " 'maria': 19,\n",
              " 'west': 104,\n",
              " 'backwoods': 4,\n",
              " 'cj': 5,\n",
              " '010885': 2,\n",
              " 'passage': 34,\n",
              " 'scott': 70,\n",
              " 'dunigan': 2,\n",
              " 'wedding': 43,\n",
              " 'shooter': 6,\n",
              " 'stakes': 6,\n",
              " 'protect': 69,\n",
              " 'range': 65,\n",
              " 'elisha': 4,\n",
              " 'hire': 24,\n",
              " 'ivan': 10,\n",
              " 'carlos': 11,\n",
              " '101183': 2,\n",
              " 'prospective': 11,\n",
              " 'via': 71,\n",
              " 'warring': 4,\n",
              " 'devon': 2,\n",
              " 'nelkin': 4,\n",
              " 'till': 76,\n",
              " 'dangerous': 84,\n",
              " 'hancock': 8,\n",
              " '120385': 3,\n",
              " 'santos': 5,\n",
              " 'reelection': 4,\n",
              " 'cowboy': 25,\n",
              " 'holly': 11,\n",
              " 'randolph': 6,\n",
              " 'kathy': 10,\n",
              " 'jabar': 2,\n",
              " 'project': 101,\n",
              " 'beam': 28,\n",
              " 'linden': 5,\n",
              " 'waste': 82,\n",
              " 'bochner': 2,\n",
              " 'ruscio': 3,\n",
              " 'bus': 75,\n",
              " '101284': 2,\n",
              " 'else': 253,\n",
              " 'calvin': 13,\n",
              " '013083': 2,\n",
              " '900': 32,\n",
              " 'tiny': 81,\n",
              " 'rivertown': 2,\n",
              " 'finding': 64,\n",
              " 'girl': 150,\n",
              " 'goes': 250,\n",
              " '90': 81,\n",
              " 'presley': 9,\n",
              " 'coming': 191,\n",
              " 'played': 101,\n",
              " 'teamarranged': 2,\n",
              " 'ledford': 2,\n",
              " 'heart': 149,\n",
              " 'dave': 79,\n",
              " 'candidate': 26,\n",
              " 'melinda': 8,\n",
              " 'tero': 3,\n",
              " 'quiet': 67,\n",
              " 'church': 72,\n",
              " 'eteam': 2,\n",
              " 'steedman': 2,\n",
              " 'close': 174,\n",
              " 'colomby': 2,\n",
              " 'unionize': 2,\n",
              " 'army': 71,\n",
              " 'americans': 52,\n",
              " 'cactus': 6,\n",
              " 'known': 231,\n",
              " 'claudia': 6,\n",
              " 'king': 120,\n",
              " 'norman': 26,\n",
              " 'jeannetta': 2,\n",
              " 'harder': 54,\n",
              " 'search': 79,\n",
              " 'ruthless': 5,\n",
              " '103186': 2,\n",
              " 'natives': 14,\n",
              " 'vandis': 2,\n",
              " 'extortionist': 3,\n",
              " 'ayres': 2,\n",
              " 'thrall': 2,\n",
              " 'innocent': 55,\n",
              " 'help': 301,\n",
              " 'shannon': 6,\n",
              " 'crashlands': 3,\n",
              " 'wins': 31,\n",
              " 'r': 106,\n",
              " 'east': 80,\n",
              " 'scheduled': 27,\n",
              " 'wildman': 2,\n",
              " 'cavanaugh': 4,\n",
              " 'opener': 12,\n",
              " 'lose': 100,\n",
              " 'today': 207,\n",
              " '747': 8,\n",
              " 'desert': 44,\n",
              " 'kramer': 9,\n",
              " 'thinks': 104,\n",
              " 'onetime': 7,\n",
              " 'slavelabor': 2,\n",
              " 'case': 231,\n",
              " 'drug': 72,\n",
              " 'saved': 58,\n",
              " 'jacoby': 7,\n",
              " 'ryker': 3,\n",
              " 'problem': 263,\n",
              " 'donner': 4,\n",
              " 'david': 116,\n",
              " 'dean': 34,\n",
              " '011784': 2,\n",
              " 'watson': 14,\n",
              " 'star': 137,\n",
              " 'tommy': 17,\n",
              " 'tyler': 7,\n",
              " 'post': 129,\n",
              " 'wanted': 217,\n",
              " 'sid': 11,\n",
              " 'lambie': 2,\n",
              " '54963': 3,\n",
              " 'involved': 124,\n",
              " 'part': 331,\n",
              " 'captain': 61,\n",
              " '032283': 2,\n",
              " 'lipscomb': 3,\n",
              " 'peluce': 2,\n",
              " 'organizer': 5,\n",
              " 'testimony': 9,\n",
              " 'prince': 42,\n",
              " '15': 260,\n",
              " 'sheriffs': 11,\n",
              " 'saulsberry': 2,\n",
              " 'lieutenant': 11,\n",
              " 'need': 353,\n",
              " 'fradeen': 2,\n",
              " 'prepare': 51,\n",
              " 'learns': 36,\n",
              " 'claiming': 27,\n",
              " 'ernie': 13,\n",
              " 'delano': 7,\n",
              " 'magar': 2,\n",
              " 'archaeologist': 3,\n",
              " 'followers': 15,\n",
              " 'castulo': 2,\n",
              " 'harold': 26,\n",
              " 'restaurant': 62,\n",
              " 'containing': 57,\n",
              " 'peace': 92,\n",
              " 'heroin': 13,\n",
              " 'farmer': 21,\n",
              " '1972': 26,\n",
              " '112084': 2,\n",
              " 'jenko': 2,\n",
              " 'willis': 8,\n",
              " 'kemmerling': 3,\n",
              " '112283': 2,\n",
              " 'parker': 14,\n",
              " 'kidnaps': 4,\n",
              " 'bas': 2,\n",
              " 'mr': 167,\n",
              " 'thompson': 19,\n",
              " '5970': 3,\n",
              " 'encounters': 20,\n",
              " 'tomasino': 2,\n",
              " 'theft': 20,\n",
              " 'dennis': 32,\n",
              " 'mobsters': 4,\n",
              " 'money': 267,\n",
              " '050785': 2,\n",
              " 'luna': 4,\n",
              " 'promptly': 43,\n",
              " 'jon': 26,\n",
              " 'franz': 5,\n",
              " 'tribes': 12,\n",
              " 'site': 65,\n",
              " 'exarmy': 2,\n",
              " 'mina': 4,\n",
              " 'jeff': 99,\n",
              " 'winnetka': 2,\n",
              " 'bit': 209,\n",
              " 'mrs': 71,\n",
              " 'lyons': 7,\n",
              " 'mexican': 52,\n",
              " 'kidnap': 17,\n",
              " 'ruined': 23,\n",
              " 'mick': 66,\n",
              " 'halls': 21,\n",
              " 'undercover': 13,\n",
              " 'save': 134,\n",
              " 'face': 233,\n",
              " 'ate': 48,\n",
              " 'bull': 41,\n",
              " 'judy': 11,\n",
              " 'michan': 2,\n",
              " 'capture': 37,\n",
              " 'religious': 55,\n",
              " 'superior': 35,\n",
              " 'bobbi': 2,\n",
              " 'beal': 4,\n",
              " 'fighttothedeath': 2,\n",
              " 'warfel': 2,\n",
              " 'horse': 71,\n",
              " 'doran': 3,\n",
              " 'turner': 11,\n",
              " '9005191644aa13893ws34caewiscedu': 2,\n",
              " 'iii': 101,\n",
              " 'wed': 70,\n",
              " 'cordoba': 2,\n",
              " 'germany': 29,\n",
              " 'grubbs': 2,\n",
              " 'wants': 125,\n",
              " 'leah': 3,\n",
              " 'suzanne': 12,\n",
              " 'pressed': 31,\n",
              " 'lydia': 5,\n",
              " 'goons': 9,\n",
              " '092083': 2,\n",
              " 'ii': 144,\n",
              " 'deadly': 50,\n",
              " 'pow': 7,\n",
              " 'receiving': 24,\n",
              " 'newsgroups': 125,\n",
              " 'scarber': 3,\n",
              " 'lisa': 29,\n",
              " 'melville': 3,\n",
              " 'underwood': 4,\n",
              " 'elliot': 7,\n",
              " 'ruse': 4,\n",
              " 'mancini': 3,\n",
              " 'rick': 29,\n",
              " 'explosives': 62,\n",
              " 'jim': 69,\n",
              " 'taxicab': 7,\n",
              " 'gleason': 4,\n",
              " 'mission': 61,\n",
              " 'kidnapping': 9,\n",
              " 'everhard': 2,\n",
              " 'roberts': 21,\n",
              " 'traffickers': 2,\n",
              " 'theres': 211,\n",
              " 'hightech': 19,\n",
              " 'stark': 17,\n",
              " 'prior': 43,\n",
              " 'schultzs': 3,\n",
              " 'smith': 60,\n",
              " 'force': 135,\n",
              " 'youth': 51,\n",
              " 'hostage': 20,\n",
              " 'evans': 19,\n",
              " 'missionaries': 2,\n",
              " 'ride': 73,\n",
              " 'killed': 110,\n",
              " 'reese': 2,\n",
              " 'rafts': 2,\n",
              " 'wheels': 32,\n",
              " '041983': 2,\n",
              " 'tries': 88,\n",
              " 'heasly': 2,\n",
              " 'dr': 140,\n",
              " 'survive': 37,\n",
              " 'chris': 50,\n",
              " 'dump': 43,\n",
              " 'li': 7,\n",
              " 'morrison': 7,\n",
              " 'cortez': 3,\n",
              " 'product': 106,\n",
              " 'della': 3,\n",
              " 'stops': 59,\n",
              " 'hertzog': 2,\n",
              " 'kasdarf': 2,\n",
              " 'move': 154,\n",
              " 'troubled': 13,\n",
              " 'oneil': 6,\n",
              " 'practicing': 15,\n",
              " 'alex': 21,\n",
              " 'recieves': 3,\n",
              " 'carson': 11,\n",
              " 'sender': 42,\n",
              " 'cataleptic': 2,\n",
              " 'kimberly': 8,\n",
              " 'soviet': 38,\n",
              " '030585': 2,\n",
              " 'stein': 5,\n",
              " 'ray': 41,\n",
              " 'opens': 50,\n",
              " 'van': 53,\n",
              " 'dust': 48,\n",
              " 'f': 114,\n",
              " 'aj': 3,\n",
              " 'maggie': 11,\n",
              " 'could': 468,\n",
              " 'receives': 18,\n",
              " 'evers': 2,\n",
              " 'steve': 66,\n",
              " 'olkewicz': 3,\n",
              " 'kim': 19,\n",
              " 'paxton': 3,\n",
              " 'russellpcaewiscedu': 2,\n",
              " 'complete': 169,\n",
              " 'feed': 70,\n",
              " 'wiseman': 2,\n",
              " 'chief': 67,\n",
              " 'harmon': 5,\n",
              " 'nice': 147,\n",
              " 'island': 62,\n",
              " 'ahsana': 2,\n",
              " 'lakeside': 4,\n",
              " 'plane': 63,\n",
              " 'corey': 8,\n",
              " 'meeno': 2,\n",
              " 'monroe': 9,\n",
              " 'jailed': 5,\n",
              " 'woodward': 4,\n",
              " 'working': 192,\n",
              " 'tum': 3,\n",
              " 'nancy': 32,\n",
              " 'deborah': 15,\n",
              " '040285': 2,\n",
              " 'sisters': 32,\n",
              " 'knocking': 21,\n",
              " 'mechanic': 14,\n",
              " 'shows': 137,\n",
              " 'double': 124,\n",
              " 'bowen': 4,\n",
              " 'sheila': 5,\n",
              " 'driscoll': 3,\n",
              " 'wont': 226,\n",
              " 'smantha': 2,\n",
              " 'cult': 24,\n",
              " 'daphne': 4,\n",
              " 'restless': 5,\n",
              " 'terrorizing': 6,\n",
              " 'peyser': 4,\n",
              " 'tonights': 6,\n",
              " 'eddie': 30,\n",
              " 'cia': 24,\n",
              " 'al': 62,\n",
              " 'swat': 8,\n",
              " 'visit': 84,\n",
              " 'dick': 79,\n",
              " 'rounding': 5,\n",
              " 'garber': 5,\n",
              " 'mccarthy': 13,\n",
              " 'geoffrey': 10,\n",
              " 'reunion': 20,\n",
              " 'lefcourt': 2,\n",
              " 'morgan': 23,\n",
              " 'marlowe': 6,\n",
              " 'cornell': 6,\n",
              " 'delivery': 35,\n",
              " 'trigg': 2,\n",
              " 'amazon': 9,\n",
              " 'whitman': 8,\n",
              " 'ocean': 40,\n",
              " 'dauntless': 2,\n",
              " 'fortune': 54,\n",
              " 'warren': 19,\n",
              " 'nugent': 4,\n",
              " 'tropical': 16,\n",
              " '091884': 2,\n",
              " 'deke': 3,\n",
              " '100386': 2,\n",
              " 'ashton': 4,\n",
              " 'lasso': 3,\n",
              " 'alive': 98,\n",
              " '23580': 2,\n",
              " 'nephews': 2,\n",
              " 'ging': 2,\n",
              " 'bonita': 2,\n",
              " 'rights': 68,\n",
              " '121286': 2,\n",
              " 'reinhardt': 3,\n",
              " 'sights': 7,\n",
              " 'terminated': 10,\n",
              " 'third': 153,\n",
              " 'takes': 197,\n",
              " 'neighborhood': 53,\n",
              " 'johnson': 47,\n",
              " 'jarrett': 2,\n",
              " 'shown': 101,\n",
              " 'herm': 2,\n",
              " 'elaine': 6,\n",
              " 'carolyn': 9,\n",
              " 'chuck': 44,\n",
              " 'elizabeth': 23,\n",
              " 'cameos': 7,\n",
              " 'bells': 20,\n",
              " 'miranda': 5,\n",
              " 'gino': 4,\n",
              " 'alien': 53,\n",
              " 'warned': 29,\n",
              " 'mickey': 20,\n",
              " 'exclusive': 23,\n",
              " 'carmen': 12,\n",
              " 'les': 19,\n",
              " 'abducted': 6,\n",
              " 'patrick': 34,\n",
              " 'goins': 2,\n",
              " 'lou': 24,\n",
              " 'leonore': 2,\n",
              " 'arrested': 48,\n",
              " 'pouget': 2,\n",
              " 'charlie': 28,\n",
              " 'sarnoff': 2,\n",
              " 'joy': 70,\n",
              " 'leesa': 2,\n",
              " 'forcing': 18,\n",
              " 'escort': 17,\n",
              " 'pressure': 65,\n",
              " 'scoggins': 2,\n",
              " 'kevyn': 2,\n",
              " 'feuding': 3,\n",
              " 'town': 134,\n",
              " 'diner': 14,\n",
              " 'expected': 76,\n",
              " 'turns': 155,\n",
              " 'miller': 32,\n",
              " 'show': 283,\n",
              " 'belly': 38,\n",
              " 'stroud': 3,\n",
              " 'guy': 198,\n",
              " 'robin': 37,\n",
              " 'ollie': 3,\n",
              " 'attacked': 28,\n",
              " 'dance': 73,\n",
              " 'hunters': 20,\n",
              " 'base': 88,\n",
              " '110786': 2,\n",
              " 'dons': 12,\n",
              " 'jeannie': 5,\n",
              " 'bad': 287,\n",
              " 'becomes': 120,\n",
              " 'company': 186,\n",
              " '101684': 2,\n",
              " 'knowing': 64,\n",
              " 'debut': 12,\n",
              " 'quarry': 5,\n",
              " 'lane': 33,\n",
              " 'carrere': 3,\n",
              " 'filmed': 15,\n",
              " 'mcgurdy': 2,\n",
              " 'dovi': 2,\n",
              " 'captured': 31,\n",
              " 'movie': 126,\n",
              " 'crack': 51,\n",
              " 'things': 377,\n",
              " 'hold': 196,\n",
              " 'group': 203,\n",
              " 'wings': 37,\n",
              " 'chopper': 10,\n",
              " 'variety': 82,\n",
              " 'mckrell': 3,\n",
              " 'mills': 17,\n",
              " 'zlotoff': 2,\n",
              " 'bagetta': 2,\n",
              " 'marcus': 10,\n",
              " 'yet': 269,\n",
              " 'brooks': 21,\n",
              " '2l83000': 2,\n",
              " 'goodrich': 2,\n",
              " '022184': 2,\n",
              " '112685': 3,\n",
              " 'lagena': 2,\n",
              " 'still': 419,\n",
              " 'pops': 30,\n",
              " 'game': 184,\n",
              " 'rex': 10,\n",
              " '013184': 2,\n",
              " 'robbers': 9,\n",
              " 'wyner': 3,\n",
              " 'president': 113,\n",
              " 'jesse': 16,\n",
              " '111985': 2,\n",
              " '051584': 2,\n",
              " 'doctors': 45,\n",
              " 'wolter': 2,\n",
              " 'victim': 59,\n",
              " 'illegalalien': 2,\n",
              " 'drake': 6,\n",
              " 'penny': 31,\n",
              " 'refrigerator': 61,\n",
              " 'mcgovern': 5,\n",
              " 'pousette': 2,\n",
              " 'deal': 138,\n",
              " 'whove': 11,\n",
              " 'lila': 3,\n",
              " 'corrections': 30,\n",
              " 'package': 62,\n",
              " 'gangsters': 3,\n",
              " 'mcvee': 2,\n",
              " 'russelluhuracswiscedu': 4,\n",
              " 'kotto': 2,\n",
              " 'turian': 2,\n",
              " 'billinglea': 2,\n",
              " 'sal': 4,\n",
              " 'daemonucbvaxberkeleyedu': 2,\n",
              " 'jilly': 2,\n",
              " 'argenziana': 2,\n",
              " 'college': 96,\n",
              " 'meet': 136,\n",
              " 'scared': 46,\n",
              " 'jody': 5,\n",
              " 'godshail': 2,\n",
              " 'ashbrook': 5,\n",
              " 'rod': 32,\n",
              " 'mcmullan': 2,\n",
              " 'war': 162,\n",
              " 'maltese': 5,\n",
              " 'cup': 158,\n",
              " 'reason': 190,\n",
              " 'option': 39,\n",
              " 'russell': 24,\n",
              " '030183': 3,\n",
              " 'sirola': 2,\n",
              " 'vets': 4,\n",
              " 'make': 625,\n",
              " 'date': 288,\n",
              " 'dirk': 9,\n",
              " 'luke': 16,\n",
              " 'sterling': 12,\n",
              " 'dead': 252,\n",
              " 'name': 330,\n",
              " 'charlotte': 9,\n",
              " 'america': 106,\n",
              " 'dorsey': 4,\n",
              " '1': 540,\n",
              " 'method': 91,\n",
              " 'holiday': 37,\n",
              " 'bigots': 5,\n",
              " 'masquerades': 2,\n",
              " 'julie': 22,\n",
              " 'ken': 42,\n",
              " 'mexico': 45,\n",
              " 'expedition': 12,\n",
              " 'ave': 17,\n",
              " 'pits': 11,\n",
              " 'phillips': 16,\n",
              " 'stock': 65,\n",
              " 'tony': 44,\n",
              " 'dutton': 3,\n",
              " 'sandor': 3,\n",
              " 'brundin': 2,\n",
              " 'must': 371,\n",
              " 'steven': 39,\n",
              " 'secret': 111,\n",
              " 'friend': 221,\n",
              " 'frank': 66,\n",
              " 'colleague': 11,\n",
              " 'underground': 55,\n",
              " 'spree': 6,\n",
              " 'royko': 2,\n",
              " 'breakout': 3,\n",
              " 'brad': 58,\n",
              " '021583': 2,\n",
              " 'shana': 2,\n",
              " 'paul': 85,\n",
              " 'oconner': 6,\n",
              " 'convert': 22,\n",
              " 'len': 6,\n",
              " 'walter': 36,\n",
              " 'ship': 62,\n",
              " 'giddings': 2,\n",
              " 'mans': 68,\n",
              " 'councilman': 2,\n",
              " '102384': 2,\n",
              " 'transports': 7,\n",
              " 'faceman': 2,\n",
              " 'orphanage': 6,\n",
              " 'persausion': 2,\n",
              " 'place': 391,\n",
              " 'villard': 2,\n",
              " 'sander': 3,\n",
              " 'poppe': 2,\n",
              " 'sampson': 2,\n",
              " 'twill': 2,\n",
              " 'allen': 26,\n",
              " 'rina': 3,\n",
              " 'gray': 41,\n",
              " 'jose': 17,\n",
              " 'fernandez': 2,\n",
              " 'satlof': 2,\n",
              " 'suspicious': 29,\n",
              " 'mceveety': 2,\n",
              " 'paranoid': 26,\n",
              " 'sullivan': 15,\n",
              " 'kendall': 3,\n",
              " 'tataro': 2,\n",
              " 'markham': 2,\n",
              " 'threatens': 22,\n",
              " 'landers': 5,\n",
              " '092584': 2,\n",
              " 'dir': 5,\n",
              " 'quest': 33,\n",
              " 'newswoman': 2,\n",
              " 'plates': 23,\n",
              " 'singer': 36,\n",
              " 'lauter': 3,\n",
              " 'chu': 5,\n",
              " 'bernie': 9,\n",
              " 'attempts': 54,\n",
              " 'shelley': 8,\n",
              " 'corvette': 9,\n",
              " 'seen': 252,\n",
              " 'shasta': 6,\n",
              " 'whereabouts': 7,\n",
              " 'belair': 2,\n",
              " 'rescuing': 5,\n",
              " 'ill': 249,\n",
              " 'neame': 2,\n",
              " 'trade': 78,\n",
              " 'new': 546,\n",
              " '2e14859': 2,\n",
              " 'lucero': 2,\n",
              " 'fulton': 4,\n",
              " 'retired': 38,\n",
              " 'betty': 19,\n",
              " 'cherie': 2,\n",
              " '112983': 2,\n",
              " 'major': 167,\n",
              " 'romero': 2,\n",
              " 'valerie': 8,\n",
              " 'kessler': 2,\n",
              " 'willingham': 4,\n",
              " 'autry': 2,\n",
              " 'ellen': 15,\n",
              " 'fletcher': 6,\n",
              " 'ross': 19,\n",
              " 'napier': 3,\n",
              " 'murdered': 18,\n",
              " 'gillian': 6,\n",
              " 'corner': 93,\n",
              " 'tom': 69,\n",
              " 'mcfadden': 2,\n",
              " 'anyone': 255,\n",
              " 'carrie': 10,\n",
              " 'cal': 18,\n",
              " 'bank': 70,\n",
              " 'darrow': 6,\n",
              " 'noche': 3,\n",
              " 'boom': 23,\n",
              " 'brewing': 22,\n",
              " 'mobilizes': 2,\n",
              " 'number': 352,\n",
              " 'lethin': 2,\n",
              " 'always': 411,\n",
              " 'workers': 48,\n",
              " 'briefcase': 16,\n",
              " 'duke': 12,\n",
              " 'susan': 22,\n",
              " 'around': 487,\n",
              " 'workout': 5,\n",
              " 'martien': 2,\n",
              " 'distributor': 13,\n",
              " 'sawyer': 8,\n",
              " '101086': 2,\n",
              " 'lin': 12,\n",
              " 'wastes': 12,\n",
              " 'additions': 31,\n",
              " 'goldner': 2,\n",
              " 'lines': 189,\n",
              " 'begins': 92,\n",
              " 'sergio': 3,\n",
              " 'swerling': 2,\n",
              " 'heiden': 2,\n",
              " 'hess': 6,\n",
              " 'daniel': 21,\n",
              " 'cole': 15,\n",
              " 'hes': 193,\n",
              " 'hunt': 30,\n",
              " 'gagnier': 2,\n",
              " 'grave': 23,\n",
              " 'block': 71,\n",
              " '111583': 2,\n",
              " 'bryant': 9,\n",
              " 'siblings': 7,\n",
              " 'spring': 81,\n",
              " 'kale': 4,\n",
              " 'excommander': 2,\n",
              " 'murdock': 6,\n",
              " 'kelsey': 4,\n",
              " 'marie': 19,\n",
              " 'cons': 9,\n",
              " 'holding': 83,\n",
              " 'jenny': 12,\n",
              " 'vernon': 5,\n",
              " 'pepe': 7,\n",
              " 'comes': 259,\n",
              " '021285': 2,\n",
              " 'wheel': 55,\n",
              " 'know': 607,\n",
              " 'chapman': 13,\n",
              " 'theresa': 9,\n",
              " 'owner': 69,\n",
              " 'salmi': 3,\n",
              " 'appears': 92,\n",
              " ...}"
            ]
          },
          "metadata": {},
          "execution_count": 80
        }
      ]
    },
    {
      "cell_type": "code",
      "source": [
        "idf = {}\n",
        "\n",
        "k1 = doc_freq.keys()\n",
        "n = len(doc10)\n",
        "for s in k1:\n",
        "    \n",
        "    a = doc_freq[s]\n",
        "    val = np.log(n/(a))\n",
        "    idf[s] = val"
      ],
      "metadata": {
        "id": "TbWhbtF2dkAt"
      },
      "execution_count": 81,
      "outputs": []
    },
    {
      "cell_type": "code",
      "source": [
        "list_return = []\n",
        "\n",
        "for s in count_term:\n",
        "    d5 = {}\n",
        "    b = s.keys()\n",
        "    \n",
        "    for w in b:\n",
        "        f = s[w]\n",
        "        v = idf[w]\n",
        "        new = f * v\n",
        "        d5[w] = new\n",
        "    \n",
        "    list_return.append(d5)"
      ],
      "metadata": {
        "id": "T85KnNHYeTRC"
      },
      "execution_count": 82,
      "outputs": []
    },
    {
      "cell_type": "code",
      "source": [
        ""
      ],
      "metadata": {
        "id": "2te3DHX0f4uA"
      },
      "execution_count": 82,
      "outputs": []
    },
    {
      "cell_type": "code",
      "source": [
        "def tfidf(s):\n",
        "    r = []\n",
        "    arr = np.zeros((len(s),len(vocab)))\n",
        "    j=0\n",
        "    for i in s:\n",
        "        d6 = {}\n",
        "        b = i.keys()\n",
        "        \n",
        "        for w in b:\n",
        "            f = i[w]\n",
        "            f1 = idf[w]\n",
        "            new = f * f1\n",
        "\n",
        "            d6[w] = new\n",
        "            arr[j][index[w]] = new\n",
        "    \n",
        "        r.append(d6)\n",
        "        j+=1\n",
        "    \n",
        "    return arr\n"
      ],
      "metadata": {
        "id": "q_FrzfsoeZnX"
      },
      "execution_count": 83,
      "outputs": []
    },
    {
      "cell_type": "code",
      "source": [
        "len(count_term)"
      ],
      "metadata": {
        "colab": {
          "base_uri": "https://localhost:8080/"
        },
        "id": "nsEoFVFxjpH3",
        "outputId": "131154f1-7c22-4392-b07d-dc5b6645ad00"
      },
      "execution_count": 84,
      "outputs": [
        {
          "output_type": "execute_result",
          "data": {
            "text/plain": [
              "1133"
            ]
          },
          "metadata": {},
          "execution_count": 84
        }
      ]
    },
    {
      "cell_type": "code",
      "source": [
        "index = {}\n",
        "ind=0\n",
        "\n",
        "for w in vocab:\n",
        "  index[w] = ind\n",
        "  ind+=1"
      ],
      "metadata": {
        "id": "yeK4IHTilC2e"
      },
      "execution_count": 85,
      "outputs": []
    },
    {
      "cell_type": "code",
      "source": [
        "tfidf_1 = tfidf(binary)"
      ],
      "metadata": {
        "id": "APBxIG8VehwO"
      },
      "execution_count": 86,
      "outputs": []
    },
    {
      "cell_type": "code",
      "source": [
        "tfidf_2 = tfidf(count_term)"
      ],
      "metadata": {
        "id": "TvdUo-2Heogq"
      },
      "execution_count": 87,
      "outputs": []
    },
    {
      "cell_type": "code",
      "source": [
        "tfidf_3 = tfidf(term_freq)"
      ],
      "metadata": {
        "id": "K2T-la0aewEf"
      },
      "execution_count": 88,
      "outputs": []
    },
    {
      "cell_type": "code",
      "source": [
        "tfidf_4 = tfidf(log_tf)"
      ],
      "metadata": {
        "id": "7Pjsog3Vex_o"
      },
      "execution_count": 89,
      "outputs": []
    },
    {
      "cell_type": "code",
      "source": [
        "tfidf_5 = tfidf(tf3)"
      ],
      "metadata": {
        "id": "CweqgiTfe22G"
      },
      "execution_count": 90,
      "outputs": []
    },
    {
      "cell_type": "code",
      "source": [
        "# vocab = sorted(vocab)"
      ],
      "metadata": {
        "id": "Y7IssJdRg2JZ"
      },
      "execution_count": 91,
      "outputs": []
    },
    {
      "cell_type": "code",
      "execution_count": 92,
      "metadata": {
        "id": "qDE1AeTLipHI"
      },
      "outputs": [],
      "source": [
        "arr = []\n",
        "\n",
        "for w in vocab:\n",
        "    if w in query:\n",
        "        arr.append(1)\n",
        "    else:\n",
        "        arr.append(0)\n",
        "    \n",
        "    "
      ]
    },
    {
      "cell_type": "code",
      "execution_count": null,
      "metadata": {
        "id": "SmKAABKtipHI"
      },
      "outputs": [],
      "source": [
        "arr1 = {}\n",
        "for i in range(len(doc10)):\n",
        "#     print(g[i],arr)\n",
        "    arr1[i]=(np.dot(tfidf_1[i],arr))\n",
        "\n",
        "arr1\n"
      ]
    },
    {
      "cell_type": "code",
      "execution_count": 115,
      "metadata": {
        "id": "UiAcitWoa5U1"
      },
      "outputs": [],
      "source": [
        "arr1 = sorted(arr1.items(), key = lambda x:(x[1]),reverse=True)\n",
        "ans = arr1[:5]"
      ]
    },
    {
      "cell_type": "code",
      "source": [
        "ans"
      ],
      "metadata": {
        "colab": {
          "base_uri": "https://localhost:8080/"
        },
        "id": "LNqQdjcxUAkW",
        "outputId": "32b6eae3-eadc-4e27-c29a-4b738bfc7f60"
      },
      "execution_count": 116,
      "outputs": [
        {
          "output_type": "execute_result",
          "data": {
            "text/plain": [
              "[(11, 1.6766918329335792),\n",
              " (17, 1.6766918329335792),\n",
              " (19, 1.6766918329335792),\n",
              " (23, 1.6766918329335792),\n",
              " (30, 1.6766918329335792)]"
            ]
          },
          "metadata": {},
          "execution_count": 116
        }
      ]
    },
    {
      "cell_type": "markdown",
      "source": [
        "### Binary"
      ],
      "metadata": {
        "id": "UqdjehU8SXz3"
      }
    },
    {
      "cell_type": "code",
      "source": [
        "for i in range(len(ans)):\n",
        "  ans[i] = list(ans[i])\n",
        "  print(str(name[ans[i][0]]) + \":  \" + str(ans[i][1]))"
      ],
      "metadata": {
        "colab": {
          "base_uri": "https://localhost:8080/"
        },
        "id": "85wZb1RUph-w",
        "outputId": "36a0601b-e594-4ac9-eda2-b47f95b1dddb"
      },
      "execution_count": 117,
      "outputs": [
        {
          "output_type": "stream",
          "name": "stdout",
          "text": [
            "acronyms.txt:  1.6766918329335792\n",
            "ads.txt:  1.6766918329335792\n",
            "advrtize.txt:  1.6766918329335792\n",
            "aids.txt:  1.6766918329335792\n",
            "allfam.epi:  1.6766918329335792\n"
          ]
        }
      ]
    },
    {
      "cell_type": "code",
      "execution_count": 119,
      "metadata": {
        "id": "UDgZKJWXipHI"
      },
      "outputs": [],
      "source": [
        "arr2 = {}\n",
        "for i in range(len(doc10)):\n",
        "#     print(g[i],arr)\n",
        "    arr2[i]=(np.dot(tfidf_2[i],arr))"
      ]
    },
    {
      "cell_type": "code",
      "source": [
        "arr2 = sorted(arr2.items(), key = lambda x:(x[1]),reverse=True)\n",
        "ans1 = arr2[:5]\n",
        "arr2[:5]"
      ],
      "metadata": {
        "colab": {
          "base_uri": "https://localhost:8080/"
        },
        "id": "nGvsQ08Dm6X4",
        "outputId": "55280aac-dc07-4b47-85eb-b11aafcc1f5a"
      },
      "execution_count": 120,
      "outputs": [
        {
          "output_type": "execute_result",
          "data": {
            "text/plain": [
              "[(663, 98.87334547532934),\n",
              " (817, 83.10083364709777),\n",
              " (501, 69.08550781619142),\n",
              " (630, 69.04361815261366),\n",
              " (752, 37.595241990244006)]"
            ]
          },
          "metadata": {},
          "execution_count": 120
        }
      ]
    },
    {
      "cell_type": "markdown",
      "source": [
        "### raw count"
      ],
      "metadata": {
        "id": "_u3O7ndWSkF7"
      }
    },
    {
      "cell_type": "code",
      "source": [
        "for i in range(len(ans1)):\n",
        "  ans1[i] = list(ans1[i])\n",
        "  print(str(name[ans1[i][0]]) + \":  \" + str(ans1[i][1]))"
      ],
      "metadata": {
        "colab": {
          "base_uri": "https://localhost:8080/"
        },
        "id": "7_GEEK3HqmU7",
        "outputId": "d8c13241-379c-4cea-dbb9-c7ec2f750eae"
      },
      "execution_count": 121,
      "outputs": [
        {
          "output_type": "stream",
          "name": "stdout",
          "text": [
            "mlverb.hum:  98.87334547532934\n",
            "practica.txt:  83.10083364709777\n",
            "humor9.txt:  69.08550781619142\n",
            "manners.txt:  69.04361815261366\n",
            "onetoone.hum:  37.595241990244006\n"
          ]
        }
      ]
    },
    {
      "cell_type": "code",
      "execution_count": 122,
      "metadata": {
        "id": "NquRDIqIipHI"
      },
      "outputs": [],
      "source": [
        "arr3 = {}\n",
        "for i in range(len(doc10)):\n",
        "#     print(g[i],arr)\n",
        "    arr3[i]=(np.dot(tfidf_3[i],arr))"
      ]
    },
    {
      "cell_type": "code",
      "source": [
        "arr3 = sorted(arr3.items(), key = lambda x:(x[1]),reverse=True)\n",
        "ans2 = arr3[:5]\n",
        "arr3[:5]"
      ],
      "metadata": {
        "colab": {
          "base_uri": "https://localhost:8080/"
        },
        "id": "_GEuPyOAoSIT",
        "outputId": "9e5006a2-c4b1-4413-ecf7-6570cd3754fb"
      },
      "execution_count": 123,
      "outputs": [
        {
          "output_type": "execute_result",
          "data": {
            "text/plain": [
              "[(746, 0.05646227520093988),\n",
              " (805, 0.03408542113948239),\n",
              " (72, 0.032595759336954584),\n",
              " (360, 0.029123715715285665),\n",
              " (198, 0.026500795506267744)]"
            ]
          },
          "metadata": {},
          "execution_count": 123
        }
      ]
    },
    {
      "cell_type": "markdown",
      "source": [
        "### Term frequency"
      ],
      "metadata": {
        "id": "3Jn2moZpL8kv"
      }
    },
    {
      "cell_type": "code",
      "source": [
        "for i in range(len(ans2)):\n",
        "  ans2[i] = list(ans2[i])\n",
        "  print(str(name[ans2[i][0]]) + \":  \" + str(ans2[i][1]))"
      ],
      "metadata": {
        "colab": {
          "base_uri": "https://localhost:8080/"
        },
        "id": "kQblBA9Rqx_G",
        "outputId": "288cc65f-6708-45f0-cb2f-d1e3fd3a6034"
      },
      "execution_count": 124,
      "outputs": [
        {
          "output_type": "stream",
          "name": "stdout",
          "text": [
            "oldtime.sng:  0.05646227520093988\n",
            "popmach:  0.03408542113948239\n",
            "badday.hum:  0.032595759336954584\n",
            "f_tang.txt:  0.029123715715285665\n",
            "catranch.hum:  0.026500795506267744\n"
          ]
        }
      ]
    },
    {
      "cell_type": "code",
      "source": [
        "query"
      ],
      "metadata": {
        "colab": {
          "base_uri": "https://localhost:8080/"
        },
        "id": "B1v_RXrzPReT",
        "outputId": "f4d8c817-f952-40c2-9c18-f3d1b2e3358b"
      },
      "execution_count": 106,
      "outputs": [
        {
          "output_type": "execute_result",
          "data": {
            "text/plain": [
              "{'day', 'good'}"
            ]
          },
          "metadata": {},
          "execution_count": 106
        }
      ]
    },
    {
      "cell_type": "code",
      "execution_count": 125,
      "metadata": {
        "id": "q2C4MYvFipHI"
      },
      "outputs": [],
      "source": [
        "arr4 = {}\n",
        "for i in range(len(doc10)):\n",
        "#     print(g[i],arr)\n",
        "    arr4[i]=(np.dot(tfidf_4[i],arr))"
      ]
    },
    {
      "cell_type": "code",
      "source": [
        "arr4 = sorted(arr4.items(), key = lambda x:(x[1]),reverse=True)\n",
        "ans3 = arr4[:5]\n",
        "arr4[:5]"
      ],
      "metadata": {
        "colab": {
          "base_uri": "https://localhost:8080/"
        },
        "id": "jhU-RM0ioXQI",
        "outputId": "7cc2163e-18c4-43c7-b534-074061500422"
      },
      "execution_count": 126,
      "outputs": [
        {
          "output_type": "execute_result",
          "data": {
            "text/plain": [
              "[(663, 8.427550280142473),\n",
              " (817, 8.21585961181341),\n",
              " (501, 7.84765903733739),\n",
              " (630, 6.660145474550362),\n",
              " (184, 6.573240619721867)]"
            ]
          },
          "metadata": {},
          "execution_count": 126
        }
      ]
    },
    {
      "cell_type": "markdown",
      "source": [
        "### Log Normalization"
      ],
      "metadata": {
        "id": "kT3UyXJ_LXAR"
      }
    },
    {
      "cell_type": "code",
      "source": [
        "for i in range(len(ans1)):\n",
        "  ans3[i] = list(ans3[i])\n",
        "  print(str(name[ans3[i][0]]) + \":  \" + str(ans3[i][1]))"
      ],
      "metadata": {
        "colab": {
          "base_uri": "https://localhost:8080/"
        },
        "id": "IVp0mYiprFZ9",
        "outputId": "e39149bc-da25-4dda-cfbe-4094d665238e"
      },
      "execution_count": 127,
      "outputs": [
        {
          "output_type": "stream",
          "name": "stdout",
          "text": [
            "mlverb.hum:  8.427550280142473\n",
            "practica.txt:  8.21585961181341\n",
            "humor9.txt:  7.84765903733739\n",
            "manners.txt:  6.660145474550362\n",
            "candy.txt:  6.573240619721867\n"
          ]
        }
      ]
    },
    {
      "cell_type": "code",
      "source": [
        "arr5 = {}\n",
        "for i in range(len(doc10)):\n",
        "#     print(g[i],arr)\n",
        "    arr5[i]=(np.dot(tfidf_5[i],arr))"
      ],
      "metadata": {
        "id": "Zm6NYVZHl9h9"
      },
      "execution_count": 128,
      "outputs": []
    },
    {
      "cell_type": "code",
      "source": [
        "arr5 = sorted(arr5.items(), key = lambda x:(x[1]),reverse=True)\n",
        "ans4 = arr5[:5]\n",
        "arr5[:5]"
      ],
      "metadata": {
        "colab": {
          "base_uri": "https://localhost:8080/"
        },
        "id": "SuTomT28ocTD",
        "outputId": "4e0fb0e5-0454-4b64-c68d-ca9512b87031"
      },
      "execution_count": 129,
      "outputs": [
        {
          "output_type": "execute_result",
          "data": {
            "text/plain": [
              "[(782, 1.4100396306053142),\n",
              " (805, 1.3666699441287666),\n",
              " (1045, 1.3385779163379987),\n",
              " (342, 1.2483468997054197),\n",
              " (486, 1.2460539059567284)]"
            ]
          },
          "metadata": {},
          "execution_count": 129
        }
      ]
    },
    {
      "cell_type": "markdown",
      "source": [
        "### Double log normalisation"
      ],
      "metadata": {
        "id": "PBsZccQcMFFL"
      }
    },
    {
      "cell_type": "code",
      "source": [
        "for i in range(len(ans4)):\n",
        "  ans4[i] = list(ans4[i])\n",
        "  print(str(name[ans4[i][0]]) + \":  \" + str(ans4[i][1]))"
      ],
      "metadata": {
        "colab": {
          "base_uri": "https://localhost:8080/"
        },
        "id": "lmACZ3HcrSlL",
        "outputId": "4667621b-44de-414e-8e95-a35c93789ba6"
      },
      "execution_count": 130,
      "outputs": [
        {
          "output_type": "stream",
          "name": "stdout",
          "text": [
            "pepsideg.txt:  1.4100396306053142\n",
            "popmach:  1.3666699441287666\n",
            "trukdeth.txt:  1.3385779163379987\n",
            "enlightenment.txt:  1.2483468997054197\n",
            "horoscop.txt:  1.2460539059567284\n"
          ]
        }
      ]
    }
  ],
  "metadata": {
    "colab": {
      "collapsed_sections": [],
      "name": "IR_A1 (4).ipynb",
      "provenance": []
    },
    "kernelspec": {
      "display_name": "Python 3",
      "language": "python",
      "name": "python3"
    },
    "language_info": {
      "codemirror_mode": {
        "name": "ipython",
        "version": 3
      },
      "file_extension": ".py",
      "mimetype": "text/x-python",
      "name": "python",
      "nbconvert_exporter": "python",
      "pygments_lexer": "ipython3",
      "version": "3.8.8"
    }
  },
  "nbformat": 4,
  "nbformat_minor": 0
}