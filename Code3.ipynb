{
  "nbformat": 4,
  "nbformat_minor": 0,
  "metadata": {
    "colab": {
      "name": "Untitled2 (1).ipynb",
      "provenance": [],
      "collapsed_sections": []
    },
    "kernelspec": {
      "name": "python3",
      "display_name": "Python 3"
    },
    "language_info": {
      "name": "python"
    }
  },
  "cells": [
    {
      "cell_type": "code",
      "execution_count": 1,
      "metadata": {
        "colab": {
          "base_uri": "https://localhost:8080/"
        },
        "id": "ES9Jtdp1hLaY",
        "outputId": "75e76bf4-6893-4077-e039-da772678c4d8"
      },
      "outputs": [
        {
          "output_type": "stream",
          "name": "stdout",
          "text": [
            "[nltk_data] Downloading package punkt to /root/nltk_data...\n",
            "[nltk_data]   Unzipping tokenizers/punkt.zip.\n",
            "[nltk_data] Downloading package wordnet to /root/nltk_data...\n",
            "[nltk_data]   Unzipping corpora/wordnet.zip.\n",
            "[nltk_data] Downloading package stopwords to /root/nltk_data...\n",
            "[nltk_data]   Unzipping corpora/stopwords.zip.\n"
          ]
        }
      ],
      "source": [
        "import os\n",
        "import re\n",
        "import nltk\n",
        "import math\n",
        "import string\n",
        "import numpy as np\n",
        "import pandas as pd\n",
        "nltk.download('punkt')\n",
        "nltk.download('wordnet')\n",
        "nltk.download('stopwords')\n",
        "from natsort import natsorted\n",
        "from nltk.corpus import stopwords\n",
        "from nltk.stem import WordNetLemmatizer, PorterStemmer\n",
        "from nltk.tokenize import sent_tokenize , word_tokenize"
      ]
    },
    {
      "cell_type": "code",
      "source": [
        "from zipfile import ZipFile\n",
        "\n",
        "# f = '/content/Humor,Hist,Media,Food.zip'\n",
        "f = r\"/content/drive/MyDrive/20_newsgroups.zip\"\n",
        "\n",
        "with ZipFile(f,'r') as zip1:\n",
        "  zip1.printdir()\n",
        "  zip1.extractall()"
      ],
      "metadata": {
        "id": "pfhLk6t0AYpC"
      },
      "execution_count": 4,
      "outputs": []
    },
    {
      "cell_type": "code",
      "source": [
        "from google.colab import drive\n",
        "drive.mount('/content/drive')"
      ],
      "metadata": {
        "colab": {
          "base_uri": "https://localhost:8080/"
        },
        "id": "gE4rwR_GAfhC",
        "outputId": "b02723d1-3f4c-4a01-9fa5-53361247b259"
      },
      "execution_count": 3,
      "outputs": [
        {
          "output_type": "stream",
          "name": "stdout",
          "text": [
            "Mounted at /content/drive\n"
          ]
        }
      ]
    },
    {
      "cell_type": "code",
      "source": [
        "import os\n",
        "\n",
        "def get_file(path,l):\n",
        "\n",
        "  p = path\n",
        "  name2 = os.listdir(p)\n",
        "\n",
        "  doc12 = []\n",
        "  label = []\n",
        "\n",
        "  for i in range(1,len(name2)):\n",
        "    # print(name[i])\n",
        "    # print(i)\n",
        "    \n",
        "    # if '.' not in l[i]:\n",
        "    #   l[i]+=\".txt\"\n",
        "    try:\n",
        "      with open(path+name2[i],encoding='utf8',errors='ignore') as f:\n",
        "        lines = f.readlines()\n",
        "      t1 = \" \".join(lines)\n",
        "      doc12.append(t1)\n",
        "      label.append(l)\n",
        "    except:\n",
        "      df = pd.read_csv(path+name2[i],sep='\\t',lineterminator='\\n',names=[\"text\"])\n",
        "      df.dropna(inplace=True)\n",
        "      t = df[\"text\"].values\n",
        "      # print(t)\n",
        "      t1 = \" \".join(t)\n",
        "      doc12.append(t1)\n",
        "      label.append(l)\n",
        "  return doc12,label"
      ],
      "metadata": {
        "id": "trtUx3ljA2t7"
      },
      "execution_count": 5,
      "outputs": []
    },
    {
      "cell_type": "code",
      "source": [
        "doc11,label = get_file(\"/content/20_newsgroups/comp.graphics/\",\"comp.graphics\")\n",
        "df11 = pd.DataFrame(doc11,columns=['_file_'])\n",
        "df11['label'] = label\n",
        "df11.head()"
      ],
      "metadata": {
        "colab": {
          "base_uri": "https://localhost:8080/",
          "height": 206
        },
        "id": "slIQd3_XBHZU",
        "outputId": "dba2fc98-c837-447c-b177-3e8636c2f68c"
      },
      "execution_count": 6,
      "outputs": [
        {
          "output_type": "execute_result",
          "data": {
            "text/plain": [
              "                                              _file_          label\n",
              "0  Xref: cantaloupe.srv.cs.cmu.edu comp.graphics:...  comp.graphics\n",
              "1  Newsgroups: comp.graphics\\n Path: cantaloupe.s...  comp.graphics\n",
              "2  Newsgroups: comp.graphics\\n Path: cantaloupe.s...  comp.graphics\n",
              "3  Xref: cantaloupe.srv.cs.cmu.edu comp.graphics:...  comp.graphics\n",
              "4  Newsgroups: comp.graphics\\n Path: cantaloupe.s...  comp.graphics"
            ],
            "text/html": [
              "\n",
              "  <div id=\"df-bedf4715-e3a0-4bc8-a699-1897b492edf9\">\n",
              "    <div class=\"colab-df-container\">\n",
              "      <div>\n",
              "<style scoped>\n",
              "    .dataframe tbody tr th:only-of-type {\n",
              "        vertical-align: middle;\n",
              "    }\n",
              "\n",
              "    .dataframe tbody tr th {\n",
              "        vertical-align: top;\n",
              "    }\n",
              "\n",
              "    .dataframe thead th {\n",
              "        text-align: right;\n",
              "    }\n",
              "</style>\n",
              "<table border=\"1\" class=\"dataframe\">\n",
              "  <thead>\n",
              "    <tr style=\"text-align: right;\">\n",
              "      <th></th>\n",
              "      <th>_file_</th>\n",
              "      <th>label</th>\n",
              "    </tr>\n",
              "  </thead>\n",
              "  <tbody>\n",
              "    <tr>\n",
              "      <th>0</th>\n",
              "      <td>Xref: cantaloupe.srv.cs.cmu.edu comp.graphics:...</td>\n",
              "      <td>comp.graphics</td>\n",
              "    </tr>\n",
              "    <tr>\n",
              "      <th>1</th>\n",
              "      <td>Newsgroups: comp.graphics\\n Path: cantaloupe.s...</td>\n",
              "      <td>comp.graphics</td>\n",
              "    </tr>\n",
              "    <tr>\n",
              "      <th>2</th>\n",
              "      <td>Newsgroups: comp.graphics\\n Path: cantaloupe.s...</td>\n",
              "      <td>comp.graphics</td>\n",
              "    </tr>\n",
              "    <tr>\n",
              "      <th>3</th>\n",
              "      <td>Xref: cantaloupe.srv.cs.cmu.edu comp.graphics:...</td>\n",
              "      <td>comp.graphics</td>\n",
              "    </tr>\n",
              "    <tr>\n",
              "      <th>4</th>\n",
              "      <td>Newsgroups: comp.graphics\\n Path: cantaloupe.s...</td>\n",
              "      <td>comp.graphics</td>\n",
              "    </tr>\n",
              "  </tbody>\n",
              "</table>\n",
              "</div>\n",
              "      <button class=\"colab-df-convert\" onclick=\"convertToInteractive('df-bedf4715-e3a0-4bc8-a699-1897b492edf9')\"\n",
              "              title=\"Convert this dataframe to an interactive table.\"\n",
              "              style=\"display:none;\">\n",
              "        \n",
              "  <svg xmlns=\"http://www.w3.org/2000/svg\" height=\"24px\"viewBox=\"0 0 24 24\"\n",
              "       width=\"24px\">\n",
              "    <path d=\"M0 0h24v24H0V0z\" fill=\"none\"/>\n",
              "    <path d=\"M18.56 5.44l.94 2.06.94-2.06 2.06-.94-2.06-.94-.94-2.06-.94 2.06-2.06.94zm-11 1L8.5 8.5l.94-2.06 2.06-.94-2.06-.94L8.5 2.5l-.94 2.06-2.06.94zm10 10l.94 2.06.94-2.06 2.06-.94-2.06-.94-.94-2.06-.94 2.06-2.06.94z\"/><path d=\"M17.41 7.96l-1.37-1.37c-.4-.4-.92-.59-1.43-.59-.52 0-1.04.2-1.43.59L10.3 9.45l-7.72 7.72c-.78.78-.78 2.05 0 2.83L4 21.41c.39.39.9.59 1.41.59.51 0 1.02-.2 1.41-.59l7.78-7.78 2.81-2.81c.8-.78.8-2.07 0-2.86zM5.41 20L4 18.59l7.72-7.72 1.47 1.35L5.41 20z\"/>\n",
              "  </svg>\n",
              "      </button>\n",
              "      \n",
              "  <style>\n",
              "    .colab-df-container {\n",
              "      display:flex;\n",
              "      flex-wrap:wrap;\n",
              "      gap: 12px;\n",
              "    }\n",
              "\n",
              "    .colab-df-convert {\n",
              "      background-color: #E8F0FE;\n",
              "      border: none;\n",
              "      border-radius: 50%;\n",
              "      cursor: pointer;\n",
              "      display: none;\n",
              "      fill: #1967D2;\n",
              "      height: 32px;\n",
              "      padding: 0 0 0 0;\n",
              "      width: 32px;\n",
              "    }\n",
              "\n",
              "    .colab-df-convert:hover {\n",
              "      background-color: #E2EBFA;\n",
              "      box-shadow: 0px 1px 2px rgba(60, 64, 67, 0.3), 0px 1px 3px 1px rgba(60, 64, 67, 0.15);\n",
              "      fill: #174EA6;\n",
              "    }\n",
              "\n",
              "    [theme=dark] .colab-df-convert {\n",
              "      background-color: #3B4455;\n",
              "      fill: #D2E3FC;\n",
              "    }\n",
              "\n",
              "    [theme=dark] .colab-df-convert:hover {\n",
              "      background-color: #434B5C;\n",
              "      box-shadow: 0px 1px 3px 1px rgba(0, 0, 0, 0.15);\n",
              "      filter: drop-shadow(0px 1px 2px rgba(0, 0, 0, 0.3));\n",
              "      fill: #FFFFFF;\n",
              "    }\n",
              "  </style>\n",
              "\n",
              "      <script>\n",
              "        const buttonEl =\n",
              "          document.querySelector('#df-bedf4715-e3a0-4bc8-a699-1897b492edf9 button.colab-df-convert');\n",
              "        buttonEl.style.display =\n",
              "          google.colab.kernel.accessAllowed ? 'block' : 'none';\n",
              "\n",
              "        async function convertToInteractive(key) {\n",
              "          const element = document.querySelector('#df-bedf4715-e3a0-4bc8-a699-1897b492edf9');\n",
              "          const dataTable =\n",
              "            await google.colab.kernel.invokeFunction('convertToInteractive',\n",
              "                                                     [key], {});\n",
              "          if (!dataTable) return;\n",
              "\n",
              "          const docLinkHtml = 'Like what you see? Visit the ' +\n",
              "            '<a target=\"_blank\" href=https://colab.research.google.com/notebooks/data_table.ipynb>data table notebook</a>'\n",
              "            + ' to learn more about interactive tables.';\n",
              "          element.innerHTML = '';\n",
              "          dataTable['output_type'] = 'display_data';\n",
              "          await google.colab.output.renderOutput(dataTable, element);\n",
              "          const docLink = document.createElement('div');\n",
              "          docLink.innerHTML = docLinkHtml;\n",
              "          element.appendChild(docLink);\n",
              "        }\n",
              "      </script>\n",
              "    </div>\n",
              "  </div>\n",
              "  "
            ]
          },
          "metadata": {},
          "execution_count": 6
        }
      ]
    },
    {
      "cell_type": "code",
      "source": [
        "doc12,label1 = get_file(\"/content/20_newsgroups/sci.med/\",\"sci.med\")\n",
        "df12 = pd.DataFrame(doc12,columns=['_file_'])\n",
        "df12['label'] = label1\n",
        "\n",
        "doc13,label2 = get_file(\"/content/20_newsgroups/talk.politics.misc/\",\"talk.politics.misc\")\n",
        "df13 = pd.DataFrame(doc13,columns=['_file_'])\n",
        "df13['label'] = label2\n",
        "\n",
        "doc14,label3 = get_file(\"/content/20_newsgroups/rec.sport.hockey/\",\"rec.sport.hockey\")\n",
        "df14 = pd.DataFrame(doc14,columns=['_file_'])\n",
        "df14['label'] = label3\n",
        "\n",
        "doc15,label4 = get_file(\"/content/20_newsgroups/sci.space/\",\"sci.space\")\n",
        "df15 = pd.DataFrame(doc15,columns=['_file_'])\n",
        "df15['label'] = label4\n",
        "\n",
        "df = pd.concat([df11,df12,df13,df14,df15],axis=0)"
      ],
      "metadata": {
        "id": "12tXI8hWB0v3"
      },
      "execution_count": 7,
      "outputs": []
    },
    {
      "cell_type": "code",
      "source": [
        "def remove_stopwords(text):\n",
        "    stop_words = set(stopwords.words(\"english\"))\n",
        "    word_tokens = word_tokenize(text)\n",
        "    filtered_text = [word for word in word_tokens if word not in stop_words]\n",
        "    return \" \".join(filtered_text)"
      ],
      "metadata": {
        "id": "sgfbFiGNEVKn"
      },
      "execution_count": 8,
      "outputs": []
    },
    {
      "cell_type": "markdown",
      "source": [
        "### Preprocessing"
      ],
      "metadata": {
        "id": "GHYc-HMTZPqR"
      }
    },
    {
      "cell_type": "code",
      "source": [
        "import re\n",
        "import nltk\n",
        "from nltk.corpus import stopwords\n",
        "from nltk.stem.porter import PorterStemmer\n",
        "ps=PorterStemmer()\n",
        "nltk.download('stopwords')\n",
        "# stopwords=set(stopwords.words('english'))\n",
        "def cleaner(text):\n",
        "    cleaned=text.replace(\"//\",\" \").replace(\".\",\" \")\n",
        "    cleaned=re.sub(r'[^a-zA-Z]',\" \",cleaned)\n",
        "    cleaned=cleaned.strip() #removing whitespace\n",
        "    cleaned=cleaned.lower() #converting into lower case words\n",
        "    cleaned=re.sub(r'\\w+\\d+',\" \",cleaned)#remove alphanumeric words\n",
        "    cleaned=ps.stem(cleaned) #stemming \n",
        "    cleaned=[word for word in cleaned.split() if len(word)>2]\n",
        "    cleaned=\" \".join(cleaned)\n",
        "    cleaned = remove_stopwords(cleaned)\n",
        "\n",
        "    return cleaned\n",
        "\n",
        "# df['text'] = df['text'].apply(lambda x : cleaner(x))"
      ],
      "metadata": {
        "colab": {
          "base_uri": "https://localhost:8080/"
        },
        "id": "sxm3WfiNEKdY",
        "outputId": "256fe4b1-2821-4f58-d8d0-5994804617f2"
      },
      "execution_count": 9,
      "outputs": [
        {
          "output_type": "stream",
          "name": "stdout",
          "text": [
            "[nltk_data] Downloading package stopwords to /root/nltk_data...\n",
            "[nltk_data]   Package stopwords is already up-to-date!\n"
          ]
        }
      ]
    },
    {
      "cell_type": "code",
      "source": [
        "df['_file_'] = df['_file_'].apply(lambda x:cleaner(x))\n",
        "df.head()"
      ],
      "metadata": {
        "colab": {
          "base_uri": "https://localhost:8080/",
          "height": 206
        },
        "id": "GVcGQkwHAozE",
        "outputId": "0da55b07-7ccd-430a-9131-7c2609f4cf09"
      },
      "execution_count": 10,
      "outputs": [
        {
          "output_type": "execute_result",
          "data": {
            "text/plain": [
              "                                              _file_          label\n",
              "0  xref cantaloupe srv cmu edu comp graphics sci ...  comp.graphics\n",
              "1  newsgroups comp graphics path cantaloupe srv c...  comp.graphics\n",
              "2  newsgroups comp graphics path cantaloupe srv c...  comp.graphics\n",
              "3  xref cantaloupe srv cmu edu comp graphics comp...  comp.graphics\n",
              "4  newsgroups comp graphics path cantaloupe srv c...  comp.graphics"
            ],
            "text/html": [
              "\n",
              "  <div id=\"df-09002127-8565-4f1f-b53e-1c12a838e9bf\">\n",
              "    <div class=\"colab-df-container\">\n",
              "      <div>\n",
              "<style scoped>\n",
              "    .dataframe tbody tr th:only-of-type {\n",
              "        vertical-align: middle;\n",
              "    }\n",
              "\n",
              "    .dataframe tbody tr th {\n",
              "        vertical-align: top;\n",
              "    }\n",
              "\n",
              "    .dataframe thead th {\n",
              "        text-align: right;\n",
              "    }\n",
              "</style>\n",
              "<table border=\"1\" class=\"dataframe\">\n",
              "  <thead>\n",
              "    <tr style=\"text-align: right;\">\n",
              "      <th></th>\n",
              "      <th>_file_</th>\n",
              "      <th>label</th>\n",
              "    </tr>\n",
              "  </thead>\n",
              "  <tbody>\n",
              "    <tr>\n",
              "      <th>0</th>\n",
              "      <td>xref cantaloupe srv cmu edu comp graphics sci ...</td>\n",
              "      <td>comp.graphics</td>\n",
              "    </tr>\n",
              "    <tr>\n",
              "      <th>1</th>\n",
              "      <td>newsgroups comp graphics path cantaloupe srv c...</td>\n",
              "      <td>comp.graphics</td>\n",
              "    </tr>\n",
              "    <tr>\n",
              "      <th>2</th>\n",
              "      <td>newsgroups comp graphics path cantaloupe srv c...</td>\n",
              "      <td>comp.graphics</td>\n",
              "    </tr>\n",
              "    <tr>\n",
              "      <th>3</th>\n",
              "      <td>xref cantaloupe srv cmu edu comp graphics comp...</td>\n",
              "      <td>comp.graphics</td>\n",
              "    </tr>\n",
              "    <tr>\n",
              "      <th>4</th>\n",
              "      <td>newsgroups comp graphics path cantaloupe srv c...</td>\n",
              "      <td>comp.graphics</td>\n",
              "    </tr>\n",
              "  </tbody>\n",
              "</table>\n",
              "</div>\n",
              "      <button class=\"colab-df-convert\" onclick=\"convertToInteractive('df-09002127-8565-4f1f-b53e-1c12a838e9bf')\"\n",
              "              title=\"Convert this dataframe to an interactive table.\"\n",
              "              style=\"display:none;\">\n",
              "        \n",
              "  <svg xmlns=\"http://www.w3.org/2000/svg\" height=\"24px\"viewBox=\"0 0 24 24\"\n",
              "       width=\"24px\">\n",
              "    <path d=\"M0 0h24v24H0V0z\" fill=\"none\"/>\n",
              "    <path d=\"M18.56 5.44l.94 2.06.94-2.06 2.06-.94-2.06-.94-.94-2.06-.94 2.06-2.06.94zm-11 1L8.5 8.5l.94-2.06 2.06-.94-2.06-.94L8.5 2.5l-.94 2.06-2.06.94zm10 10l.94 2.06.94-2.06 2.06-.94-2.06-.94-.94-2.06-.94 2.06-2.06.94z\"/><path d=\"M17.41 7.96l-1.37-1.37c-.4-.4-.92-.59-1.43-.59-.52 0-1.04.2-1.43.59L10.3 9.45l-7.72 7.72c-.78.78-.78 2.05 0 2.83L4 21.41c.39.39.9.59 1.41.59.51 0 1.02-.2 1.41-.59l7.78-7.78 2.81-2.81c.8-.78.8-2.07 0-2.86zM5.41 20L4 18.59l7.72-7.72 1.47 1.35L5.41 20z\"/>\n",
              "  </svg>\n",
              "      </button>\n",
              "      \n",
              "  <style>\n",
              "    .colab-df-container {\n",
              "      display:flex;\n",
              "      flex-wrap:wrap;\n",
              "      gap: 12px;\n",
              "    }\n",
              "\n",
              "    .colab-df-convert {\n",
              "      background-color: #E8F0FE;\n",
              "      border: none;\n",
              "      border-radius: 50%;\n",
              "      cursor: pointer;\n",
              "      display: none;\n",
              "      fill: #1967D2;\n",
              "      height: 32px;\n",
              "      padding: 0 0 0 0;\n",
              "      width: 32px;\n",
              "    }\n",
              "\n",
              "    .colab-df-convert:hover {\n",
              "      background-color: #E2EBFA;\n",
              "      box-shadow: 0px 1px 2px rgba(60, 64, 67, 0.3), 0px 1px 3px 1px rgba(60, 64, 67, 0.15);\n",
              "      fill: #174EA6;\n",
              "    }\n",
              "\n",
              "    [theme=dark] .colab-df-convert {\n",
              "      background-color: #3B4455;\n",
              "      fill: #D2E3FC;\n",
              "    }\n",
              "\n",
              "    [theme=dark] .colab-df-convert:hover {\n",
              "      background-color: #434B5C;\n",
              "      box-shadow: 0px 1px 3px 1px rgba(0, 0, 0, 0.15);\n",
              "      filter: drop-shadow(0px 1px 2px rgba(0, 0, 0, 0.3));\n",
              "      fill: #FFFFFF;\n",
              "    }\n",
              "  </style>\n",
              "\n",
              "      <script>\n",
              "        const buttonEl =\n",
              "          document.querySelector('#df-09002127-8565-4f1f-b53e-1c12a838e9bf button.colab-df-convert');\n",
              "        buttonEl.style.display =\n",
              "          google.colab.kernel.accessAllowed ? 'block' : 'none';\n",
              "\n",
              "        async function convertToInteractive(key) {\n",
              "          const element = document.querySelector('#df-09002127-8565-4f1f-b53e-1c12a838e9bf');\n",
              "          const dataTable =\n",
              "            await google.colab.kernel.invokeFunction('convertToInteractive',\n",
              "                                                     [key], {});\n",
              "          if (!dataTable) return;\n",
              "\n",
              "          const docLinkHtml = 'Like what you see? Visit the ' +\n",
              "            '<a target=\"_blank\" href=https://colab.research.google.com/notebooks/data_table.ipynb>data table notebook</a>'\n",
              "            + ' to learn more about interactive tables.';\n",
              "          element.innerHTML = '';\n",
              "          dataTable['output_type'] = 'display_data';\n",
              "          await google.colab.output.renderOutput(dataTable, element);\n",
              "          const docLink = document.createElement('div');\n",
              "          docLink.innerHTML = docLinkHtml;\n",
              "          element.appendChild(docLink);\n",
              "        }\n",
              "      </script>\n",
              "    </div>\n",
              "  </div>\n",
              "  "
            ]
          },
          "metadata": {},
          "execution_count": 10
        }
      ]
    },
    {
      "cell_type": "markdown",
      "source": [
        "Splitting the Data"
      ],
      "metadata": {
        "id": "Sx9z3o9QHOiT"
      }
    },
    {
      "cell_type": "code",
      "source": [
        "from sklearn.model_selection import train_test_split\n",
        "y=df['label']\n",
        "x_train,x_test,y_train,y_test=train_test_split(df._file_,df.label,random_state=21,test_size=0.20)\n",
        "res=pd.concat([x_train,y_train],axis=1)"
      ],
      "metadata": {
        "id": "1PqUevCTHJoo"
      },
      "execution_count": 11,
      "outputs": []
    },
    {
      "cell_type": "code",
      "source": [
        "y"
      ],
      "metadata": {
        "colab": {
          "base_uri": "https://localhost:8080/"
        },
        "id": "2R_Ljv0NKRL8",
        "outputId": "c68e1df8-1671-48d5-d28e-750710e96105"
      },
      "execution_count": null,
      "outputs": [
        {
          "output_type": "execute_result",
          "data": {
            "text/plain": [
              "0      comp.graphics\n",
              "1      comp.graphics\n",
              "2      comp.graphics\n",
              "3      comp.graphics\n",
              "4      comp.graphics\n",
              "           ...      \n",
              "994        sci.space\n",
              "995        sci.space\n",
              "996        sci.space\n",
              "997        sci.space\n",
              "998        sci.space\n",
              "Name: label, Length: 4995, dtype: object"
            ]
          },
          "metadata": {},
          "execution_count": 84
        }
      ]
    },
    {
      "cell_type": "code",
      "source": [
        "res"
      ],
      "metadata": {
        "colab": {
          "base_uri": "https://localhost:8080/",
          "height": 423
        },
        "id": "if4zfNiDA58h",
        "outputId": "43dcb1a2-baef-4e45-97f9-22a15a8f7582"
      },
      "execution_count": null,
      "outputs": [
        {
          "output_type": "execute_result",
          "data": {
            "text/plain": [
              "                                                _file_               label\n",
              "214  newsgroups comp graphics path cantaloupe srv c...       comp.graphics\n",
              "638  xref cantaloupe srv cmu edu talk abortion talk...  talk.politics.misc\n",
              "133  newsgroups comp graphics path cantaloupe srv c...       comp.graphics\n",
              "616  xref cantaloupe srv cmu edu comp sys mac progr...       comp.graphics\n",
              "201  newsgroups rec sport hockey path cantaloupe sr...    rec.sport.hockey\n",
              "..                                                 ...                 ...\n",
              "302  xref cantaloupe srv cmu edu sci environment mi...           sci.space\n",
              "710  xref cantaloupe srv cmu edu sci environment mi...           sci.space\n",
              "145  xref cantaloupe srv cmu edu rec food cooking s...             sci.med\n",
              "48   path cantaloupe srv cmu edu crabapple srv cmu ...       comp.graphics\n",
              "772  xref cantaloupe srv cmu edu comp graphics comp...       comp.graphics\n",
              "\n",
              "[2997 rows x 2 columns]"
            ],
            "text/html": [
              "\n",
              "  <div id=\"df-db24de2c-88ca-4c08-bc77-bf42db459cbe\">\n",
              "    <div class=\"colab-df-container\">\n",
              "      <div>\n",
              "<style scoped>\n",
              "    .dataframe tbody tr th:only-of-type {\n",
              "        vertical-align: middle;\n",
              "    }\n",
              "\n",
              "    .dataframe tbody tr th {\n",
              "        vertical-align: top;\n",
              "    }\n",
              "\n",
              "    .dataframe thead th {\n",
              "        text-align: right;\n",
              "    }\n",
              "</style>\n",
              "<table border=\"1\" class=\"dataframe\">\n",
              "  <thead>\n",
              "    <tr style=\"text-align: right;\">\n",
              "      <th></th>\n",
              "      <th>_file_</th>\n",
              "      <th>label</th>\n",
              "    </tr>\n",
              "  </thead>\n",
              "  <tbody>\n",
              "    <tr>\n",
              "      <th>214</th>\n",
              "      <td>newsgroups comp graphics path cantaloupe srv c...</td>\n",
              "      <td>comp.graphics</td>\n",
              "    </tr>\n",
              "    <tr>\n",
              "      <th>638</th>\n",
              "      <td>xref cantaloupe srv cmu edu talk abortion talk...</td>\n",
              "      <td>talk.politics.misc</td>\n",
              "    </tr>\n",
              "    <tr>\n",
              "      <th>133</th>\n",
              "      <td>newsgroups comp graphics path cantaloupe srv c...</td>\n",
              "      <td>comp.graphics</td>\n",
              "    </tr>\n",
              "    <tr>\n",
              "      <th>616</th>\n",
              "      <td>xref cantaloupe srv cmu edu comp sys mac progr...</td>\n",
              "      <td>comp.graphics</td>\n",
              "    </tr>\n",
              "    <tr>\n",
              "      <th>201</th>\n",
              "      <td>newsgroups rec sport hockey path cantaloupe sr...</td>\n",
              "      <td>rec.sport.hockey</td>\n",
              "    </tr>\n",
              "    <tr>\n",
              "      <th>...</th>\n",
              "      <td>...</td>\n",
              "      <td>...</td>\n",
              "    </tr>\n",
              "    <tr>\n",
              "      <th>302</th>\n",
              "      <td>xref cantaloupe srv cmu edu sci environment mi...</td>\n",
              "      <td>sci.space</td>\n",
              "    </tr>\n",
              "    <tr>\n",
              "      <th>710</th>\n",
              "      <td>xref cantaloupe srv cmu edu sci environment mi...</td>\n",
              "      <td>sci.space</td>\n",
              "    </tr>\n",
              "    <tr>\n",
              "      <th>145</th>\n",
              "      <td>xref cantaloupe srv cmu edu rec food cooking s...</td>\n",
              "      <td>sci.med</td>\n",
              "    </tr>\n",
              "    <tr>\n",
              "      <th>48</th>\n",
              "      <td>path cantaloupe srv cmu edu crabapple srv cmu ...</td>\n",
              "      <td>comp.graphics</td>\n",
              "    </tr>\n",
              "    <tr>\n",
              "      <th>772</th>\n",
              "      <td>xref cantaloupe srv cmu edu comp graphics comp...</td>\n",
              "      <td>comp.graphics</td>\n",
              "    </tr>\n",
              "  </tbody>\n",
              "</table>\n",
              "<p>2997 rows × 2 columns</p>\n",
              "</div>\n",
              "      <button class=\"colab-df-convert\" onclick=\"convertToInteractive('df-db24de2c-88ca-4c08-bc77-bf42db459cbe')\"\n",
              "              title=\"Convert this dataframe to an interactive table.\"\n",
              "              style=\"display:none;\">\n",
              "        \n",
              "  <svg xmlns=\"http://www.w3.org/2000/svg\" height=\"24px\"viewBox=\"0 0 24 24\"\n",
              "       width=\"24px\">\n",
              "    <path d=\"M0 0h24v24H0V0z\" fill=\"none\"/>\n",
              "    <path d=\"M18.56 5.44l.94 2.06.94-2.06 2.06-.94-2.06-.94-.94-2.06-.94 2.06-2.06.94zm-11 1L8.5 8.5l.94-2.06 2.06-.94-2.06-.94L8.5 2.5l-.94 2.06-2.06.94zm10 10l.94 2.06.94-2.06 2.06-.94-2.06-.94-.94-2.06-.94 2.06-2.06.94z\"/><path d=\"M17.41 7.96l-1.37-1.37c-.4-.4-.92-.59-1.43-.59-.52 0-1.04.2-1.43.59L10.3 9.45l-7.72 7.72c-.78.78-.78 2.05 0 2.83L4 21.41c.39.39.9.59 1.41.59.51 0 1.02-.2 1.41-.59l7.78-7.78 2.81-2.81c.8-.78.8-2.07 0-2.86zM5.41 20L4 18.59l7.72-7.72 1.47 1.35L5.41 20z\"/>\n",
              "  </svg>\n",
              "      </button>\n",
              "      \n",
              "  <style>\n",
              "    .colab-df-container {\n",
              "      display:flex;\n",
              "      flex-wrap:wrap;\n",
              "      gap: 12px;\n",
              "    }\n",
              "\n",
              "    .colab-df-convert {\n",
              "      background-color: #E8F0FE;\n",
              "      border: none;\n",
              "      border-radius: 50%;\n",
              "      cursor: pointer;\n",
              "      display: none;\n",
              "      fill: #1967D2;\n",
              "      height: 32px;\n",
              "      padding: 0 0 0 0;\n",
              "      width: 32px;\n",
              "    }\n",
              "\n",
              "    .colab-df-convert:hover {\n",
              "      background-color: #E2EBFA;\n",
              "      box-shadow: 0px 1px 2px rgba(60, 64, 67, 0.3), 0px 1px 3px 1px rgba(60, 64, 67, 0.15);\n",
              "      fill: #174EA6;\n",
              "    }\n",
              "\n",
              "    [theme=dark] .colab-df-convert {\n",
              "      background-color: #3B4455;\n",
              "      fill: #D2E3FC;\n",
              "    }\n",
              "\n",
              "    [theme=dark] .colab-df-convert:hover {\n",
              "      background-color: #434B5C;\n",
              "      box-shadow: 0px 1px 3px 1px rgba(0, 0, 0, 0.15);\n",
              "      filter: drop-shadow(0px 1px 2px rgba(0, 0, 0, 0.3));\n",
              "      fill: #FFFFFF;\n",
              "    }\n",
              "  </style>\n",
              "\n",
              "      <script>\n",
              "        const buttonEl =\n",
              "          document.querySelector('#df-db24de2c-88ca-4c08-bc77-bf42db459cbe button.colab-df-convert');\n",
              "        buttonEl.style.display =\n",
              "          google.colab.kernel.accessAllowed ? 'block' : 'none';\n",
              "\n",
              "        async function convertToInteractive(key) {\n",
              "          const element = document.querySelector('#df-db24de2c-88ca-4c08-bc77-bf42db459cbe');\n",
              "          const dataTable =\n",
              "            await google.colab.kernel.invokeFunction('convertToInteractive',\n",
              "                                                     [key], {});\n",
              "          if (!dataTable) return;\n",
              "\n",
              "          const docLinkHtml = 'Like what you see? Visit the ' +\n",
              "            '<a target=\"_blank\" href=https://colab.research.google.com/notebooks/data_table.ipynb>data table notebook</a>'\n",
              "            + ' to learn more about interactive tables.';\n",
              "          element.innerHTML = '';\n",
              "          dataTable['output_type'] = 'display_data';\n",
              "          await google.colab.output.renderOutput(dataTable, element);\n",
              "          const docLink = document.createElement('div');\n",
              "          docLink.innerHTML = docLinkHtml;\n",
              "          element.appendChild(docLink);\n",
              "        }\n",
              "      </script>\n",
              "    </div>\n",
              "  </div>\n",
              "  "
            ]
          },
          "metadata": {},
          "execution_count": 23
        }
      ]
    },
    {
      "cell_type": "code",
      "source": [
        "df_fin=res.groupby('label')['_file_'].apply(list).reset_index(name=\"_file\")"
      ],
      "metadata": {
        "id": "1Dh-3MhGIJg1"
      },
      "execution_count": null,
      "outputs": []
    },
    {
      "cell_type": "code",
      "source": [
        "df_fin['_file']"
      ],
      "metadata": {
        "colab": {
          "base_uri": "https://localhost:8080/"
        },
        "id": "RavgfnsXBABk",
        "outputId": "e8a01eb4-5e86-4b58-8dfa-61fc63e23bcf"
      },
      "execution_count": null,
      "outputs": [
        {
          "output_type": "execute_result",
          "data": {
            "text/plain": [
              "0    [newsgroups comp graphics path cantaloupe srv ...\n",
              "1    [newsgroups rec sport hockey path cantaloupe s...\n",
              "2    [newsgroups sci med path cantaloupe srv cmu ed...\n",
              "3    [path cantaloupe srv cmu edu magnesium club cm...\n",
              "4    [xref cantaloupe srv cmu edu talk abortion tal...\n",
              "Name: _file, dtype: object"
            ]
          },
          "metadata": {},
          "execution_count": 86
        }
      ]
    },
    {
      "cell_type": "code",
      "source": [
        "df"
      ],
      "metadata": {
        "id": "lL_7V18zFKzh"
      },
      "execution_count": null,
      "outputs": []
    },
    {
      "cell_type": "markdown",
      "source": [
        "### Joing the tokens of all the documents in a class together in a list"
      ],
      "metadata": {
        "id": "PcV-GEBSZYtB"
      }
    },
    {
      "cell_type": "code",
      "source": [
        "li=[]\n",
        "for i in range(len(df_fin)) :\n",
        "  flat = []\n",
        "  j=0\n",
        "  for sublist in df_fin.loc[i, \"_file\"]:\n",
        "      if j==0:\n",
        "        print(sublist.split())\n",
        "      # print(sublist)\n",
        "      for w in sublist.split():\n",
        "        flat.append(w)\n",
        "      # for item in sublist:\n",
        "      #     flat.append(item)\n",
        "      j+=1\n",
        "  li.append(flat)\n",
        "df_fin['terms'] = li\n",
        "df_fin.drop(['_file'],axis=1,inplace=True)"
      ],
      "metadata": {
        "id": "5gEd6xekJ8ox",
        "colab": {
          "base_uri": "https://localhost:8080/"
        },
        "outputId": "57edf33b-f274-489a-82f9-291101e8a082"
      },
      "execution_count": null,
      "outputs": [
        {
          "output_type": "stream",
          "name": "stdout",
          "text": [
            "['xref', 'cantaloupe', 'srv', 'cmu', 'edu', 'comp', 'graphics', 'comp', 'graphics', 'animation', 'newsgroups', 'comp', 'graphics', 'comp', 'graphics', 'animation', 'path', 'cantaloupe', 'srv', 'cmu', 'edu', 'das', 'news', 'harvard', 'edu', 'noc', 'near', 'net', 'howland', 'reston', 'ans', 'net', 'usc', 'utexas', 'edu', 'utnut', 'utgpu', 'utcsri', 'newsflash', 'concordia', 'cumin', 'telecom', 'uqam', 'umontreal', 'kardank', 'kardank', 'ere', 'umontreal', 'kardan', 'kaveh', 'subject', 'human', 'head', 'modeling', 'software', 'message', 'apr', 'umontreal', 'sender', 'news', 'umontreal', 'administration', 'cnews', 'organization', 'universite', 'montreal', 'references', 'apr', 'worak', 'kaist', 'wbp', 'taurus', 'nps', 'navy', 'mil', 'date', 'wed', 'apr', 'gmt', 'lines', 'article', 'wbp', 'taurus', 'nps', 'navy', 'mil', 'adaptive', 'nps', 'navy', 'mil', 'zyda', 'res', 'acct', 'writes', 'interested', 'facial', 'animation', 'want', 'implement', 'program', 'area', 'information', 'face', 'looking', 'images', 'face', 'try', 'getting', 'cyberware', 'demo', 'via', 'ftp', 'contains', 'images', 'face', 'copyright', 'status', 'data', 'restrictions', 'regarding', 'uses', 'put', 'kaveh', 'kaveh', 'kardan', 'kardank', 'ere', 'umontreal']\n",
            "['newsgroups', 'rec', 'sport', 'hockey', 'path', 'cantaloupe', 'srv', 'cmu', 'edu', 'crabapple', 'srv', 'cmu', 'edu', 'andrew', 'cmu', 'edu', 'news', 'sei', 'cmu', 'edu', 'cis', 'ohio', 'state', 'edu', 'zaphod', 'mps', 'ohio', 'state', 'edu', 'utexas', 'edu', 'usc', 'howland', 'reston', 'ans', 'net', 'agate', 'ames', 'lll', 'winken', 'llnl', 'gov', 'taurus', 'nps', 'navy', 'mil', 'galvint', 'galvint', 'nps', 'navy', 'mil', 'thomas', 'galvin', 'subject', 'camera', 'work', 'televised', 'games', 'message', 'wcl', 'taurus', 'nps', 'navy', 'mil', 'sender', 'news', 'taurus', 'nps', 'navy', 'mil', 'organization', 'naval', 'postgraduate', 'school', 'monterey', 'references', 'apr', 'vax', 'cit', 'cornell', 'edu', 'distribution', 'rec', 'date', 'thu', 'apr', 'gmt', 'lines', 'article', 'apr', 'vax', 'cit', 'cornell', 'edu', 'yecx', 'vax', 'cit', 'cornell', 'edu', 'writes', 'camera', 'work', 'games', 'really', 'sad', 'remember', 'many', 'times', 'penguins', 'devils', 'game', 'showed', 'guy', 'without', 'puck', 'checked', 'corner', 'puck', 'fired', 'goal', 'fact', 'think', 'even', 'missed', 'one', 'goal', 'completely', 'showing', 'two', 'guys', 'holding', 'corner', 'last', 'time', 'watched', 'football', 'game', 'show', 'lineman', 'going', 'running', 'back', 'turned', 'corner', 'touchdown', 'greg', 'espn', 'trying', 'various', 'things', 'get', 'away', 'follow', 'puck', 'concept', 'televising', 'hockey', 'games', 'one', 'main', 'problems', 'hockey', 'difficult', 'show', 'everything', 'going', 'happens', 'away', 'puck', 'sport', 'except', 'maybe', 'football', 'iso', 'football', 'players', 'shown', 'plays', 'problem', 'course', 'sometimes', 'get', 'something', 'worthwhile', 'times', 'get', 'burned', 'tom', 'galvin', 'galvint', 'taurus', 'nps', 'navy', 'mil']\n",
            "['xref', 'cantaloupe', 'srv', 'cmu', 'edu', 'alt', 'comp', 'graphics', 'visualization', 'comp', 'graphics', 'sci', 'med', 'newsgroups', 'alt', 'comp', 'graphics', 'visualization', 'comp', 'graphics', 'sci', 'med', 'path', 'cantaloupe', 'srv', 'cmu', 'edu', 'magnesium', 'club', 'cmu', 'edu', 'news', 'sei', 'cmu', 'edu', 'cis', 'ohio', 'state', 'edu', 'pacific', 'mps', 'ohio', 'state', 'edu', 'zaphod', 'mps', 'ohio', 'state', 'edu', 'uwm', 'edu', 'lll', 'winken', 'llnl', 'gov', 'taurus', 'nps', 'navy', 'mil', 'adaptive', 'adaptive', 'nps', 'navy', 'mil', 'zyda', 'res', 'acct', 'subject', 'data', 'skull', 'message', 'vyl', 'taurus', 'nps', 'navy', 'mil', 'sender', 'news', 'taurus', 'nps', 'navy', 'mil', 'organization', 'naval', 'postgraduate', 'school', 'monterey', 'references', 'apr', 'shannon', 'wits', 'date', 'tue', 'apr', 'gmt', 'lines', 'trying', 'develop', 'image', 'reconstruction', 'simulation', 'skull', 'problem', 'obtain', 'data', 'skull', 'video', 'rotating', 'skull', 'give', 'dimensions', 'anyone', 'got', 'suggestions', 'yup', 'get', 'skull', 'contained', 'cyberware', 'demo', 'following', 'location', 'order', 'get', 'cyberware', 'demo', 'via', 'ftp', 'following', 'ftp', 'taurus', 'nps', 'navy', 'mil', 'login', 'anonymous', 'guest', 'password', 'pub', 'dabro', 'binary', 'get', 'cyberware', 'demo', 'tar', 'get', 'demo', 'onto', 'workstation', 'uncompress', 'cyberware', 'demo', 'tar', 'tar', 'xvof', 'cyberware', 'demo', 'tar', 'skull', 'data', 'called', 'phred', 'resides', 'data', 'directory', 'george', 'dabro', 'dabro', 'taurus', 'nps', 'navy', 'mil', 'george', 'dabrowski', 'cyberware', 'labs', 'dabro', 'taurus', 'nps', 'navy', 'mil']\n",
            "['xref', 'cantaloupe', 'srv', 'cmu', 'edu', 'sci', 'astro', 'sci', 'space', 'path', 'cantaloupe', 'srv', 'cmu', 'edu', 'das', 'news', 'harvard', 'edu', 'ogicse', 'uwm', 'edu', 'utexas', 'edu', 'csc', 'com', 'tilde', 'csc', 'com', 'mksol', 'mccall', 'mccall', 'mksol', 'dseg', 'com', 'fred', 'mccall', 'newsgroups', 'sci', 'astro', 'sci', 'space', 'subject', 'vandalizing', 'sky', 'message', 'apr', 'mksol', 'dseg', 'com', 'date', 'apr', 'gmt', 'article', 'mksol', 'apr', 'references', 'research', 'canon', 'tvl', 'hermes', 'hrz', 'uni', 'bielefeld', 'organization', 'texas', 'instruments', 'inc', 'lines', 'tvl', 'hermes', 'hrz', 'uni', 'bielefeld', 'hoover', 'mathematik', 'uni', 'bielefeld', 'uwe', 'schuerkamp', 'writes', 'article', 'research', 'canon', 'enzo', 'research', 'canon', 'enzo', 'liguori', 'writes', 'hideous', 'vision', 'future', 'observers', 'startled', 'spring', 'nasa', 'launch', 'vehicle', 'arrived', 'pad', 'schwarzenegger', 'painted', 'huge', 'block', 'letters', 'opinion', 'long', 'stuff', 'returns', 'earth', 'think', 'revolting', 'hideous', 'attempt', 'vandalize', 'night', 'sky', 'even', 'april', 'anymore', 'turns', 'true', 'time', 'get', 'seriously', 'active', 'terrorism', 'unbelievable', 'people', 'think', 'selling', 'every', 'bit', 'promises', 'make', 'money', 'well', 'guess', 'left', 'wondering', 'light', 'fascists', 'think', 'yes', 'understand', 'issues', 'even', 'particularly', 'care', 'idea', 'one', 'finds', 'sort', 'overreaction', 'little', 'questionable', 'must', 'find', 'things', 'like', 'moon', 'really', 'obnoxious', 'pollution', 'questions', 'frothing', 'mouth', 'ask', 'long', 'thing', 'supposed', 'stay', 'sounds', 'like', 'would', 'huge', 'drag', 'area', 'lot', 'mass', 'fairly', 'low', 'orbit', 'orbital', 'parameters', 'talking', 'real', 'impact', 'talking', 'really', 'many', 'optical', 'astronomers', 'really', 'going', 'impacted', 'important', 'adding', 'extra', 'days', 'seeing', 'optical', 'astronomers', 'getting', 'data', 'sensors', 'supposed', 'return', 'along', 'data', 'large', 'inflatables', 'potential', 'inflatable', 'space', 'station', 'choice', 'would', 'seem', 'one', 'since', 'advertising', 'used', 'help', 'fund', 'thing', 'answer', 'astronomers', 'feel', 'free', 'come', 'way', 'fund', 'mind', 'important', 'research', 'data', 'would', 'gained', 'without', 'spending', 'money', 'words', 'put', 'shut', 'guess', 'really', 'deserve', 'wiped', 'radiation', 'folks', 'stupidity', 'wins', 'guess', 'true', 'pure', 'numbers', 'probably', 'sure', 'agree', 'stupid', 'another', 'depressed', 'planetary', 'citizen', 'hoover', 'yeah', 'insisting', 'perfect', 'safety', 'people', 'balls', 'live', 'real', 'world', 'mary', 'shafer', 'nasa', 'ames', 'dryden', 'fred', 'mccall', 'dseg', 'com', 'speak', 'others', 'speak']\n",
            "['xref', 'cantaloupe', 'srv', 'cmu', 'edu', 'talk', 'abortion', 'talk', 'politics', 'misc', 'talk', 'religion', 'misc', 'newsgroups', 'talk', 'abortion', 'talk', 'politics', 'misc', 'talk', 'religion', 'misc', 'path', 'cantaloupe', 'srv', 'cmu', 'edu', 'crabapple', 'srv', 'cmu', 'edu', 'ece', 'cmu', 'edu', 'europa', 'eng', 'gtefsd', 'com', 'howland', 'reston', 'ans', 'net', 'wupost', 'csus', 'edu', 'netcom', 'com', 'ray', 'ray', 'netcom', 'com', 'ray', 'fischer', 'subject', 'abortion', 'private', 'health', 'coverage', 'letters', 'regarding', 'message', 'rayc', 'jclz', 'jni', 'netcom', 'com', 'organization', 'netcom', 'san', 'jose', 'california', 'references', 'qid', 'agate', 'berkeley', 'edu', 'idkn', 'mmt', 'watson', 'ibm', 'com', 'qjt', 'agate', 'berkeley', 'edu', 'date', 'thu', 'apr', 'gmt', 'lines', 'dzkriz', 'ocf', 'berkeley', 'edu', 'dennis', 'kriz', 'writes', 'one', 'pays', 'insurance', 'pay', 'coverage', 'one', 'expects', 'fears', 'one', 'might', 'need', 'one', 'opposed', 'abortion', 'one', 'required', 'pay', 'coverage', 'one', 'never', 'want', 'use', 'service', 'neither', 'person', 'compelled', 'pay', 'people', 'abortions', 'particularly', 'one', 'sincerely', 'believes', 'abortion', 'murder', 'overriding', 'concern', 'morality', 'fact', 'men', 'dennis', 'man', 'name', 'get', 'abortions', 'thus', 'unreasonable', 'suppose', 'insurance', 'premiums', 'used', 'possibility', 'getting', 'abortion', 'looks', 'like', 'really', 'objecting', 'people', 'paying', 'money', 'possibility', 'might', 'need', 'get', 'abortion', 'ray', 'fischer', 'convictions', 'dangerous', 'enemies', 'truth', 'ray', 'netcom', 'com', 'lies', 'friedrich', 'nietzsch']\n"
          ]
        }
      ]
    },
    {
      "cell_type": "code",
      "source": [
        "df_fin"
      ],
      "metadata": {
        "colab": {
          "base_uri": "https://localhost:8080/",
          "height": 206
        },
        "id": "Q_3Ni8HjA_Dc",
        "outputId": "9c089be5-8c45-4b49-864f-d7496f7cc617"
      },
      "execution_count": null,
      "outputs": [
        {
          "output_type": "execute_result",
          "data": {
            "text/plain": [
              "                label                                              terms\n",
              "0       comp.graphics  [newsgroups, comp, graphics, path, cantaloupe,...\n",
              "1    rec.sport.hockey  [newsgroups, rec, sport, hockey, path, cantalo...\n",
              "2             sci.med  [newsgroups, sci, med, path, cantaloupe, srv, ...\n",
              "3           sci.space  [path, cantaloupe, srv, cmu, edu, magnesium, c...\n",
              "4  talk.politics.misc  [xref, cantaloupe, srv, cmu, edu, talk, aborti..."
            ],
            "text/html": [
              "\n",
              "  <div id=\"df-2c2dc6ff-c250-422c-90d9-d46cb5072a86\">\n",
              "    <div class=\"colab-df-container\">\n",
              "      <div>\n",
              "<style scoped>\n",
              "    .dataframe tbody tr th:only-of-type {\n",
              "        vertical-align: middle;\n",
              "    }\n",
              "\n",
              "    .dataframe tbody tr th {\n",
              "        vertical-align: top;\n",
              "    }\n",
              "\n",
              "    .dataframe thead th {\n",
              "        text-align: right;\n",
              "    }\n",
              "</style>\n",
              "<table border=\"1\" class=\"dataframe\">\n",
              "  <thead>\n",
              "    <tr style=\"text-align: right;\">\n",
              "      <th></th>\n",
              "      <th>label</th>\n",
              "      <th>terms</th>\n",
              "    </tr>\n",
              "  </thead>\n",
              "  <tbody>\n",
              "    <tr>\n",
              "      <th>0</th>\n",
              "      <td>comp.graphics</td>\n",
              "      <td>[newsgroups, comp, graphics, path, cantaloupe,...</td>\n",
              "    </tr>\n",
              "    <tr>\n",
              "      <th>1</th>\n",
              "      <td>rec.sport.hockey</td>\n",
              "      <td>[newsgroups, rec, sport, hockey, path, cantalo...</td>\n",
              "    </tr>\n",
              "    <tr>\n",
              "      <th>2</th>\n",
              "      <td>sci.med</td>\n",
              "      <td>[newsgroups, sci, med, path, cantaloupe, srv, ...</td>\n",
              "    </tr>\n",
              "    <tr>\n",
              "      <th>3</th>\n",
              "      <td>sci.space</td>\n",
              "      <td>[path, cantaloupe, srv, cmu, edu, magnesium, c...</td>\n",
              "    </tr>\n",
              "    <tr>\n",
              "      <th>4</th>\n",
              "      <td>talk.politics.misc</td>\n",
              "      <td>[xref, cantaloupe, srv, cmu, edu, talk, aborti...</td>\n",
              "    </tr>\n",
              "  </tbody>\n",
              "</table>\n",
              "</div>\n",
              "      <button class=\"colab-df-convert\" onclick=\"convertToInteractive('df-2c2dc6ff-c250-422c-90d9-d46cb5072a86')\"\n",
              "              title=\"Convert this dataframe to an interactive table.\"\n",
              "              style=\"display:none;\">\n",
              "        \n",
              "  <svg xmlns=\"http://www.w3.org/2000/svg\" height=\"24px\"viewBox=\"0 0 24 24\"\n",
              "       width=\"24px\">\n",
              "    <path d=\"M0 0h24v24H0V0z\" fill=\"none\"/>\n",
              "    <path d=\"M18.56 5.44l.94 2.06.94-2.06 2.06-.94-2.06-.94-.94-2.06-.94 2.06-2.06.94zm-11 1L8.5 8.5l.94-2.06 2.06-.94-2.06-.94L8.5 2.5l-.94 2.06-2.06.94zm10 10l.94 2.06.94-2.06 2.06-.94-2.06-.94-.94-2.06-.94 2.06-2.06.94z\"/><path d=\"M17.41 7.96l-1.37-1.37c-.4-.4-.92-.59-1.43-.59-.52 0-1.04.2-1.43.59L10.3 9.45l-7.72 7.72c-.78.78-.78 2.05 0 2.83L4 21.41c.39.39.9.59 1.41.59.51 0 1.02-.2 1.41-.59l7.78-7.78 2.81-2.81c.8-.78.8-2.07 0-2.86zM5.41 20L4 18.59l7.72-7.72 1.47 1.35L5.41 20z\"/>\n",
              "  </svg>\n",
              "      </button>\n",
              "      \n",
              "  <style>\n",
              "    .colab-df-container {\n",
              "      display:flex;\n",
              "      flex-wrap:wrap;\n",
              "      gap: 12px;\n",
              "    }\n",
              "\n",
              "    .colab-df-convert {\n",
              "      background-color: #E8F0FE;\n",
              "      border: none;\n",
              "      border-radius: 50%;\n",
              "      cursor: pointer;\n",
              "      display: none;\n",
              "      fill: #1967D2;\n",
              "      height: 32px;\n",
              "      padding: 0 0 0 0;\n",
              "      width: 32px;\n",
              "    }\n",
              "\n",
              "    .colab-df-convert:hover {\n",
              "      background-color: #E2EBFA;\n",
              "      box-shadow: 0px 1px 2px rgba(60, 64, 67, 0.3), 0px 1px 3px 1px rgba(60, 64, 67, 0.15);\n",
              "      fill: #174EA6;\n",
              "    }\n",
              "\n",
              "    [theme=dark] .colab-df-convert {\n",
              "      background-color: #3B4455;\n",
              "      fill: #D2E3FC;\n",
              "    }\n",
              "\n",
              "    [theme=dark] .colab-df-convert:hover {\n",
              "      background-color: #434B5C;\n",
              "      box-shadow: 0px 1px 3px 1px rgba(0, 0, 0, 0.15);\n",
              "      filter: drop-shadow(0px 1px 2px rgba(0, 0, 0, 0.3));\n",
              "      fill: #FFFFFF;\n",
              "    }\n",
              "  </style>\n",
              "\n",
              "      <script>\n",
              "        const buttonEl =\n",
              "          document.querySelector('#df-2c2dc6ff-c250-422c-90d9-d46cb5072a86 button.colab-df-convert');\n",
              "        buttonEl.style.display =\n",
              "          google.colab.kernel.accessAllowed ? 'block' : 'none';\n",
              "\n",
              "        async function convertToInteractive(key) {\n",
              "          const element = document.querySelector('#df-2c2dc6ff-c250-422c-90d9-d46cb5072a86');\n",
              "          const dataTable =\n",
              "            await google.colab.kernel.invokeFunction('convertToInteractive',\n",
              "                                                     [key], {});\n",
              "          if (!dataTable) return;\n",
              "\n",
              "          const docLinkHtml = 'Like what you see? Visit the ' +\n",
              "            '<a target=\"_blank\" href=https://colab.research.google.com/notebooks/data_table.ipynb>data table notebook</a>'\n",
              "            + ' to learn more about interactive tables.';\n",
              "          element.innerHTML = '';\n",
              "          dataTable['output_type'] = 'display_data';\n",
              "          await google.colab.output.renderOutput(dataTable, element);\n",
              "          const docLink = document.createElement('div');\n",
              "          docLink.innerHTML = docLinkHtml;\n",
              "          element.appendChild(docLink);\n",
              "        }\n",
              "      </script>\n",
              "    </div>\n",
              "  </div>\n",
              "  "
            ]
          },
          "metadata": {},
          "execution_count": 75
        }
      ]
    },
    {
      "cell_type": "markdown",
      "source": [
        "### Finding term frequency in each class"
      ],
      "metadata": {
        "id": "RmBLpChJZ_1I"
      }
    },
    {
      "cell_type": "code",
      "source": [
        "temp_list=[]\n",
        "temp_list2=[]\n",
        "for i in range(len(df_fin)) :\n",
        "  frq_list={}\n",
        "  for word in df_fin.loc[i, \"terms\"]:\n",
        "      if word not in frq_list.keys():\n",
        "        frq_list[word]=1\n",
        "      else:\n",
        "        frq_list[word]+=1\n",
        "  frq_list=dict( sorted(frq_list.items(), key=lambda x:(x[1], x[0]),reverse=True))\n",
        "  temp_list2.append(frq_list)"
      ],
      "metadata": {
        "id": "3AIdMYhCKpLe"
      },
      "execution_count": null,
      "outputs": []
    },
    {
      "cell_type": "code",
      "source": [
        "temp_list=df_fin['terms']\n",
        "df_fin['attri'] = temp_list\n",
        "df_fin['term_frq'] = temp_list2\n",
        "df_fin.index=df_fin[\"label\"]"
      ],
      "metadata": {
        "id": "vJZBhErGKwk2"
      },
      "execution_count": null,
      "outputs": []
    },
    {
      "cell_type": "code",
      "source": [
        "df_fin"
      ],
      "metadata": {
        "colab": {
          "base_uri": "https://localhost:8080/",
          "height": 368
        },
        "id": "teS3mFwhBmw9",
        "outputId": "878fe1d3-b3fe-4c10-8f96-caf6c457d2bb"
      },
      "execution_count": null,
      "outputs": [
        {
          "output_type": "execute_result",
          "data": {
            "text/plain": [
              "                                 label  \\\n",
              "label                                    \n",
              "comp.graphics            comp.graphics   \n",
              "rec.sport.hockey      rec.sport.hockey   \n",
              "sci.med                        sci.med   \n",
              "sci.space                    sci.space   \n",
              "talk.politics.misc  talk.politics.misc   \n",
              "\n",
              "                                                                terms  \\\n",
              "label                                                                   \n",
              "comp.graphics       [xref, cantaloupe, srv, cmu, edu, comp, graphi...   \n",
              "rec.sport.hockey    [newsgroups, rec, sport, hockey, path, cantalo...   \n",
              "sci.med             [xref, cantaloupe, srv, cmu, edu, alt, comp, g...   \n",
              "sci.space           [xref, cantaloupe, srv, cmu, edu, sci, astro, ...   \n",
              "talk.politics.misc  [xref, cantaloupe, srv, cmu, edu, talk, aborti...   \n",
              "\n",
              "                                                                attri  \\\n",
              "label                                                                   \n",
              "comp.graphics       [xref, cantaloupe, srv, cmu, edu, comp, graphi...   \n",
              "rec.sport.hockey    [newsgroups, rec, sport, hockey, path, cantalo...   \n",
              "sci.med             [xref, cantaloupe, srv, cmu, edu, alt, comp, g...   \n",
              "sci.space           [xref, cantaloupe, srv, cmu, edu, sci, astro, ...   \n",
              "talk.politics.misc  [xref, cantaloupe, srv, cmu, edu, talk, aborti...   \n",
              "\n",
              "                                                             term_frq  \n",
              "label                                                                  \n",
              "comp.graphics       {'edu': 6078, 'graphics': 2394, 'cmu': 2080, '...  \n",
              "rec.sport.hockey    {'edu': 5775, 'cmu': 1909, 'apr': 1872, 'hocke...  \n",
              "sci.med             {'edu': 6544, 'com': 2106, 'cmu': 2068, 'sci':...  \n",
              "sci.space           {'edu': 6920, 'space': 2925, 'cmu': 2301, 'sci...  \n",
              "talk.politics.misc  {'edu': 7336, 'com': 2946, 'cmu': 2444, 'polit...  "
            ],
            "text/html": [
              "\n",
              "  <div id=\"df-5d6ce31f-1d2f-4a9f-befd-04c281f578c0\">\n",
              "    <div class=\"colab-df-container\">\n",
              "      <div>\n",
              "<style scoped>\n",
              "    .dataframe tbody tr th:only-of-type {\n",
              "        vertical-align: middle;\n",
              "    }\n",
              "\n",
              "    .dataframe tbody tr th {\n",
              "        vertical-align: top;\n",
              "    }\n",
              "\n",
              "    .dataframe thead th {\n",
              "        text-align: right;\n",
              "    }\n",
              "</style>\n",
              "<table border=\"1\" class=\"dataframe\">\n",
              "  <thead>\n",
              "    <tr style=\"text-align: right;\">\n",
              "      <th></th>\n",
              "      <th>label</th>\n",
              "      <th>terms</th>\n",
              "      <th>attri</th>\n",
              "      <th>term_frq</th>\n",
              "    </tr>\n",
              "    <tr>\n",
              "      <th>label</th>\n",
              "      <th></th>\n",
              "      <th></th>\n",
              "      <th></th>\n",
              "      <th></th>\n",
              "    </tr>\n",
              "  </thead>\n",
              "  <tbody>\n",
              "    <tr>\n",
              "      <th>comp.graphics</th>\n",
              "      <td>comp.graphics</td>\n",
              "      <td>[xref, cantaloupe, srv, cmu, edu, comp, graphi...</td>\n",
              "      <td>[xref, cantaloupe, srv, cmu, edu, comp, graphi...</td>\n",
              "      <td>{'edu': 6078, 'graphics': 2394, 'cmu': 2080, '...</td>\n",
              "    </tr>\n",
              "    <tr>\n",
              "      <th>rec.sport.hockey</th>\n",
              "      <td>rec.sport.hockey</td>\n",
              "      <td>[newsgroups, rec, sport, hockey, path, cantalo...</td>\n",
              "      <td>[newsgroups, rec, sport, hockey, path, cantalo...</td>\n",
              "      <td>{'edu': 5775, 'cmu': 1909, 'apr': 1872, 'hocke...</td>\n",
              "    </tr>\n",
              "    <tr>\n",
              "      <th>sci.med</th>\n",
              "      <td>sci.med</td>\n",
              "      <td>[xref, cantaloupe, srv, cmu, edu, alt, comp, g...</td>\n",
              "      <td>[xref, cantaloupe, srv, cmu, edu, alt, comp, g...</td>\n",
              "      <td>{'edu': 6544, 'com': 2106, 'cmu': 2068, 'sci':...</td>\n",
              "    </tr>\n",
              "    <tr>\n",
              "      <th>sci.space</th>\n",
              "      <td>sci.space</td>\n",
              "      <td>[xref, cantaloupe, srv, cmu, edu, sci, astro, ...</td>\n",
              "      <td>[xref, cantaloupe, srv, cmu, edu, sci, astro, ...</td>\n",
              "      <td>{'edu': 6920, 'space': 2925, 'cmu': 2301, 'sci...</td>\n",
              "    </tr>\n",
              "    <tr>\n",
              "      <th>talk.politics.misc</th>\n",
              "      <td>talk.politics.misc</td>\n",
              "      <td>[xref, cantaloupe, srv, cmu, edu, talk, aborti...</td>\n",
              "      <td>[xref, cantaloupe, srv, cmu, edu, talk, aborti...</td>\n",
              "      <td>{'edu': 7336, 'com': 2946, 'cmu': 2444, 'polit...</td>\n",
              "    </tr>\n",
              "  </tbody>\n",
              "</table>\n",
              "</div>\n",
              "      <button class=\"colab-df-convert\" onclick=\"convertToInteractive('df-5d6ce31f-1d2f-4a9f-befd-04c281f578c0')\"\n",
              "              title=\"Convert this dataframe to an interactive table.\"\n",
              "              style=\"display:none;\">\n",
              "        \n",
              "  <svg xmlns=\"http://www.w3.org/2000/svg\" height=\"24px\"viewBox=\"0 0 24 24\"\n",
              "       width=\"24px\">\n",
              "    <path d=\"M0 0h24v24H0V0z\" fill=\"none\"/>\n",
              "    <path d=\"M18.56 5.44l.94 2.06.94-2.06 2.06-.94-2.06-.94-.94-2.06-.94 2.06-2.06.94zm-11 1L8.5 8.5l.94-2.06 2.06-.94-2.06-.94L8.5 2.5l-.94 2.06-2.06.94zm10 10l.94 2.06.94-2.06 2.06-.94-2.06-.94-.94-2.06-.94 2.06-2.06.94z\"/><path d=\"M17.41 7.96l-1.37-1.37c-.4-.4-.92-.59-1.43-.59-.52 0-1.04.2-1.43.59L10.3 9.45l-7.72 7.72c-.78.78-.78 2.05 0 2.83L4 21.41c.39.39.9.59 1.41.59.51 0 1.02-.2 1.41-.59l7.78-7.78 2.81-2.81c.8-.78.8-2.07 0-2.86zM5.41 20L4 18.59l7.72-7.72 1.47 1.35L5.41 20z\"/>\n",
              "  </svg>\n",
              "      </button>\n",
              "      \n",
              "  <style>\n",
              "    .colab-df-container {\n",
              "      display:flex;\n",
              "      flex-wrap:wrap;\n",
              "      gap: 12px;\n",
              "    }\n",
              "\n",
              "    .colab-df-convert {\n",
              "      background-color: #E8F0FE;\n",
              "      border: none;\n",
              "      border-radius: 50%;\n",
              "      cursor: pointer;\n",
              "      display: none;\n",
              "      fill: #1967D2;\n",
              "      height: 32px;\n",
              "      padding: 0 0 0 0;\n",
              "      width: 32px;\n",
              "    }\n",
              "\n",
              "    .colab-df-convert:hover {\n",
              "      background-color: #E2EBFA;\n",
              "      box-shadow: 0px 1px 2px rgba(60, 64, 67, 0.3), 0px 1px 3px 1px rgba(60, 64, 67, 0.15);\n",
              "      fill: #174EA6;\n",
              "    }\n",
              "\n",
              "    [theme=dark] .colab-df-convert {\n",
              "      background-color: #3B4455;\n",
              "      fill: #D2E3FC;\n",
              "    }\n",
              "\n",
              "    [theme=dark] .colab-df-convert:hover {\n",
              "      background-color: #434B5C;\n",
              "      box-shadow: 0px 1px 3px 1px rgba(0, 0, 0, 0.15);\n",
              "      filter: drop-shadow(0px 1px 2px rgba(0, 0, 0, 0.3));\n",
              "      fill: #FFFFFF;\n",
              "    }\n",
              "  </style>\n",
              "\n",
              "      <script>\n",
              "        const buttonEl =\n",
              "          document.querySelector('#df-5d6ce31f-1d2f-4a9f-befd-04c281f578c0 button.colab-df-convert');\n",
              "        buttonEl.style.display =\n",
              "          google.colab.kernel.accessAllowed ? 'block' : 'none';\n",
              "\n",
              "        async function convertToInteractive(key) {\n",
              "          const element = document.querySelector('#df-5d6ce31f-1d2f-4a9f-befd-04c281f578c0');\n",
              "          const dataTable =\n",
              "            await google.colab.kernel.invokeFunction('convertToInteractive',\n",
              "                                                     [key], {});\n",
              "          if (!dataTable) return;\n",
              "\n",
              "          const docLinkHtml = 'Like what you see? Visit the ' +\n",
              "            '<a target=\"_blank\" href=https://colab.research.google.com/notebooks/data_table.ipynb>data table notebook</a>'\n",
              "            + ' to learn more about interactive tables.';\n",
              "          element.innerHTML = '';\n",
              "          dataTable['output_type'] = 'display_data';\n",
              "          await google.colab.output.renderOutput(dataTable, element);\n",
              "          const docLink = document.createElement('div');\n",
              "          docLink.innerHTML = docLinkHtml;\n",
              "          element.appendChild(docLink);\n",
              "        }\n",
              "      </script>\n",
              "    </div>\n",
              "  </div>\n",
              "  "
            ]
          },
          "metadata": {},
          "execution_count": 164
        }
      ]
    },
    {
      "cell_type": "code",
      "source": [
        "y"
      ],
      "metadata": {
        "colab": {
          "base_uri": "https://localhost:8080/"
        },
        "id": "_vpKiqxoKDrB",
        "outputId": "c8771892-d1c1-4ea9-f917-4b4404ca320c"
      },
      "execution_count": null,
      "outputs": [
        {
          "output_type": "execute_result",
          "data": {
            "text/plain": [
              "0      comp.graphics\n",
              "1      comp.graphics\n",
              "2      comp.graphics\n",
              "3      comp.graphics\n",
              "4      comp.graphics\n",
              "           ...      \n",
              "994        sci.space\n",
              "995        sci.space\n",
              "996        sci.space\n",
              "997        sci.space\n",
              "998        sci.space\n",
              "Name: label, Length: 4995, dtype: object"
            ]
          },
          "metadata": {},
          "execution_count": 90
        }
      ]
    },
    {
      "cell_type": "code",
      "source": [
        "labels=y.unique()"
      ],
      "metadata": {
        "id": "9iJ6qBvO57e1"
      },
      "execution_count": null,
      "outputs": []
    },
    {
      "cell_type": "code",
      "source": [
        ""
      ],
      "metadata": {
        "id": "LqVHO-KtBrBS"
      },
      "execution_count": null,
      "outputs": []
    },
    {
      "cell_type": "code",
      "source": [
        "attributes=[]\n",
        "for index,row in df_fin.iterrows():\n",
        "  attributes.extend(row[\"attri\"])\n",
        "attributes=np.unique(attributes)"
      ],
      "metadata": {
        "id": "j1oIcV5T57QH"
      },
      "execution_count": null,
      "outputs": []
    },
    {
      "cell_type": "markdown",
      "source": [
        "Term Frequency"
      ],
      "metadata": {
        "id": "E3moa8sP5dYF"
      }
    },
    {
      "cell_type": "code",
      "source": [
        "tf=pd.DataFrame(columns=attributes)\n",
        "for x in labels:\n",
        "  for y in attributes:\n",
        "    if y in df_fin.loc[x].term_frq.keys():\n",
        "      tf.at[x,y]=df_fin.loc[x].term_frq[y]\n",
        "tf=tf.fillna(0)"
      ],
      "metadata": {
        "id": "_FGyvl3n5cLP"
      },
      "execution_count": null,
      "outputs": []
    },
    {
      "cell_type": "markdown",
      "source": [
        "Inverse Class Frequency "
      ],
      "metadata": {
        "id": "bsMG0u1wFrPs"
      }
    },
    {
      "cell_type": "code",
      "source": [
        "icf_list=[]\n",
        "for c in tf.columns:\n",
        "  temp=0\n",
        "  for index,row in tf.iterrows():\n",
        "    if row[c]!=0:\n",
        "      temp+=1\n",
        "  icf_list.append(math.log(len(labels)/temp))"
      ],
      "metadata": {
        "id": "wvsf7Rmiqx1o"
      },
      "execution_count": null,
      "outputs": []
    },
    {
      "cell_type": "code",
      "source": [
        "i=0\n",
        "for j in tf.columns:\n",
        "  tf[j]=tf[j]*icf_list[i]\n",
        "  i=i+1"
      ],
      "metadata": {
        "id": "mBxMlVvgHiWu"
      },
      "execution_count": null,
      "outputs": []
    },
    {
      "cell_type": "code",
      "source": [
        "tf_icf=tf.to_numpy()\n",
        "tf_icf_df=pd.DataFrame(tf_icf)\n",
        "tf_icf_df.to_csv('file.csv')"
      ],
      "metadata": {
        "id": "dZbeB0ORH1-j"
      },
      "execution_count": null,
      "outputs": []
    },
    {
      "cell_type": "code",
      "source": [
        "tf"
      ],
      "metadata": {
        "colab": {
          "base_uri": "https://localhost:8080/",
          "height": 299
        },
        "id": "82jUXunkzLad",
        "outputId": "c9ac1c71-6b02-4938-fefe-0f1d6ed33daf"
      },
      "execution_count": null,
      "outputs": [
        {
          "output_type": "execute_result",
          "data": {
            "text/plain": [
              "                        aaa      aaaa  \\\n",
              "comp.graphics       0.00000  5.180581   \n",
              "sci.med             0.00000  0.000000   \n",
              "talk.politics.misc  2.59029  0.000000   \n",
              "rec.sport.hockey    0.00000  0.000000   \n",
              "sci.space           0.00000  0.000000   \n",
              "\n",
              "                    aaaaaaaaaaaaaaaaaaaaaaaaaaaaaaauuuuuuuuuuuuuuuuuuuuuuuuuuuuuuuugggggggggggggggg  \\\n",
              "comp.graphics                                                 0.00000                                 \n",
              "sci.med                                                       0.00000                                 \n",
              "talk.politics.misc                                            0.00000                                 \n",
              "rec.sport.hockey                                              2.59029                                 \n",
              "sci.space                                                     0.00000                                 \n",
              "\n",
              "                    aaaaagggghhhh   aaaall  aaaggghhh      aaai  \\\n",
              "comp.graphics             0.00000  0.00000    0.00000  0.000000   \n",
              "sci.med                   0.00000  0.00000    0.00000  7.770871   \n",
              "talk.politics.misc        2.59029  2.59029    0.00000  0.000000   \n",
              "rec.sport.hockey          0.00000  0.00000    2.59029  0.000000   \n",
              "sci.space                 0.00000  0.00000    0.00000  0.000000   \n",
              "\n",
              "                    aaauuugggghhhhh     aacs        aad  ...       zxa  \\\n",
              "comp.graphics               2.59029  0.00000  10.361162  ...  0.000000   \n",
              "sci.med                     0.00000  0.00000   0.000000  ...  0.000000   \n",
              "talk.politics.misc          0.00000  0.00000   0.000000  ...  0.000000   \n",
              "rec.sport.hockey            0.00000  0.00000   0.000000  ...  0.000000   \n",
              "sci.space                   0.00000  2.59029   0.000000  ...  5.180581   \n",
              "\n",
              "                       zxsn      zyb      zyda       zyeh     zygon      zyue  \\\n",
              "comp.graphics       0.00000  2.59029  5.037532  82.889293  0.000000  0.000000   \n",
              "sci.med             2.59029  0.00000  0.839589   0.000000  5.180581  0.000000   \n",
              "talk.politics.misc  0.00000  0.00000  0.000000   0.000000  0.000000  0.000000   \n",
              "rec.sport.hockey    0.00000  0.00000  0.000000   0.000000  0.000000  0.000000   \n",
              "sci.space           0.00000  0.00000  0.000000   0.000000  0.000000  5.180581   \n",
              "\n",
              "                        zyxel      zzz   zzzzzz  \n",
              "comp.graphics       10.361162  0.00000  0.00000  \n",
              "sci.med              0.000000  2.59029  0.00000  \n",
              "talk.politics.misc   0.000000  0.00000  0.00000  \n",
              "rec.sport.hockey     0.000000  0.00000  2.59029  \n",
              "sci.space            0.000000  0.00000  0.00000  \n",
              "\n",
              "[5 rows x 44747 columns]"
            ],
            "text/html": [
              "\n",
              "  <div id=\"df-3e625879-81db-48cc-919d-2f302000813c\">\n",
              "    <div class=\"colab-df-container\">\n",
              "      <div>\n",
              "<style scoped>\n",
              "    .dataframe tbody tr th:only-of-type {\n",
              "        vertical-align: middle;\n",
              "    }\n",
              "\n",
              "    .dataframe tbody tr th {\n",
              "        vertical-align: top;\n",
              "    }\n",
              "\n",
              "    .dataframe thead th {\n",
              "        text-align: right;\n",
              "    }\n",
              "</style>\n",
              "<table border=\"1\" class=\"dataframe\">\n",
              "  <thead>\n",
              "    <tr style=\"text-align: right;\">\n",
              "      <th></th>\n",
              "      <th>aaa</th>\n",
              "      <th>aaaa</th>\n",
              "      <th>aaaaaaaaaaaaaaaaaaaaaaaaaaaaaaauuuuuuuuuuuuuuuuuuuuuuuuuuuuuuuugggggggggggggggg</th>\n",
              "      <th>aaaaagggghhhh</th>\n",
              "      <th>aaaall</th>\n",
              "      <th>aaaggghhh</th>\n",
              "      <th>aaai</th>\n",
              "      <th>aaauuugggghhhhh</th>\n",
              "      <th>aacs</th>\n",
              "      <th>aad</th>\n",
              "      <th>...</th>\n",
              "      <th>zxa</th>\n",
              "      <th>zxsn</th>\n",
              "      <th>zyb</th>\n",
              "      <th>zyda</th>\n",
              "      <th>zyeh</th>\n",
              "      <th>zygon</th>\n",
              "      <th>zyue</th>\n",
              "      <th>zyxel</th>\n",
              "      <th>zzz</th>\n",
              "      <th>zzzzzz</th>\n",
              "    </tr>\n",
              "  </thead>\n",
              "  <tbody>\n",
              "    <tr>\n",
              "      <th>comp.graphics</th>\n",
              "      <td>0.00000</td>\n",
              "      <td>5.180581</td>\n",
              "      <td>0.00000</td>\n",
              "      <td>0.00000</td>\n",
              "      <td>0.00000</td>\n",
              "      <td>0.00000</td>\n",
              "      <td>0.000000</td>\n",
              "      <td>2.59029</td>\n",
              "      <td>0.00000</td>\n",
              "      <td>10.361162</td>\n",
              "      <td>...</td>\n",
              "      <td>0.000000</td>\n",
              "      <td>0.00000</td>\n",
              "      <td>2.59029</td>\n",
              "      <td>5.037532</td>\n",
              "      <td>82.889293</td>\n",
              "      <td>0.000000</td>\n",
              "      <td>0.000000</td>\n",
              "      <td>10.361162</td>\n",
              "      <td>0.00000</td>\n",
              "      <td>0.00000</td>\n",
              "    </tr>\n",
              "    <tr>\n",
              "      <th>sci.med</th>\n",
              "      <td>0.00000</td>\n",
              "      <td>0.000000</td>\n",
              "      <td>0.00000</td>\n",
              "      <td>0.00000</td>\n",
              "      <td>0.00000</td>\n",
              "      <td>0.00000</td>\n",
              "      <td>7.770871</td>\n",
              "      <td>0.00000</td>\n",
              "      <td>0.00000</td>\n",
              "      <td>0.000000</td>\n",
              "      <td>...</td>\n",
              "      <td>0.000000</td>\n",
              "      <td>2.59029</td>\n",
              "      <td>0.00000</td>\n",
              "      <td>0.839589</td>\n",
              "      <td>0.000000</td>\n",
              "      <td>5.180581</td>\n",
              "      <td>0.000000</td>\n",
              "      <td>0.000000</td>\n",
              "      <td>2.59029</td>\n",
              "      <td>0.00000</td>\n",
              "    </tr>\n",
              "    <tr>\n",
              "      <th>talk.politics.misc</th>\n",
              "      <td>2.59029</td>\n",
              "      <td>0.000000</td>\n",
              "      <td>0.00000</td>\n",
              "      <td>2.59029</td>\n",
              "      <td>2.59029</td>\n",
              "      <td>0.00000</td>\n",
              "      <td>0.000000</td>\n",
              "      <td>0.00000</td>\n",
              "      <td>0.00000</td>\n",
              "      <td>0.000000</td>\n",
              "      <td>...</td>\n",
              "      <td>0.000000</td>\n",
              "      <td>0.00000</td>\n",
              "      <td>0.00000</td>\n",
              "      <td>0.000000</td>\n",
              "      <td>0.000000</td>\n",
              "      <td>0.000000</td>\n",
              "      <td>0.000000</td>\n",
              "      <td>0.000000</td>\n",
              "      <td>0.00000</td>\n",
              "      <td>0.00000</td>\n",
              "    </tr>\n",
              "    <tr>\n",
              "      <th>rec.sport.hockey</th>\n",
              "      <td>0.00000</td>\n",
              "      <td>0.000000</td>\n",
              "      <td>2.59029</td>\n",
              "      <td>0.00000</td>\n",
              "      <td>0.00000</td>\n",
              "      <td>2.59029</td>\n",
              "      <td>0.000000</td>\n",
              "      <td>0.00000</td>\n",
              "      <td>0.00000</td>\n",
              "      <td>0.000000</td>\n",
              "      <td>...</td>\n",
              "      <td>0.000000</td>\n",
              "      <td>0.00000</td>\n",
              "      <td>0.00000</td>\n",
              "      <td>0.000000</td>\n",
              "      <td>0.000000</td>\n",
              "      <td>0.000000</td>\n",
              "      <td>0.000000</td>\n",
              "      <td>0.000000</td>\n",
              "      <td>0.00000</td>\n",
              "      <td>2.59029</td>\n",
              "    </tr>\n",
              "    <tr>\n",
              "      <th>sci.space</th>\n",
              "      <td>0.00000</td>\n",
              "      <td>0.000000</td>\n",
              "      <td>0.00000</td>\n",
              "      <td>0.00000</td>\n",
              "      <td>0.00000</td>\n",
              "      <td>0.00000</td>\n",
              "      <td>0.000000</td>\n",
              "      <td>0.00000</td>\n",
              "      <td>2.59029</td>\n",
              "      <td>0.000000</td>\n",
              "      <td>...</td>\n",
              "      <td>5.180581</td>\n",
              "      <td>0.00000</td>\n",
              "      <td>0.00000</td>\n",
              "      <td>0.000000</td>\n",
              "      <td>0.000000</td>\n",
              "      <td>0.000000</td>\n",
              "      <td>5.180581</td>\n",
              "      <td>0.000000</td>\n",
              "      <td>0.00000</td>\n",
              "      <td>0.00000</td>\n",
              "    </tr>\n",
              "  </tbody>\n",
              "</table>\n",
              "<p>5 rows × 44747 columns</p>\n",
              "</div>\n",
              "      <button class=\"colab-df-convert\" onclick=\"convertToInteractive('df-3e625879-81db-48cc-919d-2f302000813c')\"\n",
              "              title=\"Convert this dataframe to an interactive table.\"\n",
              "              style=\"display:none;\">\n",
              "        \n",
              "  <svg xmlns=\"http://www.w3.org/2000/svg\" height=\"24px\"viewBox=\"0 0 24 24\"\n",
              "       width=\"24px\">\n",
              "    <path d=\"M0 0h24v24H0V0z\" fill=\"none\"/>\n",
              "    <path d=\"M18.56 5.44l.94 2.06.94-2.06 2.06-.94-2.06-.94-.94-2.06-.94 2.06-2.06.94zm-11 1L8.5 8.5l.94-2.06 2.06-.94-2.06-.94L8.5 2.5l-.94 2.06-2.06.94zm10 10l.94 2.06.94-2.06 2.06-.94-2.06-.94-.94-2.06-.94 2.06-2.06.94z\"/><path d=\"M17.41 7.96l-1.37-1.37c-.4-.4-.92-.59-1.43-.59-.52 0-1.04.2-1.43.59L10.3 9.45l-7.72 7.72c-.78.78-.78 2.05 0 2.83L4 21.41c.39.39.9.59 1.41.59.51 0 1.02-.2 1.41-.59l7.78-7.78 2.81-2.81c.8-.78.8-2.07 0-2.86zM5.41 20L4 18.59l7.72-7.72 1.47 1.35L5.41 20z\"/>\n",
              "  </svg>\n",
              "      </button>\n",
              "      \n",
              "  <style>\n",
              "    .colab-df-container {\n",
              "      display:flex;\n",
              "      flex-wrap:wrap;\n",
              "      gap: 12px;\n",
              "    }\n",
              "\n",
              "    .colab-df-convert {\n",
              "      background-color: #E8F0FE;\n",
              "      border: none;\n",
              "      border-radius: 50%;\n",
              "      cursor: pointer;\n",
              "      display: none;\n",
              "      fill: #1967D2;\n",
              "      height: 32px;\n",
              "      padding: 0 0 0 0;\n",
              "      width: 32px;\n",
              "    }\n",
              "\n",
              "    .colab-df-convert:hover {\n",
              "      background-color: #E2EBFA;\n",
              "      box-shadow: 0px 1px 2px rgba(60, 64, 67, 0.3), 0px 1px 3px 1px rgba(60, 64, 67, 0.15);\n",
              "      fill: #174EA6;\n",
              "    }\n",
              "\n",
              "    [theme=dark] .colab-df-convert {\n",
              "      background-color: #3B4455;\n",
              "      fill: #D2E3FC;\n",
              "    }\n",
              "\n",
              "    [theme=dark] .colab-df-convert:hover {\n",
              "      background-color: #434B5C;\n",
              "      box-shadow: 0px 1px 3px 1px rgba(0, 0, 0, 0.15);\n",
              "      filter: drop-shadow(0px 1px 2px rgba(0, 0, 0, 0.3));\n",
              "      fill: #FFFFFF;\n",
              "    }\n",
              "  </style>\n",
              "\n",
              "      <script>\n",
              "        const buttonEl =\n",
              "          document.querySelector('#df-3e625879-81db-48cc-919d-2f302000813c button.colab-df-convert');\n",
              "        buttonEl.style.display =\n",
              "          google.colab.kernel.accessAllowed ? 'block' : 'none';\n",
              "\n",
              "        async function convertToInteractive(key) {\n",
              "          const element = document.querySelector('#df-3e625879-81db-48cc-919d-2f302000813c');\n",
              "          const dataTable =\n",
              "            await google.colab.kernel.invokeFunction('convertToInteractive',\n",
              "                                                     [key], {});\n",
              "          if (!dataTable) return;\n",
              "\n",
              "          const docLinkHtml = 'Like what you see? Visit the ' +\n",
              "            '<a target=\"_blank\" href=https://colab.research.google.com/notebooks/data_table.ipynb>data table notebook</a>'\n",
              "            + ' to learn more about interactive tables.';\n",
              "          element.innerHTML = '';\n",
              "          dataTable['output_type'] = 'display_data';\n",
              "          await google.colab.output.renderOutput(dataTable, element);\n",
              "          const docLink = document.createElement('div');\n",
              "          docLink.innerHTML = docLinkHtml;\n",
              "          element.appendChild(docLink);\n",
              "        }\n",
              "      </script>\n",
              "    </div>\n",
              "  </div>\n",
              "  "
            ]
          },
          "metadata": {},
          "execution_count": 175
        }
      ]
    },
    {
      "cell_type": "code",
      "source": [
        "tf.shape"
      ],
      "metadata": {
        "colab": {
          "base_uri": "https://localhost:8080/"
        },
        "id": "a97kBZMuLeWu",
        "outputId": "fbc8547b-2876-4d8a-f59a-87941822d298"
      },
      "execution_count": null,
      "outputs": [
        {
          "output_type": "execute_result",
          "data": {
            "text/plain": [
              "(5, 39243)"
            ]
          },
          "metadata": {},
          "execution_count": 105
        }
      ]
    },
    {
      "cell_type": "code",
      "source": [
        "tf_icf_df"
      ],
      "metadata": {
        "colab": {
          "base_uri": "https://localhost:8080/",
          "height": 299
        },
        "id": "L9aqATIRLr8D",
        "outputId": "bfb6bb36-45fa-4b2d-ace7-55ad7f0d536d"
      },
      "execution_count": null,
      "outputs": [
        {
          "output_type": "execute_result",
          "data": {
            "text/plain": [
              "     0         1        2        3        4        5         6        7      \\\n",
              "0  0.00000  5.180581  0.00000  0.00000  0.00000  0.00000  0.000000  2.59029   \n",
              "1  0.00000  0.000000  0.00000  0.00000  0.00000  0.00000  7.770871  0.00000   \n",
              "2  2.59029  0.000000  0.00000  2.59029  2.59029  0.00000  0.000000  0.00000   \n",
              "3  0.00000  0.000000  2.59029  0.00000  0.00000  2.59029  0.000000  0.00000   \n",
              "4  0.00000  0.000000  0.00000  0.00000  0.00000  0.00000  0.000000  0.00000   \n",
              "\n",
              "     8          9      ...     44737    44738    44739     44740      44741  \\\n",
              "0  0.00000  10.361162  ...  0.000000  0.00000  2.59029  5.037532  82.889293   \n",
              "1  0.00000   0.000000  ...  0.000000  2.59029  0.00000  0.839589   0.000000   \n",
              "2  0.00000   0.000000  ...  0.000000  0.00000  0.00000  0.000000   0.000000   \n",
              "3  0.00000   0.000000  ...  0.000000  0.00000  0.00000  0.000000   0.000000   \n",
              "4  2.59029   0.000000  ...  5.180581  0.00000  0.00000  0.000000   0.000000   \n",
              "\n",
              "      44742     44743      44744    44745    44746  \n",
              "0  0.000000  0.000000  10.361162  0.00000  0.00000  \n",
              "1  5.180581  0.000000   0.000000  2.59029  0.00000  \n",
              "2  0.000000  0.000000   0.000000  0.00000  0.00000  \n",
              "3  0.000000  0.000000   0.000000  0.00000  2.59029  \n",
              "4  0.000000  5.180581   0.000000  0.00000  0.00000  \n",
              "\n",
              "[5 rows x 44747 columns]"
            ],
            "text/html": [
              "\n",
              "  <div id=\"df-a9795880-e97a-430e-88e6-7a42ca6ea362\">\n",
              "    <div class=\"colab-df-container\">\n",
              "      <div>\n",
              "<style scoped>\n",
              "    .dataframe tbody tr th:only-of-type {\n",
              "        vertical-align: middle;\n",
              "    }\n",
              "\n",
              "    .dataframe tbody tr th {\n",
              "        vertical-align: top;\n",
              "    }\n",
              "\n",
              "    .dataframe thead th {\n",
              "        text-align: right;\n",
              "    }\n",
              "</style>\n",
              "<table border=\"1\" class=\"dataframe\">\n",
              "  <thead>\n",
              "    <tr style=\"text-align: right;\">\n",
              "      <th></th>\n",
              "      <th>0</th>\n",
              "      <th>1</th>\n",
              "      <th>2</th>\n",
              "      <th>3</th>\n",
              "      <th>4</th>\n",
              "      <th>5</th>\n",
              "      <th>6</th>\n",
              "      <th>7</th>\n",
              "      <th>8</th>\n",
              "      <th>9</th>\n",
              "      <th>...</th>\n",
              "      <th>44737</th>\n",
              "      <th>44738</th>\n",
              "      <th>44739</th>\n",
              "      <th>44740</th>\n",
              "      <th>44741</th>\n",
              "      <th>44742</th>\n",
              "      <th>44743</th>\n",
              "      <th>44744</th>\n",
              "      <th>44745</th>\n",
              "      <th>44746</th>\n",
              "    </tr>\n",
              "  </thead>\n",
              "  <tbody>\n",
              "    <tr>\n",
              "      <th>0</th>\n",
              "      <td>0.00000</td>\n",
              "      <td>5.180581</td>\n",
              "      <td>0.00000</td>\n",
              "      <td>0.00000</td>\n",
              "      <td>0.00000</td>\n",
              "      <td>0.00000</td>\n",
              "      <td>0.000000</td>\n",
              "      <td>2.59029</td>\n",
              "      <td>0.00000</td>\n",
              "      <td>10.361162</td>\n",
              "      <td>...</td>\n",
              "      <td>0.000000</td>\n",
              "      <td>0.00000</td>\n",
              "      <td>2.59029</td>\n",
              "      <td>5.037532</td>\n",
              "      <td>82.889293</td>\n",
              "      <td>0.000000</td>\n",
              "      <td>0.000000</td>\n",
              "      <td>10.361162</td>\n",
              "      <td>0.00000</td>\n",
              "      <td>0.00000</td>\n",
              "    </tr>\n",
              "    <tr>\n",
              "      <th>1</th>\n",
              "      <td>0.00000</td>\n",
              "      <td>0.000000</td>\n",
              "      <td>0.00000</td>\n",
              "      <td>0.00000</td>\n",
              "      <td>0.00000</td>\n",
              "      <td>0.00000</td>\n",
              "      <td>7.770871</td>\n",
              "      <td>0.00000</td>\n",
              "      <td>0.00000</td>\n",
              "      <td>0.000000</td>\n",
              "      <td>...</td>\n",
              "      <td>0.000000</td>\n",
              "      <td>2.59029</td>\n",
              "      <td>0.00000</td>\n",
              "      <td>0.839589</td>\n",
              "      <td>0.000000</td>\n",
              "      <td>5.180581</td>\n",
              "      <td>0.000000</td>\n",
              "      <td>0.000000</td>\n",
              "      <td>2.59029</td>\n",
              "      <td>0.00000</td>\n",
              "    </tr>\n",
              "    <tr>\n",
              "      <th>2</th>\n",
              "      <td>2.59029</td>\n",
              "      <td>0.000000</td>\n",
              "      <td>0.00000</td>\n",
              "      <td>2.59029</td>\n",
              "      <td>2.59029</td>\n",
              "      <td>0.00000</td>\n",
              "      <td>0.000000</td>\n",
              "      <td>0.00000</td>\n",
              "      <td>0.00000</td>\n",
              "      <td>0.000000</td>\n",
              "      <td>...</td>\n",
              "      <td>0.000000</td>\n",
              "      <td>0.00000</td>\n",
              "      <td>0.00000</td>\n",
              "      <td>0.000000</td>\n",
              "      <td>0.000000</td>\n",
              "      <td>0.000000</td>\n",
              "      <td>0.000000</td>\n",
              "      <td>0.000000</td>\n",
              "      <td>0.00000</td>\n",
              "      <td>0.00000</td>\n",
              "    </tr>\n",
              "    <tr>\n",
              "      <th>3</th>\n",
              "      <td>0.00000</td>\n",
              "      <td>0.000000</td>\n",
              "      <td>2.59029</td>\n",
              "      <td>0.00000</td>\n",
              "      <td>0.00000</td>\n",
              "      <td>2.59029</td>\n",
              "      <td>0.000000</td>\n",
              "      <td>0.00000</td>\n",
              "      <td>0.00000</td>\n",
              "      <td>0.000000</td>\n",
              "      <td>...</td>\n",
              "      <td>0.000000</td>\n",
              "      <td>0.00000</td>\n",
              "      <td>0.00000</td>\n",
              "      <td>0.000000</td>\n",
              "      <td>0.000000</td>\n",
              "      <td>0.000000</td>\n",
              "      <td>0.000000</td>\n",
              "      <td>0.000000</td>\n",
              "      <td>0.00000</td>\n",
              "      <td>2.59029</td>\n",
              "    </tr>\n",
              "    <tr>\n",
              "      <th>4</th>\n",
              "      <td>0.00000</td>\n",
              "      <td>0.000000</td>\n",
              "      <td>0.00000</td>\n",
              "      <td>0.00000</td>\n",
              "      <td>0.00000</td>\n",
              "      <td>0.00000</td>\n",
              "      <td>0.000000</td>\n",
              "      <td>0.00000</td>\n",
              "      <td>2.59029</td>\n",
              "      <td>0.000000</td>\n",
              "      <td>...</td>\n",
              "      <td>5.180581</td>\n",
              "      <td>0.00000</td>\n",
              "      <td>0.00000</td>\n",
              "      <td>0.000000</td>\n",
              "      <td>0.000000</td>\n",
              "      <td>0.000000</td>\n",
              "      <td>5.180581</td>\n",
              "      <td>0.000000</td>\n",
              "      <td>0.00000</td>\n",
              "      <td>0.00000</td>\n",
              "    </tr>\n",
              "  </tbody>\n",
              "</table>\n",
              "<p>5 rows × 44747 columns</p>\n",
              "</div>\n",
              "      <button class=\"colab-df-convert\" onclick=\"convertToInteractive('df-a9795880-e97a-430e-88e6-7a42ca6ea362')\"\n",
              "              title=\"Convert this dataframe to an interactive table.\"\n",
              "              style=\"display:none;\">\n",
              "        \n",
              "  <svg xmlns=\"http://www.w3.org/2000/svg\" height=\"24px\"viewBox=\"0 0 24 24\"\n",
              "       width=\"24px\">\n",
              "    <path d=\"M0 0h24v24H0V0z\" fill=\"none\"/>\n",
              "    <path d=\"M18.56 5.44l.94 2.06.94-2.06 2.06-.94-2.06-.94-.94-2.06-.94 2.06-2.06.94zm-11 1L8.5 8.5l.94-2.06 2.06-.94-2.06-.94L8.5 2.5l-.94 2.06-2.06.94zm10 10l.94 2.06.94-2.06 2.06-.94-2.06-.94-.94-2.06-.94 2.06-2.06.94z\"/><path d=\"M17.41 7.96l-1.37-1.37c-.4-.4-.92-.59-1.43-.59-.52 0-1.04.2-1.43.59L10.3 9.45l-7.72 7.72c-.78.78-.78 2.05 0 2.83L4 21.41c.39.39.9.59 1.41.59.51 0 1.02-.2 1.41-.59l7.78-7.78 2.81-2.81c.8-.78.8-2.07 0-2.86zM5.41 20L4 18.59l7.72-7.72 1.47 1.35L5.41 20z\"/>\n",
              "  </svg>\n",
              "      </button>\n",
              "      \n",
              "  <style>\n",
              "    .colab-df-container {\n",
              "      display:flex;\n",
              "      flex-wrap:wrap;\n",
              "      gap: 12px;\n",
              "    }\n",
              "\n",
              "    .colab-df-convert {\n",
              "      background-color: #E8F0FE;\n",
              "      border: none;\n",
              "      border-radius: 50%;\n",
              "      cursor: pointer;\n",
              "      display: none;\n",
              "      fill: #1967D2;\n",
              "      height: 32px;\n",
              "      padding: 0 0 0 0;\n",
              "      width: 32px;\n",
              "    }\n",
              "\n",
              "    .colab-df-convert:hover {\n",
              "      background-color: #E2EBFA;\n",
              "      box-shadow: 0px 1px 2px rgba(60, 64, 67, 0.3), 0px 1px 3px 1px rgba(60, 64, 67, 0.15);\n",
              "      fill: #174EA6;\n",
              "    }\n",
              "\n",
              "    [theme=dark] .colab-df-convert {\n",
              "      background-color: #3B4455;\n",
              "      fill: #D2E3FC;\n",
              "    }\n",
              "\n",
              "    [theme=dark] .colab-df-convert:hover {\n",
              "      background-color: #434B5C;\n",
              "      box-shadow: 0px 1px 3px 1px rgba(0, 0, 0, 0.15);\n",
              "      filter: drop-shadow(0px 1px 2px rgba(0, 0, 0, 0.3));\n",
              "      fill: #FFFFFF;\n",
              "    }\n",
              "  </style>\n",
              "\n",
              "      <script>\n",
              "        const buttonEl =\n",
              "          document.querySelector('#df-a9795880-e97a-430e-88e6-7a42ca6ea362 button.colab-df-convert');\n",
              "        buttonEl.style.display =\n",
              "          google.colab.kernel.accessAllowed ? 'block' : 'none';\n",
              "\n",
              "        async function convertToInteractive(key) {\n",
              "          const element = document.querySelector('#df-a9795880-e97a-430e-88e6-7a42ca6ea362');\n",
              "          const dataTable =\n",
              "            await google.colab.kernel.invokeFunction('convertToInteractive',\n",
              "                                                     [key], {});\n",
              "          if (!dataTable) return;\n",
              "\n",
              "          const docLinkHtml = 'Like what you see? Visit the ' +\n",
              "            '<a target=\"_blank\" href=https://colab.research.google.com/notebooks/data_table.ipynb>data table notebook</a>'\n",
              "            + ' to learn more about interactive tables.';\n",
              "          element.innerHTML = '';\n",
              "          dataTable['output_type'] = 'display_data';\n",
              "          await google.colab.output.renderOutput(dataTable, element);\n",
              "          const docLink = document.createElement('div');\n",
              "          docLink.innerHTML = docLinkHtml;\n",
              "          element.appendChild(docLink);\n",
              "        }\n",
              "      </script>\n",
              "    </div>\n",
              "  </div>\n",
              "  "
            ]
          },
          "metadata": {},
          "execution_count": 176
        }
      ]
    },
    {
      "cell_type": "code",
      "source": [
        "x_train1 = pd.DataFrame(x_train)\n",
        "x_train1"
      ],
      "metadata": {
        "colab": {
          "base_uri": "https://localhost:8080/",
          "height": 423
        },
        "id": "Lkw3or9MNt4G",
        "outputId": "c2e12873-0d00-4bb0-c02e-98b0f3cdc1d8"
      },
      "execution_count": null,
      "outputs": [
        {
          "output_type": "execute_result",
          "data": {
            "text/plain": [
              "                                                _file_\n",
              "242  xref cantaloupe srv cmu edu comp graphics comp...\n",
              "201  xref cantaloupe srv cmu edu sci astro sci spac...\n",
              "383  xref cantaloupe srv cmu edu talk abortion talk...\n",
              "769  newsgroups rec sport hockey path cantaloupe sr...\n",
              "546  path cantaloupe srv cmu edu crabapple srv cmu ...\n",
              "..                                                 ...\n",
              "302  xref cantaloupe srv cmu edu sci environment mi...\n",
              "710  xref cantaloupe srv cmu edu sci environment mi...\n",
              "145  xref cantaloupe srv cmu edu rec food cooking s...\n",
              "48   path cantaloupe srv cmu edu crabapple srv cmu ...\n",
              "772  xref cantaloupe srv cmu edu comp graphics comp...\n",
              "\n",
              "[3996 rows x 1 columns]"
            ],
            "text/html": [
              "\n",
              "  <div id=\"df-85c0c200-c35f-4ddd-ba31-201da6833cf1\">\n",
              "    <div class=\"colab-df-container\">\n",
              "      <div>\n",
              "<style scoped>\n",
              "    .dataframe tbody tr th:only-of-type {\n",
              "        vertical-align: middle;\n",
              "    }\n",
              "\n",
              "    .dataframe tbody tr th {\n",
              "        vertical-align: top;\n",
              "    }\n",
              "\n",
              "    .dataframe thead th {\n",
              "        text-align: right;\n",
              "    }\n",
              "</style>\n",
              "<table border=\"1\" class=\"dataframe\">\n",
              "  <thead>\n",
              "    <tr style=\"text-align: right;\">\n",
              "      <th></th>\n",
              "      <th>_file_</th>\n",
              "    </tr>\n",
              "  </thead>\n",
              "  <tbody>\n",
              "    <tr>\n",
              "      <th>242</th>\n",
              "      <td>xref cantaloupe srv cmu edu comp graphics comp...</td>\n",
              "    </tr>\n",
              "    <tr>\n",
              "      <th>201</th>\n",
              "      <td>xref cantaloupe srv cmu edu sci astro sci spac...</td>\n",
              "    </tr>\n",
              "    <tr>\n",
              "      <th>383</th>\n",
              "      <td>xref cantaloupe srv cmu edu talk abortion talk...</td>\n",
              "    </tr>\n",
              "    <tr>\n",
              "      <th>769</th>\n",
              "      <td>newsgroups rec sport hockey path cantaloupe sr...</td>\n",
              "    </tr>\n",
              "    <tr>\n",
              "      <th>546</th>\n",
              "      <td>path cantaloupe srv cmu edu crabapple srv cmu ...</td>\n",
              "    </tr>\n",
              "    <tr>\n",
              "      <th>...</th>\n",
              "      <td>...</td>\n",
              "    </tr>\n",
              "    <tr>\n",
              "      <th>302</th>\n",
              "      <td>xref cantaloupe srv cmu edu sci environment mi...</td>\n",
              "    </tr>\n",
              "    <tr>\n",
              "      <th>710</th>\n",
              "      <td>xref cantaloupe srv cmu edu sci environment mi...</td>\n",
              "    </tr>\n",
              "    <tr>\n",
              "      <th>145</th>\n",
              "      <td>xref cantaloupe srv cmu edu rec food cooking s...</td>\n",
              "    </tr>\n",
              "    <tr>\n",
              "      <th>48</th>\n",
              "      <td>path cantaloupe srv cmu edu crabapple srv cmu ...</td>\n",
              "    </tr>\n",
              "    <tr>\n",
              "      <th>772</th>\n",
              "      <td>xref cantaloupe srv cmu edu comp graphics comp...</td>\n",
              "    </tr>\n",
              "  </tbody>\n",
              "</table>\n",
              "<p>3996 rows × 1 columns</p>\n",
              "</div>\n",
              "      <button class=\"colab-df-convert\" onclick=\"convertToInteractive('df-85c0c200-c35f-4ddd-ba31-201da6833cf1')\"\n",
              "              title=\"Convert this dataframe to an interactive table.\"\n",
              "              style=\"display:none;\">\n",
              "        \n",
              "  <svg xmlns=\"http://www.w3.org/2000/svg\" height=\"24px\"viewBox=\"0 0 24 24\"\n",
              "       width=\"24px\">\n",
              "    <path d=\"M0 0h24v24H0V0z\" fill=\"none\"/>\n",
              "    <path d=\"M18.56 5.44l.94 2.06.94-2.06 2.06-.94-2.06-.94-.94-2.06-.94 2.06-2.06.94zm-11 1L8.5 8.5l.94-2.06 2.06-.94-2.06-.94L8.5 2.5l-.94 2.06-2.06.94zm10 10l.94 2.06.94-2.06 2.06-.94-2.06-.94-.94-2.06-.94 2.06-2.06.94z\"/><path d=\"M17.41 7.96l-1.37-1.37c-.4-.4-.92-.59-1.43-.59-.52 0-1.04.2-1.43.59L10.3 9.45l-7.72 7.72c-.78.78-.78 2.05 0 2.83L4 21.41c.39.39.9.59 1.41.59.51 0 1.02-.2 1.41-.59l7.78-7.78 2.81-2.81c.8-.78.8-2.07 0-2.86zM5.41 20L4 18.59l7.72-7.72 1.47 1.35L5.41 20z\"/>\n",
              "  </svg>\n",
              "      </button>\n",
              "      \n",
              "  <style>\n",
              "    .colab-df-container {\n",
              "      display:flex;\n",
              "      flex-wrap:wrap;\n",
              "      gap: 12px;\n",
              "    }\n",
              "\n",
              "    .colab-df-convert {\n",
              "      background-color: #E8F0FE;\n",
              "      border: none;\n",
              "      border-radius: 50%;\n",
              "      cursor: pointer;\n",
              "      display: none;\n",
              "      fill: #1967D2;\n",
              "      height: 32px;\n",
              "      padding: 0 0 0 0;\n",
              "      width: 32px;\n",
              "    }\n",
              "\n",
              "    .colab-df-convert:hover {\n",
              "      background-color: #E2EBFA;\n",
              "      box-shadow: 0px 1px 2px rgba(60, 64, 67, 0.3), 0px 1px 3px 1px rgba(60, 64, 67, 0.15);\n",
              "      fill: #174EA6;\n",
              "    }\n",
              "\n",
              "    [theme=dark] .colab-df-convert {\n",
              "      background-color: #3B4455;\n",
              "      fill: #D2E3FC;\n",
              "    }\n",
              "\n",
              "    [theme=dark] .colab-df-convert:hover {\n",
              "      background-color: #434B5C;\n",
              "      box-shadow: 0px 1px 3px 1px rgba(0, 0, 0, 0.15);\n",
              "      filter: drop-shadow(0px 1px 2px rgba(0, 0, 0, 0.3));\n",
              "      fill: #FFFFFF;\n",
              "    }\n",
              "  </style>\n",
              "\n",
              "      <script>\n",
              "        const buttonEl =\n",
              "          document.querySelector('#df-85c0c200-c35f-4ddd-ba31-201da6833cf1 button.colab-df-convert');\n",
              "        buttonEl.style.display =\n",
              "          google.colab.kernel.accessAllowed ? 'block' : 'none';\n",
              "\n",
              "        async function convertToInteractive(key) {\n",
              "          const element = document.querySelector('#df-85c0c200-c35f-4ddd-ba31-201da6833cf1');\n",
              "          const dataTable =\n",
              "            await google.colab.kernel.invokeFunction('convertToInteractive',\n",
              "                                                     [key], {});\n",
              "          if (!dataTable) return;\n",
              "\n",
              "          const docLinkHtml = 'Like what you see? Visit the ' +\n",
              "            '<a target=\"_blank\" href=https://colab.research.google.com/notebooks/data_table.ipynb>data table notebook</a>'\n",
              "            + ' to learn more about interactive tables.';\n",
              "          element.innerHTML = '';\n",
              "          dataTable['output_type'] = 'display_data';\n",
              "          await google.colab.output.renderOutput(dataTable, element);\n",
              "          const docLink = document.createElement('div');\n",
              "          docLink.innerHTML = docLinkHtml;\n",
              "          element.appendChild(docLink);\n",
              "        }\n",
              "      </script>\n",
              "    </div>\n",
              "  </div>\n",
              "  "
            ]
          },
          "metadata": {},
          "execution_count": 177
        }
      ]
    },
    {
      "cell_type": "code",
      "source": [
        "x_train1['_file_'] = x_train1['_file_'].apply(lambda x:x.split())\n",
        "x_train1 = x_train1['_file_'].values"
      ],
      "metadata": {
        "id": "KBs-nxAsOjbD"
      },
      "execution_count": null,
      "outputs": []
    },
    {
      "cell_type": "code",
      "source": [
        "x_train1"
      ],
      "metadata": {
        "colab": {
          "base_uri": "https://localhost:8080/"
        },
        "id": "5vttM6htOq5J",
        "outputId": "d5087a6b-4b57-4242-d59d-c685d7eb5428"
      },
      "execution_count": null,
      "outputs": [
        {
          "output_type": "execute_result",
          "data": {
            "text/plain": [
              "array([list(['newsgroups', 'comp', 'graphics', 'path', 'cantaloupe', 'srv', 'cmu', 'edu', 'das', 'news', 'harvard', 'edu', 'noc', 'near', 'net', 'nic', 'umass', 'edu', 'umassd', 'edu', 'ulowell', 'ulowell', 'edu', 'kseethar', 'kseethar', 'ulowell', 'edu', 'krishnan', 'seetharaman', 'subject', 'looking', 'info', 'quadratic', 'spline', 'bezier', 'conversion', 'message', 'bnna', 'ulowell', 'ulowell', 'edu', 'sender', 'usenet', 'ulowell', 'ulowell', 'edu', 'news', 'manager', 'ulowell', 'organization', 'umass', 'lowell', 'computer', 'science', 'date', 'sat', 'may', 'gmt', 'lines', 'looking', 'algorithm', 'pointers', 'papers', 'convert', 'quadratic', 'splines', 'cubic', 'splines', 'beizeirs', 'source', 'available', 'public', 'domain', 'please', 'let', 'know', 'thanks', 'much', 'krishnan', 'seetharaman', 'mail', 'kseethar', 'ulowell', 'edu', 'phone', 'snail', 'mail', 'department', 'computer', 'science', 'umass', 'lowell', 'lowell']),\n",
              "       list(['xref', 'cantaloupe', 'srv', 'cmu', 'edu', 'talk', 'abortion', 'talk', 'politics', 'misc', 'talk', 'religion', 'misc', 'newsgroups', 'talk', 'abortion', 'talk', 'politics', 'misc', 'talk', 'religion', 'misc', 'path', 'cantaloupe', 'srv', 'cmu', 'edu', 'crabapple', 'srv', 'cmu', 'edu', 'ece', 'cmu', 'edu', 'europa', 'eng', 'gtefsd', 'com', 'howland', 'reston', 'ans', 'net', 'zaphod', 'mps', 'ohio', 'state', 'edu', 'malgudi', 'oar', 'net', 'news', 'ans', 'net', 'newsgate', 'watson', 'ibm', 'com', 'yktnews', 'watson', 'ibm', 'com', 'news', 'margoli', 'watson', 'ibm', 'com', 'larry', 'margolis', 'subject', 'abortion', 'private', 'health', 'coverage', 'letters', 'regarding', 'sender', 'news', 'watson', 'ibm', 'com', 'nntp', 'news', 'poster', 'message', 'jfls', 'watson', 'ibm', 'com', 'date', 'thu', 'apr', 'gmt', 'news', 'software', 'ibm', 'vishnepolsky', 'rogers', 'lines', 'reply', 'margoli', 'watson', 'ibm', 'com', 'disclaimer', 'posting', 'represents', 'poster', 'views', 'necessarily', 'ibm', 'references', 'qid', 'agate', 'berkeley', 'edu', 'idkn', 'mmt', 'watson', 'ibm', 'com', 'qjt', 'agate', 'berkeley', 'edu', 'nntp', 'posting', 'host', 'margoli', 'watson', 'ibm', 'com', 'organization', 'village', 'waterbed', 'qjt', 'agate', 'berkeley', 'edu', 'dzkriz', 'ocf', 'berkeley', 'edu', 'dennis', 'kriz', 'writes', 'article', 'idkn', 'mmt', 'watson', 'ibm', 'com', 'margoli', 'watson', 'ibm', 'com', 'larry', 'margolis', 'writes', 'qid', 'agate', 'berkeley', 'edu', 'dzkriz', 'ocf', 'berkeley', 'edu', 'dennis', 'kriz', 'writes', 'recently', 'become', 'aware', 'health', 'insurance', 'includes', 'coverage', 'abortion', 'strongly', 'oppose', 'abortion', 'reasons', 'conscience', 'disturbs', 'deeply', 'know', 'premiums', 'may', 'used', 'pay', 'sincerely', 'believe', 'murder', 'would', 'like', 'request', 'exempted', 'abortion', 'coverage', 'health', 'premiums', 'reduced', 'accordingly', 'reduced', 'abortion', 'lot', 'cheaper', 'pre', 'natal', 'care', 'birth', 'wanted', 'pay', 'higher', 'premiums', 'would', 'result', 'everyone', 'using', 'health', 'insurance', 'pay', 'abortion', 'instead', 'elected', 'carry', 'term', 'pretty', 'sure', 'insurance', 'carrier', 'would', 'happy', 'take', 'money', 'one', 'pays', 'insurance', 'pay', 'coverage', 'one', 'expects', 'fears', 'one', 'might', 'need', 'true', 'reasonable', 'assumption', 'person', 'named', 'dennis', 'never', 'need', 'abortion', 'therefore', 'already', 'paying', 'problem', 'larry', 'margolis', 'margoli', 'yktvmv', 'bitnet', 'margoli', 'watson', 'ibm', 'com', 'internet']),\n",
              "       list(['newsgroups', 'comp', 'graphics', 'path', 'cantaloupe', 'srv', 'cmu', 'edu', 'magnesium', 'club', 'cmu', 'edu', 'news', 'sei', 'cmu', 'edu', 'ece', 'cmu', 'edu', 'europa', 'eng', 'gtefsd', 'com', 'howland', 'reston', 'ans', 'net', 'zaphod', 'mps', 'ohio', 'state', 'edu', 'utexas', 'edu', 'utnut', 'utcsri', 'newsflash', 'concordia', 'sifon', 'broue', 'beaver', 'beaver', 'rot', 'andre', 'boivert', 'subject', 'photoshop', 'windows', 'message', 'uhim', 'jfq', 'rot', 'organization', 'groupe', 'recherche', 'operationnelle', 'telecommunication', 'rot', 'inc', 'newsreader', 'tin', 'version', 'date', 'wed', 'apr', 'gmt', 'lines', 'looking', 'comments', 'people', 'used', 'heard', 'photoshop', 'windows', 'good', 'compare', 'mac', 'version', 'lot', 'bugs', 'heard', 'windows', 'version', 'needs', 'fine', 'tuning', 'comments', 'would', 'greatly', 'appreciated', 'thank', 'andre', 'boisvert', 'beaver', 'rot']),\n",
              "       ...,\n",
              "       list(['xref', 'cantaloupe', 'srv', 'cmu', 'edu', 'rec', 'food', 'cooking', 'sci', 'med', 'path', 'cantaloupe', 'srv', 'cmu', 'edu', 'rochester', 'udel', 'gatech', 'rutgers', 'bobsbox', 'rent', 'com', 'graphics', 'lim', 'lim', 'graphics', 'rent', 'com', 'julie', 'lim', 'newsgroups', 'rec', 'food', 'cooking', 'sci', 'med', 'subject', 'msg', 'sensitivity', 'superstition', 'message', 'irn', 'graphics', 'rent', 'com', 'date', 'apr', 'gmt', 'references', 'michael', 'vislab', 'iastate', 'edu', 'organization', 'graphics', 'bbs', 'gif', 'animation', 'lines', 'michael', 'iastate', 'edu', 'michael', 'huang', 'writes', 'msg', 'common', 'many', 'food', 'eat', 'including', 'chinese', 'though', 'oriental', 'restaurants', 'might', 'put', 'tad', 'much', 'noticed', 'eat', 'chinese', 'food', 'restaurants', 'usually', 'get', 'slight', 'headache', 'ununsual', 'thirst', 'afterwards', 'happens', 'many', 'friends', 'relatives', 'heh', 'eat', 'chinese', 'food', 'time', 'home', 'use', 'msg', 'cooking', 'heck', 'seem', 'feel', 'like', 'every', 'time', 'eat', 'including', 'cafeteria', 'work', 'half', 'time', 'headache', 'intensifies', 'nothing', 'make', 'away', 'except', 'throwing', 'ick', 'might', 'imagine', 'eat', 'lot', 'guess', 'tolerance', 'food', 'additives', 'plummeted', 'since', 'switched', 'eating', 'mostly', 'steamed', 'veggies', 'easy', 'fix', 'even', 'mention', 'happened', 'last', 'time', 'ate', 'corned', 'beef', 'oops', 'late', 'graphics', 'bbs', 'better', 'sharp', 'stick', 'eye', 'internet', 'lim', 'graphics', 'rent', 'com', 'julie', 'lim', 'uucp', 'rutgers', 'bobsbox', 'graphics', 'lim']),\n",
              "       list(['path', 'cantaloupe', 'srv', 'cmu', 'edu', 'crabapple', 'srv', 'cmu', 'edu', 'ece', 'cmu', 'edu', 'europa', 'eng', 'gtefsd', 'com', 'howland', 'reston', 'ans', 'net', 'usc', 'nic', 'csu', 'net', 'vmsb', 'csupomona', 'edu', 'cvadrmaz', 'newsgroups', 'comp', 'graphics', 'subject', 'autocad', 'tiff', 'done', 'message', 'apr', 'vmsb', 'csupomona', 'edu', 'cvadrmaz', 'vmsb', 'csupomona', 'edu', 'date', 'apr', 'pst', 'organization', 'california', 'state', 'polytechnic', 'university', 'pomona', 'nntp', 'posting', 'host', 'acvax', 'nntp', 'posting', 'user', 'cvadrmaz', 'lines', 'hello', 'realize', 'might', 'faq', 'ask', 'since', 'get', 'change', 'read', 'newsgroup', 'often', 'anyways', 'senior', 'project', 'need', 'convert', 'autocad', 'file', 'tiff', 'file', 'please', 'need', 'anyone', 'telling', 'autocad', 'file', 'vector', 'file', 'tiff', 'bit', 'map', 'since', 'heard', 'times', 'already', 'would', 'like', 'know', 'anyone', 'knows', 'least', 'point', 'right', 'direction', 'help', 'greatly', 'appreciated', 'matt', 'georgi']),\n",
              "       list(['xref', 'cantaloupe', 'srv', 'cmu', 'edu', 'comp', 'graphics', 'comp', 'sys', 'amiga', 'graphics', 'comp', 'graphics', 'animation', 'path', 'cantaloupe', 'srv', 'cmu', 'edu', 'crabapple', 'srv', 'cmu', 'edu', 'andrew', 'cmu', 'edu', 'news', 'sei', 'cmu', 'edu', 'ece', 'cmu', 'edu', 'europa', 'eng', 'gtefsd', 'com', 'howland', 'reston', 'ans', 'net', 'zaphod', 'mps', 'ohio', 'state', 'edu', 'sdd', 'com', 'nigel', 'msen', 'com', 'math', 'berlin', 'fauern', 'ira', 'uka', 'uni', 'karlsruhe', 'uni', 'karlsruhe', 'bosch', 'bosch', 'uni', 'karlsruhe', 'gerhard', 'bosch', 'newsgroups', 'comp', 'graphics', 'comp', 'sys', 'amiga', 'graphics', 'comp', 'graphics', 'animation', 'subject', 'newsgroup', 'split', 'date', 'apr', 'gmt', 'organization', 'university', 'karlsruhe', 'germany', 'lines', 'distribution', 'world', 'message', 'uni', 'karlsruhe', 'references', 'kod', 'hawnews', 'watson', 'ibm', 'com', 'apr', 'ruu', 'apr', 'unocal', 'com', 'quvdoinn', 'srvr', 'engin', 'umich', 'edu', 'nerone', 'apr', 'sylvester', 'utexas', 'edu', 'nntp', 'posting', 'host', 'ifh', 'bau', 'verm', 'uni', 'karlsruhe', 'mime', 'version', 'content', 'type', 'text', 'plain', 'charset', 'iso', 'content', 'transfer', 'encoding', 'bit', 'article', 'nerone', 'apr', 'sylvester', 'utexas', 'edu', 'nerone', 'ccwf', 'utexas', 'edu', 'michael', 'nerone', 'writes', 'article', 'quvdoinn', 'srvr', 'engin', 'umich', 'edu', 'tdawson', 'engin', 'umich', 'edu', 'chris', 'herringshaw', 'writes', 'concerning', 'proposed', 'newsgroup', 'split', 'personally', 'favor', 'learn', 'awful', 'lot', 'aspects', 'graphics', 'reading', 'group', 'code', 'hardware', 'algorithms', 'think', 'making', 'different', 'groups', 'wate', 'result', 'posts', 'week', 'per', 'group', 'kind', 'like', 'convenience', 'one', 'big', 'forum', 'discussing', 'aspects', 'graphics', 'anyone', 'else', 'feel', 'way', 'curious', 'must', 'agree', 'dizzying', 'number', 'amiga', 'newsgroups', 'already', 'addition', 'issues', 'fall', 'cleanly', 'one', 'categories', 'also', 'readily', 'observable', 'current', 'spectrum', 'amiga', 'groups', 'already', 'plagued', 'mega', 'crossposting', 'thus', 'group', 'split', 'would', 'likelihood', 'bring', 'structured', 'environment', 'michael', 'nerone', 'shall', 'customary', 'lack', 'tact', 'internet', 'address', 'since', 'asked', 'obliged', 'nerone', 'ccwf', 'utexas', 'edu', 'pardon', 'sagredo', 'fictional', 'char', 'galileo', 'might', 'nice', 'know', 'possible', 'different', 'hard', 'ware', 'platforms', 'usually', 'hard', 'ware', 'fixed', 'case', 'either', 'unix', 'dos', 'much', 'interested', 'amiga', 'news', 'case', 'software', 'get', 'comercial', 'software', 'mentioned', 'newgroup', 'run', 'unix', 'platform', 'interested', 'information', 'would', 'suggest', 'split', 'group', 'see', 'problem', 'cross', 'posting', 'need', 'read', 'newgroups', 'half', 'size', 'would', 'important', 'faq', 'would', 'reduce', 'traffic', 'lot', 'sincerely', 'gerhard', 'writing', 'privat', 'person', 'reflecting', 'opinions', 'inst', 'hydromechanics', 'university', 'karlsruhe', 'land', 'baden', 'wuerttemberg', 'federal', 'republic', 'germany', 'european', 'community', 'address', 'phone', 'number', 'get', 'touch', 'everything', 'saying', 'writing', 'typing', 'always', 'wrong', 'statement', 'necessary', 'avoid', 'law', 'suits', 'dipl', 'ing', 'gerhard', 'bosch', 'voice', 'institute', 'hydromechanic', 'fax', 'university', 'karlsruhe', 'kaiserstrasse', 'karlsruhe', 'germany', 'internet', 'bosch', 'ifh', 'bau', 'verm', 'uni', 'karlsruhe', 'bitnet', 'dkauni', 'bitnet'])],\n",
              "      dtype=object)"
            ]
          },
          "metadata": {},
          "execution_count": 121
        }
      ]
    },
    {
      "cell_type": "code",
      "source": [
        "x_test1 = pd.DataFrame(x_test)\n",
        "x_test1['_file_'] = x_test1['_file_'].apply(lambda x:x.split())\n",
        "x_test1 = x_test1['_file_'].values"
      ],
      "metadata": {
        "id": "bfoPNdoeWVGO"
      },
      "execution_count": null,
      "outputs": []
    },
    {
      "cell_type": "code",
      "source": [
        "y_train1 = y_train.values"
      ],
      "metadata": {
        "id": "M8qlZ2K_QXBE"
      },
      "execution_count": null,
      "outputs": []
    },
    {
      "cell_type": "code",
      "source": [
        "y_test1 = y_test.values"
      ],
      "metadata": {
        "id": "3isJyeZVWirI"
      },
      "execution_count": null,
      "outputs": []
    },
    {
      "cell_type": "markdown",
      "source": [
        "### Building the matrix"
      ],
      "metadata": {
        "id": "zpCl-sYlaWiM"
      }
    },
    {
      "cell_type": "code",
      "source": [
        "def matrix(x_train,y_train):\n",
        "  arr = np.zeros((len(x_train),len(k_top_ele)))\n",
        "  for i in range(len(x_train)):\n",
        "    d = np.unique(x_train[i],return_counts=True)\n",
        "    # arr=[]\n",
        "    for j in range(len(k_top_ele)):\n",
        "      \n",
        "      if k_top_ele[j] in d[0]:\n",
        "        # print(m[y_train[i]],j)\n",
        "        # print(tf_icf[m[y_train[i]]][j])\n",
        "        # arr[i][j] = tf_icf[m[y_train[i]]][int(kf[j])]\n",
        "        ind = np.where(d[0] == k_top_ele[j])\n",
        "        arr[i][j] = d[1][ind]\n",
        "        \n",
        "\n",
        "  return arr\n",
        "\n",
        "\n",
        "mat = matrix(x_train1,y_train1)\n",
        "mat"
      ],
      "metadata": {
        "colab": {
          "base_uri": "https://localhost:8080/"
        },
        "id": "rkJPCBI-MKyO",
        "outputId": "91d930a2-d19a-42b8-94af-4295aba0fccd"
      },
      "execution_count": null,
      "outputs": [
        {
          "output_type": "execute_result",
          "data": {
            "text/plain": [
              "array([[0., 0., 0., ..., 0., 0., 0.],\n",
              "       [0., 0., 0., ..., 0., 0., 0.],\n",
              "       [0., 0., 7., ..., 0., 0., 0.],\n",
              "       ...,\n",
              "       [0., 0., 0., ..., 0., 0., 0.],\n",
              "       [0., 0., 0., ..., 0., 0., 0.],\n",
              "       [0., 0., 0., ..., 0., 0., 0.]])"
            ]
          },
          "metadata": {},
          "execution_count": 354
        }
      ]
    },
    {
      "cell_type": "code",
      "source": [
        "mat1 = matrix(x_test1,y_test1)\n",
        "mat1"
      ],
      "metadata": {
        "colab": {
          "base_uri": "https://localhost:8080/"
        },
        "id": "vlSUNdhPWLQN",
        "outputId": "31480b78-4131-45f0-d59c-9ea85b76b5af"
      },
      "execution_count": null,
      "outputs": [
        {
          "output_type": "execute_result",
          "data": {
            "text/plain": [
              "array([[0., 0., 0., ..., 0., 0., 0.],\n",
              "       [0., 0., 0., ..., 0., 0., 0.],\n",
              "       [0., 0., 0., ..., 0., 0., 0.],\n",
              "       ...,\n",
              "       [0., 0., 0., ..., 0., 0., 0.],\n",
              "       [0., 0., 0., ..., 0., 0., 0.],\n",
              "       [0., 1., 0., ..., 0., 0., 0.]])"
            ]
          },
          "metadata": {},
          "execution_count": 355
        }
      ]
    },
    {
      "cell_type": "code",
      "source": [
        "mat1.shape"
      ],
      "metadata": {
        "colab": {
          "base_uri": "https://localhost:8080/"
        },
        "id": "5LbbIdRXV6Bf",
        "outputId": "05047c3a-cfe8-4da4-8b3c-c873b249fe9d"
      },
      "execution_count": null,
      "outputs": [
        {
          "output_type": "execute_result",
          "data": {
            "text/plain": [
              "(999, 250)"
            ]
          },
          "metadata": {},
          "execution_count": 271
        }
      ]
    },
    {
      "cell_type": "code",
      "source": [
        "len(attributes)"
      ],
      "metadata": {
        "colab": {
          "base_uri": "https://localhost:8080/"
        },
        "id": "7d1eUwGgRmsQ",
        "outputId": "50a0a17c-7f6d-4bae-c555-b6f7799c01b9"
      },
      "execution_count": null,
      "outputs": [
        {
          "output_type": "execute_result",
          "data": {
            "text/plain": [
              "39243"
            ]
          },
          "metadata": {},
          "execution_count": 128
        }
      ]
    },
    {
      "cell_type": "code",
      "source": [
        "tf_icf"
      ],
      "metadata": {
        "colab": {
          "base_uri": "https://localhost:8080/"
        },
        "id": "njSFhDyTQkWA",
        "outputId": "2ac3498d-f67a-4f3a-e361-302ea413ee4c"
      },
      "execution_count": null,
      "outputs": [
        {
          "output_type": "execute_result",
          "data": {
            "text/plain": [
              "array([[0.        , 3.21887582, 0.        , ..., 4.82831374, 0.        ,\n",
              "        0.        ],\n",
              "       [0.        , 0.        , 0.        , ..., 0.        , 1.60943791,\n",
              "        0.        ],\n",
              "       [1.60943791, 0.        , 0.        , ..., 0.        , 0.        ,\n",
              "        0.        ],\n",
              "       [0.        , 0.        , 1.60943791, ..., 0.        , 0.        ,\n",
              "        1.60943791],\n",
              "       [0.        , 0.        , 0.        , ..., 0.        , 0.        ,\n",
              "        0.        ]])"
            ]
          },
          "metadata": {},
          "execution_count": 126
        }
      ]
    },
    {
      "cell_type": "markdown",
      "source": [
        "Extracting k features"
      ],
      "metadata": {
        "id": "gZmy7OtTLFIE"
      }
    },
    {
      "cell_type": "code",
      "source": [
        "k_features=[]\n",
        "#k=5#it should be user input\n",
        "k=int(input(\"enter value\"))\n",
        "i=0\n",
        "while(i<5):\n",
        "  max=np.array(tf_icf[i]).argsort()[-k:][::-1]\n",
        "  print(max)\n",
        "  print(max)\n",
        "  k_features.append(max)\n",
        "  i+=1\n"
      ],
      "metadata": {
        "id": "4gteMOo4LQUP"
      },
      "execution_count": null,
      "outputs": []
    },
    {
      "cell_type": "code",
      "source": [
        "k_features"
      ],
      "metadata": {
        "id": "pPUxJj-HL5d1"
      },
      "execution_count": null,
      "outputs": []
    },
    {
      "cell_type": "code",
      "source": [
        "kf = np.array([])\n",
        "\n",
        "for i in range(len(k_features)):\n",
        "  kf = np.append(kf,k_features[i])\n",
        "\n",
        "kf"
      ],
      "metadata": {
        "id": "e4jGl0oEUFzn"
      },
      "execution_count": null,
      "outputs": []
    },
    {
      "cell_type": "code",
      "source": [
        "kf = np.unique(kf)\n",
        "kf"
      ],
      "metadata": {
        "id": "S7V-4W6VUdgm"
      },
      "execution_count": null,
      "outputs": []
    },
    {
      "cell_type": "code",
      "source": [
        "len(kf)"
      ],
      "metadata": {
        "colab": {
          "base_uri": "https://localhost:8080/"
        },
        "id": "Kf9e1-JgUi-v",
        "outputId": "526c04b4-912b-476f-bf97-c2b17706eeb4"
      },
      "execution_count": null,
      "outputs": [
        {
          "output_type": "execute_result",
          "data": {
            "text/plain": [
              "250"
            ]
          },
          "metadata": {},
          "execution_count": 266
        }
      ]
    },
    {
      "cell_type": "code",
      "source": [
        "k_top_ele=[]\n",
        "z=len(kf)\n",
        "i=0\n",
        "while(i<z):\n",
        "  # for j in range(len(kf[i])):\n",
        "  k_top_ele.append(attributes[int(kf[i])])\n",
        "  i+=1\n"
      ],
      "metadata": {
        "id": "2X1KD3IuNDjG"
      },
      "execution_count": null,
      "outputs": []
    },
    {
      "cell_type": "code",
      "source": [
        "k_top_ele=list(np.unique(k_top_ele))"
      ],
      "metadata": {
        "id": "ZAHtMi8fZnNB"
      },
      "execution_count": null,
      "outputs": []
    },
    {
      "cell_type": "code",
      "source": [
        "k_top_ele"
      ],
      "metadata": {
        "id": "SO480VTKZ2jt"
      },
      "execution_count": null,
      "outputs": []
    },
    {
      "cell_type": "markdown",
      "source": [
        "### mapping to the label"
      ],
      "metadata": {
        "id": "aQkrtRMvavU0"
      }
    },
    {
      "cell_type": "code",
      "source": [
        "y_train2 = []\n",
        "for i in range(len(y_train1)):\n",
        "  y_train2.append(m[y_train1[i]])\n",
        "\n",
        "y_test2 = []\n",
        "for i in range(len(y_test1)):\n",
        "  y_test2.append(m[y_test1[i]])"
      ],
      "metadata": {
        "id": "PbMCeZ0Tad2v"
      },
      "execution_count": null,
      "outputs": []
    },
    {
      "cell_type": "markdown",
      "source": [
        "### segregating according to class"
      ],
      "metadata": {
        "id": "gJPmmnWFa7dX"
      }
    },
    {
      "cell_type": "code",
      "source": [
        "dic={}\n",
        "for i in range(len(mat)):\n",
        "  if(dic.get(y_train2[i])==None):\n",
        "    dic[y_train2[i]]=[]\n",
        "  dic[y_train2[i]].append(mat[i])"
      ],
      "metadata": {
        "id": "H7RZy6iQZ8tO"
      },
      "execution_count": null,
      "outputs": []
    },
    {
      "cell_type": "markdown",
      "source": [
        "### Finding count of terms in each class"
      ],
      "metadata": {
        "id": "g4Zq1ZQzbDTm"
      }
    },
    {
      "cell_type": "code",
      "source": [
        "dic1={}\n",
        "for i in range(5):\n",
        "  temp = []\n",
        "  for j in range(1,len(dic[i])):\n",
        "    # print(temp)\n",
        "    if(len(temp)==0):\n",
        "      # print(dic[i][j-1])\n",
        "      temp = np.add(dic[i][j],dic[i][j-1])\n",
        "    else:\n",
        "      temp = np.add(dic[i][j],temp)\n",
        "\n",
        "  dic1[i] = temp\n",
        "\n",
        "\n"
      ],
      "metadata": {
        "id": "hypouobCehfy"
      },
      "execution_count": null,
      "outputs": []
    },
    {
      "cell_type": "markdown",
      "source": [
        "### Similarly for the test data"
      ],
      "metadata": {
        "id": "1jZbmhmnbITL"
      }
    },
    {
      "cell_type": "code",
      "source": [
        "dic2={}\n",
        "for i in range(len(mat1)):\n",
        "  if(dic2.get(y_test2[i])==None):\n",
        "    dic2[y_test2[i]]=[]\n",
        "  dic2[y_test2[i]].append(mat1[i])"
      ],
      "metadata": {
        "id": "zcvxnk_upFJH"
      },
      "execution_count": null,
      "outputs": []
    },
    {
      "cell_type": "code",
      "source": [
        "dic4={}\n",
        "for i in range(len(mat1)):\n",
        "  if(dic4.get(y_test2[i])==None):\n",
        "    dic4[y_test2[i]]=[]\n",
        "  dic4[y_test2[i]].append(x_test1[i])"
      ],
      "metadata": {
        "id": "7PqBZEMTvzlG"
      },
      "execution_count": null,
      "outputs": []
    },
    {
      "cell_type": "code",
      "source": [
        "dic3={}\n",
        "for i in range(5):\n",
        "  temp = []\n",
        "  for j in range(1,len(dic2[i])):\n",
        "    # print(temp)\n",
        "    if(len(temp)==0):\n",
        "      # print(dic[i][j-1])\n",
        "      temp = np.add(dic2[i][j],dic2[i][j-1])\n",
        "    else:\n",
        "      temp = np.add(dic2[i][j],temp)\n",
        "\n",
        "  dic3[i] = temp"
      ],
      "metadata": {
        "id": "Lol54i7GpQRt"
      },
      "execution_count": null,
      "outputs": []
    },
    {
      "cell_type": "code",
      "source": [
        "dic1"
      ],
      "metadata": {
        "id": "ZaAoSk9Rn6mq"
      },
      "execution_count": null,
      "outputs": []
    },
    {
      "cell_type": "markdown",
      "source": [
        "### Naive Bayes Train"
      ],
      "metadata": {
        "id": "FIppBqD4WshB"
      }
    },
    {
      "cell_type": "code",
      "source": [
        "\n",
        "def train(dic,dic1,k_top_ele):\n",
        "  prior = {} \n",
        "  cond_prob = {} \n",
        "\n",
        "  N = 0 \n",
        "  for i in range(5):\n",
        "      N += len(dic[i])\n",
        "      \n",
        "  for i in range(5):\n",
        "      d = len(dic[i]) \n",
        "      \n",
        "      \n",
        "      if i not in prior:\n",
        "          prior[i] = d/N \n",
        "      \n",
        "    \n",
        "      if i not in cond_prob:\n",
        "          cond_prob[i] = {}\n",
        "      \n",
        "      summ = 0\n",
        "      for j in range(len(dic1[i])):\n",
        "          summ += dic1[i][j] \n",
        "      summ += len(k_top_ele) \n",
        "          \n",
        "      for j in range(len(dic1[i])):\n",
        "          tmp = dic1[i][j] + 1 \n",
        "          cond_prob[i][j] = tmp/summ\n",
        "\n",
        "  return prior,cond_prob"
      ],
      "metadata": {
        "id": "TOx6xop2dczp"
      },
      "execution_count": 13,
      "outputs": []
    },
    {
      "cell_type": "markdown",
      "source": [
        "### Naive Bayes test"
      ],
      "metadata": {
        "id": "EV4WKklGWyZ1"
      }
    },
    {
      "cell_type": "code",
      "source": [
        "def test(dic2,dic4,prior,cond_prob,dic3,k_top_ele):\n",
        "  acc_count = 0 \n",
        "\n",
        "  N_test = 0 \n",
        "  for i in range(5):\n",
        "      N_test += len(dic2[i])\n",
        "\n",
        "  ground = [] \n",
        "  predicted = [] \n",
        "      \n",
        "  for i in range(5):\n",
        "      test_docs = dic2[i]\n",
        "      t2 = dic4[i]\n",
        "      for s in range(len(test_docs)):\n",
        "          \n",
        "          \n",
        "          vocab2 = set()\n",
        "          \n",
        "          \n",
        "\n",
        "          for word in t2[s]:\n",
        "              vocab2.add(word)\n",
        "              \n",
        "          \n",
        "          score = {}\n",
        "          \n",
        "          max1 = -float(\"inf\") \n",
        "          max1_class = 0 \n",
        "          \n",
        "          for c in range(5):\n",
        "              if c not in score:\n",
        "                  score[c] = 0\n",
        "              \n",
        "              score[c] += prior[c]\n",
        "                  \n",
        "              summ = 0\n",
        "              for j in range(len(dic3[i])):\n",
        "                summ += dic3[i][j] \n",
        "              summ += len(k_top_ele) #Smoothing (Denominator)\n",
        "\n",
        "              for t in vocab2:\n",
        "                  if t in k_top_ele:\n",
        "                      # print(t)\n",
        "                      # print(type(k_top_ele))\n",
        "                      ind = k_top_ele.index(t)\n",
        "                      # print(ind)\n",
        "                      score[c] += cond_prob[c][ind]\n",
        "                  else: #If the doc contains a term not in the training doc, we use smoothing to avoid -inf\n",
        "                      tmp = (1/summ)*100\n",
        "                      score[c] += tmp\n",
        "                      \n",
        "              if (score[c] > max1):\n",
        "                  max1 = score[c]\n",
        "                  max1_class = c\n",
        "          \n",
        "          predicted.append(max1_class)\n",
        "          ground.append(i)\n",
        "          \n",
        "          if (max1_class == i): #Predicted class is same as actual class\n",
        "              acc_count += 1\n",
        "  mat2 = np.zeros((5, 5))\n",
        "\n",
        "  for it in range(len(predicted)):\n",
        "      mat2[int(ground[it])][int(predicted[it])] += 1\n",
        "\n",
        "  df = pd.DataFrame(mat2)\n",
        "  print(\"True vs Predicted\")\n",
        "  print(mat2)\n",
        "\n",
        "  return acc_count,N_test"
      ],
      "metadata": {
        "id": "S3HPI8g2pAaz"
      },
      "execution_count": 12,
      "outputs": []
    },
    {
      "cell_type": "markdown",
      "source": [
        "### Mapping to the labels"
      ],
      "metadata": {
        "id": "bXR6tL5jZFGN"
      }
    },
    {
      "cell_type": "code",
      "source": [
        "m = {\n",
        "    \"comp.graphics\":0,\n",
        "     \"sci.med\":1,\n",
        "     \"talk.politics.misc\":2,\n",
        "     \"rec.sport.hockey\":3,\n",
        "     \"sci.space\":4\n",
        "}"
      ],
      "metadata": {
        "id": "cwz6mKpvQK5N"
      },
      "execution_count": 14,
      "outputs": []
    },
    {
      "cell_type": "markdown",
      "source": [
        "### Function to implement the naive bayes for different train test sizes"
      ],
      "metadata": {
        "id": "Tbq1WiClYDkV"
      }
    },
    {
      "cell_type": "code",
      "source": [
        "def size(t):\n",
        "\n",
        "  from sklearn.model_selection import train_test_split\n",
        "  y=df['label']\n",
        "  x_train,x_test,y_train,y_test=train_test_split(df._file_,df.label,random_state=21,test_size=t)\n",
        "  res=pd.concat([x_train,y_train],axis=1)\n",
        "  \n",
        "  df_fin=res.groupby('label')['_file_'].apply(list).reset_index(name=\"_file\")\n",
        "  li=[]\n",
        "  for i in range(len(df_fin)) :\n",
        "    flat = []\n",
        "    j=0\n",
        "    for sublist in df_fin.loc[i, \"_file\"]:\n",
        "        # if j==0:\n",
        "        #   print(sublist.split())\n",
        "        # print(sublist)\n",
        "        for w in sublist.split():\n",
        "          flat.append(w)\n",
        "        # for item in sublist:\n",
        "        #     flat.append(item)\n",
        "        j+=1\n",
        "    li.append(flat)\n",
        "  \n",
        "  df_fin['terms'] = li\n",
        "  df_fin.drop(['_file'],axis=1,inplace=True)\n",
        "  temp_list=[]\n",
        "  temp_list2=[]\n",
        "  for i in range(len(df_fin)) :\n",
        "    frq_list={}\n",
        "    for word in df_fin.loc[i, \"terms\"]:\n",
        "        if word not in frq_list.keys():\n",
        "          frq_list[word]=1\n",
        "        else:\n",
        "          frq_list[word]+=1\n",
        "    frq_list=dict( sorted(frq_list.items(), key=lambda x:(x[1], x[0]),reverse=True))\n",
        "    temp_list2.append(frq_list)\n",
        "\n",
        "  temp_list=df_fin['terms']\n",
        "  df_fin['attri'] = temp_list\n",
        "  df_fin['term_frq'] = temp_list2\n",
        "  df_fin.index=df_fin[\"label\"]\n",
        "  labels=y.unique()\n",
        "\n",
        "  attributes=[]\n",
        "  for index,row in df_fin.iterrows():\n",
        "    attributes.extend(row[\"attri\"])\n",
        "  attributes=np.unique(attributes)\n",
        "\n",
        "  tf=pd.DataFrame(columns=attributes)\n",
        "  for x in labels:\n",
        "    for y in attributes:\n",
        "      if y in df_fin.loc[x].term_frq.keys():\n",
        "        tf.at[x,y]=df_fin.loc[x].term_frq[y]\n",
        "  tf=tf.fillna(0)\n",
        "\n",
        "\n",
        "  icf_list=[]\n",
        "  for c in tf.columns:\n",
        "    temp=0\n",
        "    for index,row in tf.iterrows():\n",
        "      if row[c]!=0:\n",
        "        temp+=1\n",
        "    icf_list.append(math.log(len(labels)/temp))\n",
        "\n",
        "  i=0\n",
        "  for j in tf.columns:\n",
        "    tf[j]=tf[j]*icf_list[i]\n",
        "    i=i+1\n",
        "\n",
        "  tf_icf=tf.to_numpy()\n",
        "  tf_icf_df=pd.DataFrame(tf_icf)\n",
        "  tf_icf_df.to_csv('file.csv')\n",
        "\n",
        "  x_train1 = pd.DataFrame(x_train)\n",
        "\n",
        "  x_train1['_file_'] = x_train1['_file_'].apply(lambda x:x.split())\n",
        "  x_train1 = x_train1['_file_'].values\n",
        "\n",
        "  x_test1 = pd.DataFrame(x_test)\n",
        "  x_test1['_file_'] = x_test1['_file_'].apply(lambda x:x.split())\n",
        "  x_test1 = x_test1['_file_'].values\n",
        "\n",
        "  y_train1 = y_train.values\n",
        "  y_test1 = y_test.values\n",
        "\n",
        "  k_features=[]\n",
        "  #k=5#it should be user input\n",
        "  k=int(input(\"enter value\"))\n",
        "  i=0\n",
        "  while(i<5):\n",
        "    max=np.array(tf_icf[i]).argsort()[-k:][::-1]\n",
        "    # print(max)\n",
        "    # print(max)\n",
        "    k_features.append(max)\n",
        "    i+=1\n",
        "\n",
        "  kf = np.array([])\n",
        "\n",
        "  for i in range(len(k_features)):\n",
        "    kf = np.append(kf,k_features[i])\n",
        "\n",
        "  kf = np.unique(kf)\n",
        "\n",
        "  k_top_ele=[]\n",
        "  z=len(kf)\n",
        "  i=0\n",
        "  while(i<z):\n",
        "    # for j in range(len(kf[i])):\n",
        "    k_top_ele.append(attributes[int(kf[i])])\n",
        "    i+=1\n",
        "\n",
        "\n",
        "\n",
        "  def matrix(x_train,y_train):\n",
        "    arr = np.zeros((len(x_train),len(k_top_ele)))\n",
        "    for i in range(len(x_train)):\n",
        "      d = np.unique(x_train[i],return_counts=True)\n",
        "      # arr=[]\n",
        "      for j in range(len(k_top_ele)):\n",
        "        \n",
        "        if k_top_ele[j] in d[0]:\n",
        "          # print(m[y_train[i]],j)\n",
        "          # print(tf_icf[m[y_train[i]]][j])\n",
        "          # arr[i][j] = tf_icf[m[y_train[i]]][int(kf[j])]\n",
        "          ind = np.where(d[0] == k_top_ele[j])\n",
        "          arr[i][j] = d[1][ind]\n",
        "\n",
        "    return arr\n",
        "\n",
        "\n",
        "  mat = matrix(x_train1,y_train1)\n",
        "\n",
        "\n",
        "  mat1 = matrix(x_test1,y_test1)\n",
        "\n",
        "\n",
        "\n",
        "  y_train2 = []\n",
        "  for i in range(len(y_train1)):\n",
        "    y_train2.append(m[y_train1[i]])\n",
        "\n",
        "  y_test2 = []\n",
        "  for i in range(len(y_test1)):\n",
        "    y_test2.append(m[y_test1[i]])\n",
        "\n",
        "  dic={}\n",
        "  for i in range(len(mat)):\n",
        "    if(dic.get(y_train2[i])==None):\n",
        "      dic[y_train2[i]]=[]\n",
        "    dic[y_train2[i]].append(mat[i])\n",
        "\n",
        "  dic1={}\n",
        "  for i in range(5):\n",
        "    temp = []\n",
        "    for j in range(1,len(dic[i])):\n",
        "      # print(temp)\n",
        "      if(len(temp)==0):\n",
        "        # print(dic[i][j-1])\n",
        "        temp = np.add(dic[i][j],dic[i][j-1])\n",
        "      else:\n",
        "        temp = np.add(dic[i][j],temp)\n",
        "\n",
        "    dic1[i] = temp\n",
        "\n",
        "  dic2={}\n",
        "  for i in range(len(mat1)):\n",
        "    if(dic2.get(y_test2[i])==None):\n",
        "      dic2[y_test2[i]]=[]\n",
        "    dic2[y_test2[i]].append(mat1[i])\n",
        "\n",
        "\n",
        "  dic4={}\n",
        "  for i in range(len(mat1)):\n",
        "    if(dic4.get(y_test2[i])==None):\n",
        "      dic4[y_test2[i]]=[]\n",
        "    dic4[y_test2[i]].append(x_test1[i])\n",
        "\n",
        "  dic3={}\n",
        "  for i in range(5):\n",
        "    temp = []\n",
        "    for j in range(1,len(dic2[i])):\n",
        "      # print(temp)\n",
        "      if(len(temp)==0):\n",
        "        # print(dic[i][j-1])\n",
        "        temp = np.add(dic2[i][j],dic2[i][j-1])\n",
        "      else:\n",
        "        temp = np.add(dic2[i][j],temp)\n",
        "\n",
        "    dic3[i] = temp\n",
        "\n",
        "  prior,cond_prob = train(dic,dic1,k_top_ele)\n",
        "\n",
        "  acc_count,N_test = test(dic2,dic4,prior,cond_prob,dic3,k_top_ele)\n",
        "  print(\"Accuracy:\", (acc_count/N_test)*100, \"%\")\n",
        "  "
      ],
      "metadata": {
        "id": "kdX6Ggb2EmNZ"
      },
      "execution_count": 15,
      "outputs": []
    },
    {
      "cell_type": "code",
      "source": [
        "size(0.5)"
      ],
      "metadata": {
        "colab": {
          "base_uri": "https://localhost:8080/"
        },
        "id": "nLbXReiFsp7O",
        "outputId": "9c073920-47e0-4e6b-b6f8-468b012ed0bb"
      },
      "execution_count": 16,
      "outputs": [
        {
          "output_type": "stream",
          "name": "stdout",
          "text": [
            "enter value400\n",
            "True vs Predicted\n",
            "[[427.   1.  22.   1.  32.]\n",
            " [  4. 325.   0.   0. 184.]\n",
            " [  6.   4. 462.   0.  21.]\n",
            " [  0.   0.   0. 522.   0.]\n",
            " [  1.   1.   0.   0. 485.]]\n",
            "Accuracy: 88.91112890312249 %\n"
          ]
        }
      ]
    },
    {
      "cell_type": "code",
      "source": [
        "size(0.3)"
      ],
      "metadata": {
        "colab": {
          "base_uri": "https://localhost:8080/"
        },
        "id": "SB4eMII200vY",
        "outputId": "bcec0a05-df85-4ede-f3a5-9f4dc8f5b91e"
      },
      "execution_count": null,
      "outputs": [
        {
          "output_type": "stream",
          "name": "stdout",
          "text": [
            "enter value400\n",
            "True vs Predicted\n",
            "[[214.   1.   2.   1.  76.]\n",
            " [  0. 182.   0.   0. 124.]\n",
            " [  4.   1. 262.   2.  33.]\n",
            " [  0.   0.   0. 328.   0.]\n",
            " [  1.   1.   0.   0. 267.]]\n",
            "Accuracy: 83.58905937291527 %\n"
          ]
        }
      ]
    },
    {
      "cell_type": "code",
      "source": [
        "size(0.2)"
      ],
      "metadata": {
        "colab": {
          "base_uri": "https://localhost:8080/"
        },
        "id": "c7MkjsMv2OCL",
        "outputId": "82f686df-20ce-410d-b118-392fde4e1497"
      },
      "execution_count": null,
      "outputs": [
        {
          "output_type": "stream",
          "name": "stdout",
          "text": [
            "enter value400\n",
            "True vs Predicted\n",
            "[[155.   0.   1.   1.  28.]\n",
            " [  0. 127.   0.   0.  74.]\n",
            " [  3.   2. 174.   1.  29.]\n",
            " [  0.   0.   0. 228.   0.]\n",
            " [  0.   1.   0.   0. 175.]]\n",
            "Accuracy: 85.98598598598599 %\n"
          ]
        }
      ]
    }
  ]
}