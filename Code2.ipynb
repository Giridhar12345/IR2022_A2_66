{
  "nbformat": 4,
  "nbformat_minor": 0,
  "metadata": {
    "colab": {
      "name": "Untitled1.ipynb",
      "provenance": []
    },
    "kernelspec": {
      "name": "python3",
      "display_name": "Python 3"
    },
    "language_info": {
      "name": "python"
    }
  },
  "cells": [
    {
      "cell_type": "code",
      "execution_count": null,
      "metadata": {
        "id": "mSsjqF89vVA8"
      },
      "outputs": [],
      "source": [
        "import math\n",
        "import numpy as np\n",
        "import pandas as pd\n",
        "import matplotlib.pyplot as plt"
      ]
    },
    {
      "cell_type": "code",
      "source": [
        "df = pd.read_csv('/content/drive/MyDrive/IR/IR-assignment-2-data.txt',sep=' ', header=None)"
      ],
      "metadata": {
        "id": "egcA4pouv6YN"
      },
      "execution_count": null,
      "outputs": []
    },
    {
      "cell_type": "markdown",
      "source": [
        "Q2_1"
      ],
      "metadata": {
        "id": "hW-hQSd7R287"
      }
    },
    {
      "cell_type": "code",
      "source": [
        "df2 = df[df[1] == \"qid:4\"]"
      ],
      "metadata": {
        "id": "PwiKZrZBwkSv"
      },
      "execution_count": null,
      "outputs": []
    },
    {
      "cell_type": "code",
      "source": [
        "print(df2)"
      ],
      "metadata": {
        "colab": {
          "base_uri": "https://localhost:8080/"
        },
        "id": "3YDd6VTq7aK-",
        "outputId": "3d1a9e59-b51b-4afd-bb52-c341cf16cbf2"
      },
      "execution_count": null,
      "outputs": [
        {
          "output_type": "stream",
          "name": "stdout",
          "text": [
            "     0      1    2    3    4    5    6           7    8           9    ...  \\\n",
            "0      0  qid:4  1:3  2:0  3:2  4:0  5:3         6:1  7:0  8:0.666667  ...   \n",
            "1      0  qid:4  1:3  2:0  3:3  4:0  5:3         6:1  7:0         8:1  ...   \n",
            "2      0  qid:4  1:3  2:0  3:2  4:0  5:3         6:1  7:0  8:0.666667  ...   \n",
            "3      0  qid:4  1:3  2:0  3:3  4:0  5:3         6:1  7:0         8:1  ...   \n",
            "4      1  qid:4  1:3  2:0  3:3  4:0  5:3         6:1  7:0         8:1  ...   \n",
            "..   ...    ...  ...  ...  ...  ...  ...         ...  ...         ...  ...   \n",
            "98     0  qid:4  1:3  2:0  3:2  4:0  5:3         6:1  7:0  8:0.666667  ...   \n",
            "99     1  qid:4  1:3  2:0  3:3  4:2  5:3         6:1  7:0         8:1  ...   \n",
            "100    2  qid:4  1:2  2:0  3:2  4:0  5:2  6:0.666667  7:0  8:0.666667  ...   \n",
            "101    1  qid:4  1:2  2:0  3:2  4:0  5:2  6:0.666667  7:0  8:0.666667  ...   \n",
            "102    0  qid:4  1:3  2:0  3:2  4:0  5:3         6:1  7:0  8:0.666667  ...   \n",
            "\n",
            "          129     130        131        132      133      134    135      136  \\\n",
            "0       128:2   129:9    130:124   131:4678   132:54   133:74  134:0    135:0   \n",
            "1       128:0   129:8    130:122    131:508  132:131  133:136  134:0    135:0   \n",
            "2       128:2   129:8    130:115    131:508   132:51   133:70  134:0    135:0   \n",
            "3      128:82  129:17    130:122    131:508   132:83  133:107  134:0   135:10   \n",
            "4      128:11   129:8    130:121    131:508  132:103  133:120  134:0    135:0   \n",
            "..        ...     ...        ...        ...      ...      ...    ...      ...   \n",
            "98     128:35   129:1    130:153   131:4872    132:9   133:55  134:0    135:0   \n",
            "99    128:367   129:6    130:153   131:2383   132:18   133:99  134:0   135:16   \n",
            "100     128:0   129:0  130:49182  131:26966   132:15   133:69  134:0  135:193   \n",
            "101     128:0   129:1  130:42877  131:26562   132:12   133:24  134:0   135:56   \n",
            "102  128:1415  129:14   130:5334   131:6434    132:4   133:17  134:0    135:0   \n",
            "\n",
            "                      137 138  \n",
            "0                   136:0 NaN  \n",
            "1                   136:0 NaN  \n",
            "2                   136:0 NaN  \n",
            "3               136:13.35 NaN  \n",
            "4                   136:0 NaN  \n",
            "..                    ...  ..  \n",
            "98                  136:0 NaN  \n",
            "99   136:11.3166666666667 NaN  \n",
            "100  136:21.9355595468361 NaN  \n",
            "101  136:62.9206042323688 NaN  \n",
            "102                 136:0 NaN  \n",
            "\n",
            "[103 rows x 139 columns]\n"
          ]
        }
      ]
    },
    {
      "cell_type": "markdown",
      "source": [
        "Q2_2"
      ],
      "metadata": {
        "id": "8lGotIFrexAT"
      }
    },
    {
      "cell_type": "code",
      "source": [
        "size_of_labels = []\n",
        "relevance = df2[0].unique()\n",
        "number_of_files = 1\n",
        "print(relevance)\n",
        "for i in relevance:\n",
        "  size_label = 0\n",
        "  for j in df2[0]:\n",
        "    if j == i:\n",
        "      size_label += 1\n",
        "  print(size_label)\n",
        "  number_of_files *= math.factorial(size_label)\n",
        "  size_of_labels.append(size_label)\n",
        "\n",
        "final = df2.sort_values(by = 0, ascending = False)\n",
        "final = final.reset_index(drop = True)\n",
        "print(\"number of files on rearranging the query-url pairs in order of max DCG\", number_of_files)  \n",
        "final.to_csv('Q2_2.csv')"
      ],
      "metadata": {
        "colab": {
          "base_uri": "https://localhost:8080/"
        },
        "id": "tx0paRctJ6JL",
        "outputId": "cdc843a9-e97f-47f9-ec0a-750d06691705"
      },
      "execution_count": null,
      "outputs": [
        {
          "output_type": "stream",
          "name": "stdout",
          "text": [
            "[0 1 3 2]\n",
            "59\n",
            "26\n",
            "1\n",
            "17\n",
            "number of files on rearranging the query-url pairs in order of max DCG 19893497375938370599826047614905329896936840170566570588205180312704857992695193482412686565431050240000000000000000000000\n"
          ]
        }
      ]
    },
    {
      "cell_type": "markdown",
      "source": [
        "Q2_3"
      ],
      "metadata": {
        "id": "g8NxTWKkSAvG"
      }
    },
    {
      "cell_type": "code",
      "source": [
        "def DCG(df, n):\n",
        "  result = 0;\n",
        "  for i in range(n):\n",
        "    result = result + (pow(2, df[0][i]) - 1)/(np.log2(i+2))\n",
        "  return result"
      ],
      "metadata": {
        "id": "Ezv2cTL1x9OY"
      },
      "execution_count": null,
      "outputs": []
    },
    {
      "cell_type": "code",
      "source": [
        "print(\"nDCG at 50:\",DCG(df2,50)/DCG(final,50))\n",
        "print(\"nDCG for whole dataset:\",DCG(df2,len(df2))/DCG(final,len(df2)))"
      ],
      "metadata": {
        "colab": {
          "base_uri": "https://localhost:8080/"
        },
        "id": "S-08T330yKT0",
        "outputId": "3b5c7f00-971c-44ed-8915-7e44ff6a0cf7"
      },
      "execution_count": null,
      "outputs": [
        {
          "output_type": "stream",
          "name": "stdout",
          "text": [
            "nDCG at 50: 0.35612494416255847\n",
            "nDCG for whole dataset: 0.5784691984582591\n"
          ]
        }
      ]
    },
    {
      "cell_type": "markdown",
      "source": [
        "Q2_4"
      ],
      "metadata": {
        "id": "t7Vb9HDtSQVp"
      }
    },
    {
      "cell_type": "code",
      "source": [
        "files = open(r'/content/drive/MyDrive/IR/IR-assignment-2-data.txt',encoding=\"unicode_escape\")\n",
        "file_val = files.readlines()"
      ],
      "metadata": {
        "id": "WyZafmwyymRB"
      },
      "execution_count": null,
      "outputs": []
    },
    {
      "cell_type": "code",
      "source": [
        "feedbk=[]\n",
        "fture_score=[]\n",
        "for entry in file_val:\n",
        "    if entry[entry.find(\"qid:\")+4:entry.find(\"1:\")-1]==\"4\":\n",
        "        loc=entry.find(\"75:\")\n",
        "        loc1=entry.find(\"76:\")\n",
        "        feedbk.append(int(entry[0]))\n",
        "        fture_score.append(float(entry[loc+3:loc1-1]))\n",
        "        if float(entry[loc+3:loc1-1])==0.0:\n",
        "            print(entry)"
      ],
      "metadata": {
        "id": "qVnI5rdzymOC"
      },
      "execution_count": null,
      "outputs": []
    },
    {
      "cell_type": "code",
      "source": [
        "relevance_label = []\n",
        "feature_75 = []\n",
        "for entry in file_val:\n",
        "  i = entry.find(\"qid:\")+4\n",
        "  j = entry.find(\"1:\")-1\n",
        "  if entry[i:j]==\"4\":\n",
        "    x = float(entry[entry.find(\"75:\")+3:entry.find(\"76:\")-1])\n",
        "    relevance_label.append(int(entry[0]))\n",
        "    feature_75.append(x)"
      ],
      "metadata": {
        "id": "Q4gGMsj-CSvW"
      },
      "execution_count": null,
      "outputs": []
    },
    {
      "cell_type": "code",
      "source": [
        "final_rel = [x for _,x in sorted(zip(feature_75,relevance_label),reverse=True)]\n",
        "precision = []\n",
        "recall = []\n",
        "relevant_no = 0\n",
        "for i in range(len(final_rel)):\n",
        "  if final_rel[i] != 0:\n",
        "    relevant_no += 1\n",
        "total = 0\n",
        "cur_rel = 0\n",
        "for i in range(len(final_rel)):\n",
        "  total += 1\n",
        "  if final_rel[i] != 0:\n",
        "    cur_rel += 1\n",
        "  prec = cur_rel/total\n",
        "  rec = cur_rel/relevant_no\n",
        "  precision.append(prec)\n",
        "  recall.append(rec)\n",
        "plt.title(\"Precision-Recall curve for query qid:4\")\n",
        "plt.ylabel(\"Precision\")\n",
        "plt.xlabel(\"Recall\")\n",
        "plt.plot(recall,precision)\n",
        "plt.show()   "
      ],
      "metadata": {
        "colab": {
          "base_uri": "https://localhost:8080/",
          "height": 295
        },
        "id": "dCrPz1CmF1_7",
        "outputId": "9ce64f7e-92c1-4898-f73f-fb23f335a411"
      },
      "execution_count": null,
      "outputs": [
        {
          "output_type": "display_data",
          "data": {
            "text/plain": [
              "<Figure size 432x288 with 1 Axes>"
            ],
            "image/png": "[encoded data removed]"
          },
          "metadata": {
            "needs_background": "light"
          }
        }
      ]
    },
    {
      "cell_type": "code",
      "source": [
        ""
      ],
      "metadata": {
        "id": "dMGpKNM8F3Gt"
      },
      "execution_count": null,
      "outputs": []
    }
  ]
}